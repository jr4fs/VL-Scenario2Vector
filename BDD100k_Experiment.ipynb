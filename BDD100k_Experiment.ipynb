{
  "nbformat": 4,
  "nbformat_minor": 0,
  "metadata": {
    "accelerator": "GPU",
    "colab": {
      "name": "BDD100k Experiment.ipynb",
      "provenance": [],
      "collapsed_sections": []
    },
    "kernelspec": {
      "display_name": "Python 3",
      "language": "python",
      "name": "python3"
    },
    "language_info": {
      "codemirror_mode": {
        "name": "ipython",
        "version": 3
      },
      "file_extension": ".py",
      "mimetype": "text/x-python",
      "name": "python",
      "nbconvert_exporter": "python",
      "pygments_lexer": "ipython3",
      "version": "3.6.7"
    }
  },
  "cells": [
    {
      "cell_type": "markdown",
      "metadata": {
        "id": "W-buGJ2c-_Cc"
      },
      "source": [
        "# Imports"
      ]
    },
    {
      "cell_type": "code",
      "metadata": {
        "colab": {
          "base_uri": "https://localhost:8080/"
        },
        "id": "UJ8g3ItK00CH",
        "outputId": "8dfd4f74-80bf-4467-bac5-26d0be72980c"
      },
      "source": [
        "!pip install benepar"
      ],
      "execution_count": null,
      "outputs": [
        {
          "output_type": "stream",
          "text": [
            "Collecting benepar\n",
            "\u001b[?25l  Downloading https://files.pythonhosted.org/packages/a0/7b/6cd9c60e1613a5ad388b4f883fa2aeaddcd8a7ad0a8d5ed87e0d23f159d8/benepar-0.1.2.tar.gz (72kB)\n",
            "\r\u001b[K     |████▌                           | 10kB 24.1MB/s eta 0:00:01\r\u001b[K     |█████████                       | 20kB 28.6MB/s eta 0:00:01\r\u001b[K     |█████████████▌                  | 30kB 15.7MB/s eta 0:00:01\r\u001b[K     |██████████████████              | 40kB 11.0MB/s eta 0:00:01\r\u001b[K     |██████████████████████▌         | 51kB 8.2MB/s eta 0:00:01\r\u001b[K     |███████████████████████████     | 61kB 8.5MB/s eta 0:00:01\r\u001b[K     |███████████████████████████████▌| 71kB 8.8MB/s eta 0:00:01\r\u001b[K     |████████████████████████████████| 81kB 5.9MB/s \n",
            "\u001b[?25hRequirement already satisfied: cython in /usr/local/lib/python3.6/dist-packages (from benepar) (0.29.21)\n",
            "Requirement already satisfied: numpy in /usr/local/lib/python3.6/dist-packages (from benepar) (1.18.5)\n",
            "Requirement already satisfied: nltk>=3.2 in /usr/local/lib/python3.6/dist-packages (from benepar) (3.2.5)\n",
            "Requirement already satisfied: six in /usr/local/lib/python3.6/dist-packages (from nltk>=3.2->benepar) (1.15.0)\n",
            "Building wheels for collected packages: benepar\n",
            "  Building wheel for benepar (setup.py) ... \u001b[?25l\u001b[?25hdone\n",
            "  Created wheel for benepar: filename=benepar-0.1.2-cp36-cp36m-linux_x86_64.whl size=104452 sha256=bdd8e2b1af62119305f2680feaf73cab10786945f3251151b1dc3bbabede3ed8\n",
            "  Stored in directory: /root/.cache/pip/wheels/c6/f5/06/d88543b19a9b326007d7538298a139e994b1d2eecb003bf5af\n",
            "Successfully built benepar\n",
            "Installing collected packages: benepar\n",
            "Successfully installed benepar-0.1.2\n"
          ],
          "name": "stdout"
        }
      ]
    },
    {
      "cell_type": "code",
      "metadata": {
        "colab": {
          "base_uri": "https://localhost:8080/"
        },
        "id": "kCAJ5vlX01Ld",
        "outputId": "94467ba6-360b-427a-f5fa-4ce4230db8ac"
      },
      "source": [
        "!pip install tensorflow==1.13.1"
      ],
      "execution_count": null,
      "outputs": [
        {
          "output_type": "stream",
          "text": [
            "Collecting tensorflow==1.13.1\n",
            "\u001b[?25l  Downloading https://files.pythonhosted.org/packages/77/63/a9fa76de8dffe7455304c4ed635be4aa9c0bacef6e0633d87d5f54530c5c/tensorflow-1.13.1-cp36-cp36m-manylinux1_x86_64.whl (92.5MB)\n",
            "\u001b[K     |████████████████████████████████| 92.5MB 31kB/s \n",
            "\u001b[?25hRequirement already satisfied: keras-preprocessing>=1.0.5 in /usr/local/lib/python3.6/dist-packages (from tensorflow==1.13.1) (1.1.2)\n",
            "Requirement already satisfied: numpy>=1.13.3 in /usr/local/lib/python3.6/dist-packages (from tensorflow==1.13.1) (1.18.5)\n",
            "Requirement already satisfied: protobuf>=3.6.1 in /usr/local/lib/python3.6/dist-packages (from tensorflow==1.13.1) (3.12.4)\n",
            "Collecting tensorflow-estimator<1.14.0rc0,>=1.13.0\n",
            "\u001b[?25l  Downloading https://files.pythonhosted.org/packages/bb/48/13f49fc3fa0fdf916aa1419013bb8f2ad09674c275b4046d5ee669a46873/tensorflow_estimator-1.13.0-py2.py3-none-any.whl (367kB)\n",
            "\u001b[K     |████████████████████████████████| 368kB 44.7MB/s \n",
            "\u001b[?25hRequirement already satisfied: absl-py>=0.1.6 in /usr/local/lib/python3.6/dist-packages (from tensorflow==1.13.1) (0.10.0)\n",
            "Requirement already satisfied: astor>=0.6.0 in /usr/local/lib/python3.6/dist-packages (from tensorflow==1.13.1) (0.8.1)\n",
            "Collecting tensorboard<1.14.0,>=1.13.0\n",
            "\u001b[?25l  Downloading https://files.pythonhosted.org/packages/0f/39/bdd75b08a6fba41f098b6cb091b9e8c7a80e1b4d679a581a0ccd17b10373/tensorboard-1.13.1-py3-none-any.whl (3.2MB)\n",
            "\u001b[K     |████████████████████████████████| 3.2MB 56.8MB/s \n",
            "\u001b[?25hCollecting keras-applications>=1.0.6\n",
            "\u001b[?25l  Downloading https://files.pythonhosted.org/packages/71/e3/19762fdfc62877ae9102edf6342d71b28fbfd9dea3d2f96a882ce099b03f/Keras_Applications-1.0.8-py3-none-any.whl (50kB)\n",
            "\u001b[K     |████████████████████████████████| 51kB 8.1MB/s \n",
            "\u001b[?25hRequirement already satisfied: grpcio>=1.8.6 in /usr/local/lib/python3.6/dist-packages (from tensorflow==1.13.1) (1.33.2)\n",
            "Requirement already satisfied: wheel>=0.26 in /usr/local/lib/python3.6/dist-packages (from tensorflow==1.13.1) (0.35.1)\n",
            "Requirement already satisfied: six>=1.10.0 in /usr/local/lib/python3.6/dist-packages (from tensorflow==1.13.1) (1.15.0)\n",
            "Requirement already satisfied: termcolor>=1.1.0 in /usr/local/lib/python3.6/dist-packages (from tensorflow==1.13.1) (1.1.0)\n",
            "Requirement already satisfied: gast>=0.2.0 in /usr/local/lib/python3.6/dist-packages (from tensorflow==1.13.1) (0.3.3)\n",
            "Requirement already satisfied: setuptools in /usr/local/lib/python3.6/dist-packages (from protobuf>=3.6.1->tensorflow==1.13.1) (50.3.2)\n",
            "Collecting mock>=2.0.0\n",
            "  Downloading https://files.pythonhosted.org/packages/cd/74/d72daf8dff5b6566db857cfd088907bb0355f5dd2914c4b3ef065c790735/mock-4.0.2-py3-none-any.whl\n",
            "Requirement already satisfied: markdown>=2.6.8 in /usr/local/lib/python3.6/dist-packages (from tensorboard<1.14.0,>=1.13.0->tensorflow==1.13.1) (3.3.3)\n",
            "Requirement already satisfied: werkzeug>=0.11.15 in /usr/local/lib/python3.6/dist-packages (from tensorboard<1.14.0,>=1.13.0->tensorflow==1.13.1) (1.0.1)\n",
            "Requirement already satisfied: h5py in /usr/local/lib/python3.6/dist-packages (from keras-applications>=1.0.6->tensorflow==1.13.1) (2.10.0)\n",
            "Requirement already satisfied: importlib-metadata; python_version < \"3.8\" in /usr/local/lib/python3.6/dist-packages (from markdown>=2.6.8->tensorboard<1.14.0,>=1.13.0->tensorflow==1.13.1) (2.0.0)\n",
            "Requirement already satisfied: zipp>=0.5 in /usr/local/lib/python3.6/dist-packages (from importlib-metadata; python_version < \"3.8\"->markdown>=2.6.8->tensorboard<1.14.0,>=1.13.0->tensorflow==1.13.1) (3.4.0)\n",
            "Installing collected packages: mock, tensorflow-estimator, tensorboard, keras-applications, tensorflow\n",
            "  Found existing installation: tensorflow-estimator 2.3.0\n",
            "    Uninstalling tensorflow-estimator-2.3.0:\n",
            "      Successfully uninstalled tensorflow-estimator-2.3.0\n",
            "  Found existing installation: tensorboard 2.3.0\n",
            "    Uninstalling tensorboard-2.3.0:\n",
            "      Successfully uninstalled tensorboard-2.3.0\n",
            "  Found existing installation: tensorflow 2.3.0\n",
            "    Uninstalling tensorflow-2.3.0:\n",
            "      Successfully uninstalled tensorflow-2.3.0\n",
            "Successfully installed keras-applications-1.0.8 mock-4.0.2 tensorboard-1.13.1 tensorflow-1.13.1 tensorflow-estimator-1.13.0\n"
          ],
          "name": "stdout"
        }
      ]
    },
    {
      "cell_type": "code",
      "metadata": {
        "id": "NgEHONRaZqJB",
        "colab": {
          "base_uri": "https://localhost:8080/"
        },
        "outputId": "85a11cb0-c852-4739-f74b-34d84e5b98f7"
      },
      "source": [
        "# Python ≥3.5 is required\n",
        "import sys\n",
        "assert sys.version_info >= (3, 5)\n",
        "\n",
        "# Scikit-Learn ≥0.20 is required\n",
        "import sklearn\n",
        "assert sklearn.__version__ >= \"0.20\"\n",
        "\n",
        "# Common imports\n",
        "import numpy as np\n",
        "import os\n",
        "\n",
        "# NLTK to find word stems\n",
        "import nltk\n",
        "#nltk.download('punkt')\n",
        "#nltk.download('averaged_perceptron_tagger')\n",
        "\n",
        "# Berkeley Neural Parser\n",
        "# https://github.com/nikitakit/self-attentive-parser\n",
        "import benepar\n",
        "#benepar.download('benepar_en2')\n"
      ],
      "execution_count": null,
      "outputs": [
        {
          "output_type": "stream",
          "text": [
            "/usr/local/lib/python3.6/dist-packages/tensorflow/python/framework/dtypes.py:526: FutureWarning: Passing (type, 1) or '1type' as a synonym of type is deprecated; in a future version of numpy, it will be understood as (type, (1,)) / '(1,)type'.\n",
            "  _np_qint8 = np.dtype([(\"qint8\", np.int8, 1)])\n",
            "/usr/local/lib/python3.6/dist-packages/tensorflow/python/framework/dtypes.py:527: FutureWarning: Passing (type, 1) or '1type' as a synonym of type is deprecated; in a future version of numpy, it will be understood as (type, (1,)) / '(1,)type'.\n",
            "  _np_quint8 = np.dtype([(\"quint8\", np.uint8, 1)])\n",
            "/usr/local/lib/python3.6/dist-packages/tensorflow/python/framework/dtypes.py:528: FutureWarning: Passing (type, 1) or '1type' as a synonym of type is deprecated; in a future version of numpy, it will be understood as (type, (1,)) / '(1,)type'.\n",
            "  _np_qint16 = np.dtype([(\"qint16\", np.int16, 1)])\n",
            "/usr/local/lib/python3.6/dist-packages/tensorflow/python/framework/dtypes.py:529: FutureWarning: Passing (type, 1) or '1type' as a synonym of type is deprecated; in a future version of numpy, it will be understood as (type, (1,)) / '(1,)type'.\n",
            "  _np_quint16 = np.dtype([(\"quint16\", np.uint16, 1)])\n",
            "/usr/local/lib/python3.6/dist-packages/tensorflow/python/framework/dtypes.py:530: FutureWarning: Passing (type, 1) or '1type' as a synonym of type is deprecated; in a future version of numpy, it will be understood as (type, (1,)) / '(1,)type'.\n",
            "  _np_qint32 = np.dtype([(\"qint32\", np.int32, 1)])\n",
            "/usr/local/lib/python3.6/dist-packages/tensorflow/python/framework/dtypes.py:535: FutureWarning: Passing (type, 1) or '1type' as a synonym of type is deprecated; in a future version of numpy, it will be understood as (type, (1,)) / '(1,)type'.\n",
            "  np_resource = np.dtype([(\"resource\", np.ubyte, 1)])\n"
          ],
          "name": "stderr"
        }
      ]
    },
    {
      "cell_type": "markdown",
      "metadata": {
        "id": "8G_67Dfy_Dok"
      },
      "source": [
        "# Data Cleaning"
      ]
    },
    {
      "cell_type": "code",
      "metadata": {
        "colab": {
          "base_uri": "https://localhost:8080/"
        },
        "id": "iavaWnvD1sRt",
        "outputId": "712108c1-fcb6-4692-d042-a019204c1a33"
      },
      "source": [
        "from google.colab import drive\n",
        "drive.mount('/content/drive', force_remount=True)"
      ],
      "execution_count": null,
      "outputs": [
        {
          "output_type": "stream",
          "text": [
            "Mounted at /content/drive\n"
          ],
          "name": "stdout"
        }
      ]
    },
    {
      "cell_type": "code",
      "metadata": {
        "colab": {
          "base_uri": "https://localhost:8080/"
        },
        "id": "MLy7ZAYJ1tUX",
        "outputId": "33958019-d085-4aa0-936c-d5d17e0d2764"
      },
      "source": [
        "!ls drive/My\\ Drive/Vision\\ and\\ Language\\ Project/"
      ],
      "execution_count": null,
      "outputs": [
        {
          "output_type": "stream",
          "text": [
            "'BDD100k Experiment.ipynb'\t   Proposal.gdoc\n",
            "'BDD100k Exploration.ipynb'\t   revisedBDDX.csv\n",
            " BDD100kExplore2.ipynb\t\t   revisedBDDX.gsheet\n",
            " det_v2_train_release.json\t  'Scenario2Vec Overview.gslides'\n",
            " Links.gdoc\t\t\t   sdl_objects.npy\n",
            " MyFile.txt\t\t\t   SDL_working.ipynb\n",
            "'Naive to Bert Overview.gslides'   videos\n"
          ],
          "name": "stdout"
        }
      ]
    },
    {
      "cell_type": "code",
      "metadata": {
        "colab": {
          "base_uri": "https://localhost:8080/"
        },
        "id": "CQpzp2lW1uvN",
        "outputId": "5e97ff3c-f338-48ff-fa41-357d4d32f031"
      },
      "source": [
        "%cd drive/My\\ Drive/Vision\\ and\\ Language\\ Project/"
      ],
      "execution_count": null,
      "outputs": [
        {
          "output_type": "stream",
          "text": [
            "/content/drive/My Drive/Vision and Language Project\n"
          ],
          "name": "stdout"
        }
      ]
    },
    {
      "cell_type": "code",
      "metadata": {
        "id": "eCF14nW7bVre",
        "colab": {
          "base_uri": "https://localhost:8080/"
        },
        "outputId": "b8fa6719-34ab-427d-fb71-6c5ba077cb9d"
      },
      "source": [
        "import pandas as pd # Pandas library enables data manipulation\n",
        "data_url = \"revisedBDDX.csv\"\n",
        "def load_bddx_data(csv_name):\n",
        "    column_names = ['Index', 'InputVideo', '1S', '1E', '1A', '1J', '2S', '2E', '2A', '2J', '3S', '3E', '3A', '3J',\n",
        "                    '4S', '4E', '4A', '4J','5S', '5E', '5A', '5J','6S', '6E', '6A', '6J','7S', '7E', '7A', '7J',\n",
        "                    '8S', '8E', '8A', '8J','9S', '9E', '9A', '9J','10S', '10E', '10A', '10J','11S', '11E', '11A', '11J',\n",
        "                    '12S', '12E', '12A', '12J','13S', '13E', '13A', '13J','14S', '14E', '14A', '14J','15S', '15E', '15A', '15J']\n",
        "    \n",
        "    return pd.read_csv(csv_name, names=column_names)\n",
        "bddx = load_bddx_data(data_url)\n",
        "\n",
        "bddx.drop(bddx.index[:1], inplace=True)\n",
        "\n",
        "check = 10.0\n",
        "for i,row in bddx.iterrows():\n",
        "  start = 2\n",
        "  while row[start] != 'NaN' and start+4 <= 61:\n",
        "    if float(row[start]) < check and float(row[start+1]) > check:\n",
        "      start = start + 4\n",
        "    else:      \n",
        "      bddx[row.index[start]].loc[i] = ''\n",
        "      bddx[row.index[start+1]].loc[i] = ''\n",
        "      bddx[row.index[start+2]].loc[i] = 'NaN'\n",
        "      bddx[row.index[start+3]].loc[i] = ''\n",
        "      start = start + 4\n",
        "\n",
        "\n",
        "bddx = bddx.drop(['1S', '1E','2S', '2E','3S', '3E','4S', '4E','5S', '5E','6S', '6E','7S', '7E','8S', '8E','9S', '9E','10S', '10E','11S', '11E','12S', '12E','13S', '13E','14S', '14E','15S', '15E', ], axis=1)\n",
        "bddx = bddx.fillna(\"\")\n",
        "\n",
        "bddx['1AJ'] = bddx[['1A', '1J']].agg(' '.join, axis=1)\n",
        "bddx['2AJ'] = bddx[['2A', '2J']].agg(' '.join, axis=1)\n",
        "bddx['3AJ'] = bddx[['3A', '3J']].agg(' '.join, axis=1)\n",
        "bddx['4AJ'] = bddx[['4A', '4J']].agg(' '.join, axis=1)\n",
        "bddx['5AJ'] = bddx[['5A', '5J']].agg(' '.join, axis=1)\n",
        "bddx['6AJ'] = bddx[['6A', '6J']].agg(' '.join, axis=1)\n",
        "bddx['7AJ'] = bddx[['7A', '7J']].agg(' '.join, axis=1)\n",
        "bddx['8AJ'] = bddx[['8A', '8J']].agg(' '.join, axis=1)\n",
        "bddx['9AJ'] = bddx[['9A', '9J']].agg(' '.join, axis=1)\n",
        "bddx['10AJ'] = bddx[['10A', '10J']].agg(' '.join, axis=1)\n",
        "bddx['11AJ'] = bddx[['11A', '11J']].agg(' '.join, axis=1)\n",
        "bddx['12AJ'] = bddx[['12A', '12J']].agg(' '.join, axis=1)\n",
        "bddx['13AJ'] = bddx[['13A', '13J']].agg(' '.join, axis=1)\n",
        "bddx['14AJ'] = bddx[['14A', '14J']].agg(' '.join, axis=1)\n",
        "bddx['15AJ'] = bddx[['15A', '15J']].agg(' '.join, axis=1)\n",
        "\n",
        "bddx = bddx.drop(['Index', '1A', '1J', '2A', '2J', '3A', '3J', '4A', '4J', '5A', '5J', '6A', '6J', '7A', '7J', '8A', '8J', '9A', '9J', '10A', '10J', '11A', '11J', '12A', '12J', '13A', '13J', '14A', '14J', '15A', '15J', ], axis=1)\n",
        "# bddx = bddx.drop(bddx.index[0])"
      ],
      "execution_count": null,
      "outputs": [
        {
          "output_type": "stream",
          "text": [
            "/usr/local/lib/python3.6/dist-packages/pandas/core/indexing.py:670: SettingWithCopyWarning: \n",
            "A value is trying to be set on a copy of a slice from a DataFrame\n",
            "\n",
            "See the caveats in the documentation: https://pandas.pydata.org/pandas-docs/stable/user_guide/indexing.html#returning-a-view-versus-a-copy\n",
            "  iloc._setitem_with_indexer(indexer, value)\n"
          ],
          "name": "stderr"
        }
      ]
    },
    {
      "cell_type": "code",
      "metadata": {
        "id": "NHcWYrys6i3V",
        "colab": {
          "base_uri": "https://localhost:8080/"
        },
        "outputId": "ff0cfcd2-a55a-45d5-c165-288e2ae9da73"
      },
      "source": [
        "li = []\n",
        "for i in bddx['InputVideo']:\n",
        "  l = i.split(\"/\")\n",
        "  li.append(l[-1].split(\".\")[0])\n",
        "print(li)\n",
        "bddx['BDDX-ids'] =np.array(li)"
      ],
      "execution_count": null,
      "outputs": [
        {
          "output_type": "stream",
          "text": [
            "['06d501fd-a9ffc960', '01b0505f-5f564e84', '06d501fd-fd237e38', '06d54ae6-26a3446e', '01b4e4b9-e21fe0a3', '06d54ae6-76749641', '01b4e4b9-fc7a5264', '06d54ae6-bf7ed032', '06d981bc-01758867', '01c3c73e-4279ee42', '06d981bc-d8411e3b', '01c3e19a-fbacb266', '0336de82-d8b4761a', '0004a4c0-d4df3a18', '06db23de-8789538f', '01c6a5ce-7dba0d93', '01d25bbc-670b6caa', '06e4a00e-346390c8', '00091078-2bcd1ac9', '05266828-79a6ed22', '03370efc-c690f4d8', '01d25bbc-a9f903ba', '06e4a00e-9ed56776', '00091078-38ea90aa', '0339a42b-1e75ac9a', '01d373c7-45710346', '05266828-a6ee9545', '06e4a00e-b0887752', '06ea71d8-6f0a4db0', '0526fe78-ad2264aa', '00091078-59817bb0', '01d7e66d-8d639849', '033dea13-5a8114fe', '06ebf6cd-0c129f12', '00091078-7cff8ea6', '052fd7cc-b5dee1de', '0340d277-0531808b', '01dc1bbe-8919b3d8', '06ebf6cd-79235c8d', '00091078-84635cf2', '0344b71d-0063c015', '0531d2f7-1feee72c', '06ec79fd-3351771d', '0348a36b-deb80913', '00091078-875c1f73', '053da4e3-48ec49ba', '06ec79fd-7b557fdf', '00091078-878e079e', '034ba984-01a430f3', '053dc1d6-29b58579', '06ec79fd-88116705', '00091078-c1d32eea', '054575c4-3e39f3cf', '034ba984-81e22d48', '06ec79fd-9f4cd0ba', '034ebec5-b2b76478', '00091078-cedbfea7', '01dc1bbe-b5109eb3', '06ec79fd-a832f627', '0350600d-99bbb16e', '054575c4-e461764c', '00091078-f32de4d2', '06ec79fd-ad0188f8', '01df5158-81b61006', '05476b39-9d783f66', '06ec79fd-ea7c5c86', '035563ed-61c19e16', '000e0252-8523a4a9', '01df5158-94ac0ebf', '054a8fc0-6f54c1d9', '035cbba8-1e0e6c8d', '0010bf16-9ee17cd9', '06ef8fed-e38497d5', '01e05a91-2c9e154d', '0010bf16-a457685b', '01e05a91-a336dc54', '06f7a41e-7dcae57f', '036e699b-cc9cb9ff', '06f7a41e-a79002e3', '054b4492-b9ca5e57', '001bf08d-a419208a', '01e38013-dab56c86', '06f7a41e-c8b5c7c7', '0024b742-63ed30d7', '054bcdd2-d62b4b62', '01e6281b-5be21c14', '0024b742-83709bd4', '06f7a41e-ff3ff2b6', '05584a52-5185a296', '036f07d5-92c52ed8', '036f07d5-a41ae610', '05584a52-5201a8c1', '036f3b5f-ee1521de', '01e6281b-7cc651df', '06fb4e9c-42c4177c', '05584a52-590d4e59', '0370eddd-81051014', '06fb4e9c-efadbbae', '0024b742-acbed4fb', '03715d08-cb7c434d', '01e6933c-3e2e1ee5', '06fb4e9c-f4fc93c7', '00268999-0b20ef00', '05584a52-61acd2bb', '01e9deb7-ed388859', '0372d8e2-03d838f3', '06fb4e9c-fc5098a7', '00268999-9f6d5823', '01eaedc9-a79a93e0', '00268999-a4b8e39d', '06fce5b8-efc1a0dd', '0373c15f-d7b291b8', '05584a52-63a8d88e', '00268999-cb063914', '01ec6367-7092c37b', '037795d6-d456ac0c', '06ff7d61-1fa52d1c', '002a0e43-f6689b3f', '01f5086d-7820a48d', '05584a52-687411b6', '002ab96a-a96704f9', '0378d8dc-45d0c6c6', '002ab96a-ea678692', '05584a52-730a88df', '0378d8dc-62d8e85a', '01ff4acd-abd98a91', '0378d8dc-92df7b3e', '06ff7d61-3135eaa4', '05584a52-9725bd6b', '01ff4acd-b2311e18', '0379e014-116dc5cd', '05584a52-a039fa45', '002b485a-3f6603f2', '038db692-241b4e37', '06ff7d61-45086936', '0200d621-0aa31469', '002b485a-d1301c7c', '038db692-9c25743b', '02065c11-0966f65d', '05584a52-aa126299', '038db692-a3659ab7', '002b562f-e0ac84fe', '06ff7d61-48a6bc46', '02065c11-194478e8', '002e6895-442e6bc1', '05584a52-d4064389', '02065c11-dbd5d35b', '06ff7d61-53ba5061', '03935c73-6fad10a2', '002f8552-0cdd55c6', '05584a52-e5ee180a', '06ff7d61-58d5d14e', '0032419c-7d20b300', '02086f50-c1e5d802', '05584a52-fc4990b5', '06ff7d61-734f0911', '03935c73-98cac3ec', '02097021-05dcbf23', '055e339a-1c6cb352', '0034a363-24f318c4', '039c5dcd-86d8c0e2', '06ff7d61-8cefb300', '00378858-c5f802ac', '039c5dcd-a603673a', '06ff7d61-dc1c9107', '02097021-183ed3b9', '00391a82-8be5b76d', '06ff7d61-e2930879', '039f729b-0fb582da', '02097021-295d2161', '055e339a-e98dd764', '05640976-d1ce1090', '070383db-0363b1c7', '00391a82-d1428e56', '039f729b-17136fb4', '02097021-b0c330b0', '070383db-2f4f6ade', '004071a4-049b7b85', '0209c510-5ef87f7a', '0569624e-1beb3b3c', '070383db-c693da33', '004071a4-4e8a363a', '0209c510-df186d4c', '070383db-e4ac3ced', '02162021-ff5ac522', '0569fe1c-23a8a28a', '07058848-6862bfe4', '039f729b-2ba56f17', '0706e16c-8eb9233a', '02191150-4615d36f', '0569fe1c-288f0512', '0710389f-038050ae', '039f729b-7d2ba342', '021c4a16-1c50e818', '0710389f-2a7ff2be', '0569fe1c-ffe5f96c', '021c4a16-f3a34ff5', '0710389f-7b28ff14', '0571873b-de675e01', '004071a4-a45d905f', '0571873b-faf718b2', '0710389f-9edbc057', '004071a4-ef4bf541', '039f729b-8878b974', '0573e933-a8b4cf7d', '039f729b-913a68c6', '07116ae0-0f12a817', '021c4a16-f4d18785', '00488b40-0a8cf1a0', '0573f031-8ef23cf6', '039f729b-93e4617b', '07116ae0-e9b4fa4a', '0048f391-2c5344eb', '0711ab13-56b31255', '0048f391-8773ad9e', '0711ab13-698c82be', '039f729b-9f86828d', '021f503c-012d941f', '0573f031-e8244dd0', '0048f391-8eb40ca6', '02205e0f-20f9ad20', '0711ab13-e486593d', '0573f031-fe89a0d4', '039f729b-dce2ffeb', '0048f391-e9bfaf62', '0229e497-f4eed706', '0711ab13-ff3633ab', '039f729b-e5d9aec8', '022ba62d-3353f550', '0714456d-083ade57', '03a08882-3c5b8923', '057eea5e-7fe988ad', '0714456d-2648a0c9', '022ba62d-853f4ad1', '0048f391-eae6a189', '03a08882-3e0f18d1', '057f2887-a81b8339', '022bf1ed-b3675f44', '0714456d-4cd21397', '03a3f4e6-caeaf05d', '00495359-1d04dd8a', '0714456d-619b3a70', '05911dc1-9990e9e7', '03a4b3d3-277756e7', '00495359-27ce9c7e', '022ff54c-3cb58ec1', '059286c1-7419d52e', '03a5976c-6d4c6239', '00495359-f020db82', '0714456d-88d85a8c', '02346f91-18e2acf4', '0593fea2-6471cf4e', '03a5a702-81bc7402', '0714456d-dea58ea0', '00516b75-7ac91661', '0595227e-bf4ccdda', '02346f91-2021ddc6', '0714456d-eb7f5c38', '0051e391-d32a618e', '05983eea-0ad7129e', '02346f91-27a6b98b', '0714456d-f947f605', '005c4fd3-cb4d6287', '03af3912-314e2022', '02346f91-87969c22', '03af3912-36636dd5', '05983eea-b4fc86f9', '0715d80a-f3fd3da8', '0062e803-38c0a33a', '02346f91-9190074e', '059841ce-121c8b06', '07184fbb-061caa74', '0062f18d-f8cd3a65', '03afa5eb-b47a1969', '02346f91-a62c5e01', '059ec458-3b7e13f2', '02346f91-aaa4e437', '0064d485-e1c17b2e', '07184fbb-0a78715a', '059ec458-73d28f10', '02364369-a90da2a5', '07184fbb-1bf770ba', '0066b72f-974f6883', '02364369-bd3d1838', '07184fbb-2dc17016', '05a45cbf-869f937e', '00690c26-e4bbbd72', '05a45cbf-ffa8ddde', '07184fbb-2e67b768', '023a07ea-71cd21bb', '023a07ea-89f817c3', '006a7635-c42f9f97', '07184fbb-33a15da2', '05a93853-0d9f37e7', '03b58b4e-7fc6e32a', '07184fbb-54f9d99d', '023a70d5-cde2a67a', '05a93853-58c63f87', '03b58b4e-db439f75', '07184fbb-5d195420', '006a7635-ec8fe02c', '023d0f3c-564e6d31', '03b5e695-11d43622', '05ac9eed-66967885', '07184fbb-7b3e0527', '006bff20-752bd845', '023d8bc1-e56e7d8a', '07184fbb-af89b759', '006d6f8e-4759e8c1', '0240eb48-4c78d3a1', '05acab14-b78b76c7', '03c66a02-3deee2e5', '07184fbb-bab6f8ce', '024839c5-669231df', '0070bc56-29bcc943', '05acab14-e1a73018', '03c775b9-d2cf9e5b', '07184fbb-bb4c67d2', '02504d95-8ede0c80', '03c8da12-57d3c936', '05b06a04-5d7141e0', '0070bc56-401304be', '05b2293c-e42b15f3', '03c8da12-98ab6099', '0070bc56-49cf077c', '02514ff2-5fafa3bc', '05b457b9-6e326f39', '03c8da12-b57178f9', '0070bc56-4c0bb2d5', '02514ff2-b8e3551c', '05be3c16-e85868fd', '03c98179-6c0700e4', '0252f2b5-1f4c92f2', '0070bc56-7d01076a', '07184fbb-dda0b7cd', '0252f2b5-2e69185a', '05c1c47a-cb817b64', '03cac642-016c2282', '0718ab33-bbd7e0ae', '0070bc56-8d8cfd82', '03cac642-35fdab83', '05c6dd3d-0ecc1cb7', '0252f2b5-741ac12c', '07199529-6430cbf4', '00721168-56efa5c2', '05c6dd3d-d1b55512', '03d17a3b-11512102', '0075a5b0-9a8d5dbb', '0719a2ec-08bcf521', '0252f2b5-afeb0f19', '0719a2ec-133d9525', '05ca0197-6c0b4628', '0075b179-8e09869a', '0259bb94-b821c6a0', '05cb8e1c-e064ca63', '0719a2ec-45b781f4', '025b2ded-0e4f2732', '025b2ded-0f6cbb6b', '0719a2ec-6723a27b', '05d30a18-19032166', '007c01ea-63aa326c', '0719a2ec-f12c90bb', '05d45cf1-f9c00c3e', '025b2ded-11363432', '007c01ea-a02f29ef', '071c7a20-524d2e74', '05e261cb-ef8cd52f', '007c01ea-ad9f940b', '03d34d05-4a61174c', '025b2ded-1b0c1607', '05e2d74c-9e1ed30d', '03d34d05-b6ceb2c7', '007c01ea-bce82b33', '05e4d323-5e76c428', '03db1bc2-833ca88c', '025b2ded-47ac9b1d', '0723c4dd-6d50a276', '05e4d323-6779ccbc', '03df831f-35275baa', '025b2ded-de608724', '0723c4dd-7a1168dc', '05e4d323-843db21c', '025b2ded-e3ccf7f8', '05e4d323-99f9fdd9', '0723c4dd-fe5bd292', '007eddfc-528c4da4', '025ecc28-3d894af1', '0723dfcb-b54e0783', '05e5b952-70bc5050', '007eddfc-bcaeb35b', '03df831f-c91ea298', '05e5b952-73bfedb3', '007eddfc-f8a80310', '03e19d79-c79b6a0f', '07254f2e-32a98be9', '00810e80-37641274', '025f49ef-0f6366f3', '07254f2e-ad7e4ddb', '00825605-9dcec7d0', '03e20a2f-c96c4ace', '0725b3e1-4d70a646', '02621ea2-399eaeb2', '0725b3e1-9c9078cb', '0088cf04-319858ad', '03e6753f-a6371fe5', '02621ea2-e25d54a0', '03e6753f-f5383961', '026501c2-0499f917', '0725b3e1-9e3a1eee', '009215e2-3b7c6b86', '0725b3e1-e2d1e6af', '026501c2-16c41a5d', '009215e2-62d79d70', '03f0f5e6-ab7a74ed', '05f073fb-21f47332', '072876e5-c10bfc30', '05f073fb-2d3ccdce', '026501c2-48a89178', '03f65112-049cca26', '072ca47b-0cb52c7f', '009215e2-74688f8a', '07363609-5a0aaaf2', '03f6e688-415b77da', '026501c2-dfd80f2d', '05f073fb-c158d772', '03f7582f-e4e38a47', '026b9a11-f819c1b9', '05f194e3-369346cf', '009215e2-8500bd0b', '07363609-da2e4ed9', '009215e2-d6d2d61b', '03f9dbcd-3dbb2e40', '026d68d3-bb2704f1', '05f194e3-bb62504c', '07363609-dd3a8645', '009215e2-e67ccfb7', '03fd9aa1-4be42e2e', '02701fba-809c39f3', '009215e2-ea063b28', '05f38f06-96293250', '03fd9aa1-78e4c146', '07380221-064f762b', '009215e2-fd2472b8', '0277379d-ed078767', '0401de66-495d6358', '05f41c11-94e167fc', '0738f42e-734821e2', '0092e44c-3b3dee4b', '0279c7c7-022be97f', '0738f42e-fe0d895e', '0403a8cd-a9f22fd9', '0094ffe5-596e38bd', '028584e7-3bd7fb59', '04056725-14e1b11d', '05f474ad-657e49f5', '028584e7-6a14163e', '0097d4ec-cf5e654b', '04056725-91d0bd08', '05f899e8-b72038aa', '028584e7-9a2cf39f', '009b0eb2-bbef939f', '0406b065-a759da9c', '0289eba3-1c552656', '07398e6d-0295f0a1', '05fa6494-2fad5381', '009b6a87-b15675e2', '07398e6d-65825072', '0289eba3-3b2c545e', '00a820ef-2b98dcf5', '04076a65-052f6027', '05fa6494-51df9bd3', '00a820ef-98a12e22', '0289eba3-d1fd00fc', '07398e6d-7b0dc522', '05fa6494-8f436d04', '028a3713-d915c80e', '04076a65-55eb2157', '05faab83-7761d124', '028b5d16-45f7e11a', '04076a65-57bf4de3', '07398e6d-f130f7bf', '06011abb-2ef4cced', '00a820ef-d655700e', '073d4e2a-16e9d952', '028b5d16-af6a6275', '0603e6ca-1f32cf5c', '00b04b30-2e874876', '04076a65-79b349d4', '0603e6ca-2a8fd650', '028b5d16-be6486a6', '073d4e2a-55c1f733', '00b04b30-501822fa', '060f62bd-686c028e', '073dc97d-7a3e1436', '00b1dfed-a89dbe2b', '028fbfb1-d42e4ac8', '060f62bd-6c510f2f', '073dc97d-bad8ed1d', '00be7020-457a6db4', '04076a65-89793286', '061384e9-8c042acb', '07482c65-a96de461', '02927def-14c4c3cb', '04076a65-8c1a44ba', '0619414a-98e72c06', '00c12bd0-bb46e479', '029407d6-ca53347d', '074b3ead-8243b693', '061ae121-ba8c91c2', '04076a65-9f16243e', '029556a0-0ec9fa6f', '00ca8821-17667a58', '061b081d-b5e37863', '04090516-2bb725c1', '07542d08-ad63ba4f', '029ad1d1-2f5ad804', '061c075c-3a32cdce', '04095551-ef1928db', '075d08d3-8206da91', '029ad1d1-8c9b02b1', '06218dd8-085f4f5c', '00ca8821-db8033d5', '04095551-efe2622a', '029e1042-2639a5f8', '076399f2-3cc0e470', '06238b9d-364b8d6a', '00d0f034-6d666f7b', '040aae19-9d710ac9', '029e1042-66968a89', '040c92cf-a442c0e9', '00d15d58-9197cde5', '076399f2-4857e5a4', '029e1042-d985bee1', '040dfa50-4082932d', '076399f2-4c68835b', '00d1bafa-1b47b41c', '06257efc-812f6534', '00d1bafa-6701fcd9', '040fff88-4e31bfdd', '06257efc-9039235e', '076399f2-4ee5c4fe', '029e1042-e795c758', '00d79c0a-23bea078', '0415cf54-5f2f44fc', '06257efc-9aba5724', '02a0f142-1b621396', '041bc149-5a655ba3', '076399f2-6b5a6d2a', '02a0f142-1c6504df', '02a0f142-c9c4b7d5', '00d79c0a-a2b85ca4', '041fb602-19f8495d', '076399f2-6c2cdfd0', '06257efc-a0ad911e', '00dc5030-237e7f71', '02a11306-ea3764fe', '06299d10-4eaf8f1e', '076399f2-b3108b86', '041fb602-3ae26718', '00e02d60-54df99d1', '02a17951-3d88d95e', '076399f2-d397b12e', '06299d10-be057929', '042005ab-c83ca504', '02a7e164-14ba1015', '00e11419-e4eeba84', '076399f2-e2bc0747', '0634e4d9-cbdf926d', '04278889-09b2e20d', '00e42886-0ebbdb55', '063753c7-71200365', '02a88cd9-89d23c1c', '076399f2-ec0a8baa', '043026cb-2808c6fb', '00e42886-b826e91d', '063b9c10-308a37ed', '076399f2-fb3e745b', '02ac138c-6bc72d56', '043026cb-3a39d0b7', '064bad4e-160c2ad1', '00e42886-bd5ed543', '02ac5861-c0b351d4', '00f42f6b-5a20a4d2', '02aef18f-db06c5f9', '00f42f6b-699a498c', '07654a22-5880c393', '064bad4e-a702a4fa', '043026cb-62b088fd', '00f42f6b-b1ca1f6c', '043026cb-9d986c22', '07707ea5-93f88fca', '064bad4e-ae51d829', '00f7eac8-5193d600', '00fbb190-8834f55b', '043026cb-a30ed3f0', '064bad4e-b2a60955', '043026cb-cf576c90', '077192f8-4d59e803', '064bad4e-e26c64f8', '043026cb-f72901db', '07797fc1-3f6aee10', '02b1ab3d-e93996c2', '0104a3f0-9294818d', '064c08ff-88dbcdca', '07797fc1-8964710e', '04327108-6fb3ab49', '077d7bbc-2dc66d22', '0104eb19-162abfea', '02b4d710-c34ba68e', '078075c6-029c7300', '0432d284-b1121aaf', '0656c6ac-751578f2', '0786294e-634c696d', '02b7b9ee-066c81db', '0432d284-c924667e', '02b7b9ee-4cd88e31', '07895b8a-3a843bb5', '0104eb19-718b1a9c', '010b0600-47a9e3e0', '06583aaf-bb7d4ce1', '04348402-062a4eac', '02b7b9ee-60bfd818', '078a348a-d0c2ed97', '06595ed1-6aa7c911', '010b0600-ae1f7be5', '04348402-1ad21f8a', '06595ed1-9a6d5592', '078fe907-065ed380', '010b0600-f44aed15', '0442fc4d-cf3c321f', '02b7b9ee-74fb981c', '078fe907-795898f3', '065992a2-2002dbea', '010b8a77-d02e84ce', '02b7b9ee-7d7a2e00', '04488604-03cba446', '078fe907-c39a62fa', '065992a2-5bef4d51', '04488604-2d268bc2', '01128d0a-031e0a61', '07919504-00f3c313', '065992a2-8765cbc1', '04488604-72f099d0', '01128d0a-89cf45e0', '07919504-3a57c8d3', '065992a2-ab48085d', '04488604-7db829ee', '02b7b9ee-a2aba88b', '07919504-a04fb42d', '02b7b9ee-a76d996e', '065e0b3e-2ac56f6f', '011a2aa0-677a45ae', '04488604-c87bc645', '0793f9bb-6d2220bb', '011ad6b2-1dfff443', '065e0b3e-9ab831d1', '02b7b9ee-af93f7be', '04488604-f1028b71', '066112a8-cdf390dc', '02c2a4d8-94d32b2f', '079655cf-662de762', '044c32cf-15c8cd24', '011ad6b2-f34fd564', '0665228f-1274f410', '079655cf-66cd5654', '02c2a4d8-f8b327d0', '044c32cf-7afc4028', '0798a3a8-04635a44', '066557f7-734f81af', '0451ce55-c7cdc6f2', '02c2c31c-d030d8b6', '0798a3a8-5a64671d', '066557f7-d3c24cb9', '0798a3a8-c4501e0f', '02d338b7-431f2064', '066557f7-f2fe2ec0', '02d338b7-6f55a2d8', '011aeca1-fe5af665', '0798b865-3ebaa099', '06661450-f52ed9ce', '01213e45-1292773a', '079cc21d-b9921e11', '0453391a-58028b18', '07a192de-e995e685', '02d338b7-b5a62425', '06668f7b-81a4f8e5', '01213e45-5edb70f0', '0453391a-c5005d00', '07a3c8b9-1e5a432f', '066a3f28-bedf609f', '0453391a-f15e9e30', '02d478d1-0328a5bf', '0124dfa6-30a430dc', '04578595-354c5f49', '07a3c8b9-28eeac9f', '066d6f37-6037f6cf', '02d478d1-23e4ee82', '0124dfa6-385f1b58', '0458f7bf-6d757fad', '07a3c8b9-63776739', '066e4bec-ba100c24', '045ba264-674ef27f', '07a3c8b9-bba3d553', '02d478d1-42ca3cfb', '0125b9f0-a8dec2ba', '045cb354-470666ec', '02d478d1-5ffc4cb0', '012fdff1-9d1d0d1d', '07ad24e3-66c734d0', '06727591-79344a7e', '02d478d1-84df3ff0', '045d32b5-31a5a2dd', '01306b58-1c8ac4c9', '07afa351-aa604b11', '02d478d1-8a21b23c', '01306b58-86832830', '06727591-f55ebbfa', '04629c39-1d564d8a', '01306b58-a09ba743', '0672c229-4d6e08a2', '04629c39-3abed5d9', '07afa351-cbfae483', '01306b58-cf6faad9', '02d478d1-8c1d7d62', '04629c39-4a119705', '0672c229-561d73fa', '0672c229-e9497c41', '013aba02-3fbd03ff', '07afa351-d3181637', '04629c39-69d7c08c', '014070bf-4de0af14', '02d478d1-937f841f', '04629c39-faefdb18', '0675e448-20f9d125', '02d478d1-94733b99', '014070bf-f055aa80', '07b1efc6-4e6ba1fd', '0675e448-ada913fc', '0464d3e2-8844a22c', '02d478d1-9774e131', '07b584c5-fff3b3bd', '0675e448-b483aaa4', '01440a35-e0b2f4a2', '02d478d1-9ce5120d', '046becaa-7a2e7ecd', '014474aa-accf35e1', '067873fa-af75840e', '07bf51f9-ae12b6bc', '014b8fc3-532a0660', '067873fa-f069152c', '046becaa-8fc35912', '02d478d1-cfb83eb8', '07bfc402-10ede36e', '02d478d1-e5ed0eb1', '014e76d7-a0c222bc', '0474c68e-78a16303', '07bfc402-3a259e9f', '02d478d1-e6811391', '067b4f84-172af845', '0478d053-0eb9fe2f', '014e76d7-afb481a3', '07bfcfae-64af58ec', '067ebca1-36bf70d8', '0478d053-88a940c9', '02d478d1-ff9329ce', '07cacc74-3673b8b8', '0478d053-f5bb4831', '0151f19f-827205c7', '067ebca1-77c243c7', '07cacc74-44490bdb', '02d91e68-dffa6840', '015322bd-f004369e', '047a188c-1ac1965c', '015af63d-7af26e37', '02dde125-4a375cdb', '07cacc74-48597e5e', '047a7ecb-68221e4a', '02dff56b-4445bb03', '015af63d-df1ef690', '067ebca1-8a3387bf', '07cacc74-5ce6b76a', '047c278b-452d36f8', '02e06911-cb3fd71e', '067f3361-39097fb1', '02e6415e-8f3a97fe', '07cacc74-61869ca0', '015cbf2d-1b0ecee0', '067f8fb0-1e602c4b', '07cacc74-aa13cc16', '02e6415e-a817b95f', '015f23ad-5049df48', '07cacc74-c8b09a29', '02e948bb-53fcbba0', '047e715f-3e47a9aa', '015fcc2d-2d44d478', '067f8fb0-299024f0', '047e715f-81e81a28', '02eb43d9-ff055cbb', '047e732b-aa79a87d', '06836e19-0798237e', '015fe6c9-48a58255', '02f101f6-56ba9106', '047e7f64-6df28989', '02f101f6-803bdb72', '06844897-e035260a', '07cacc74-c91c4761', '0480f92e-1ab5242a', '02f101f6-84cb482c', '015fe6c9-e880c0d7', '07cacc74-cd5434f6', '068cf5a2-878127f3', '0480f92e-6da53797', '02f208e7-10e796c8', '06918135-10720a5a', '01638325-0272a4d0', '07cacc74-cee72ba5', '0480f92e-bddc6920', '02f208e7-1bf4450f', '01638325-07545909', '04810e69-d5018754', '07cacc74-db7b9283', '0481e94d-a40bbffb', '07cc937c-6dbe4029', '048be7ce-6de74c1d', '01638325-3172dee4', '07ce2f8f-44e5f0d4', '04904d8d-0ab5c90a', '01638325-504ab42d', '07d025f2-86b087d6', '02f208e7-904032da', '06924f46-1708b96f', '01638325-901cd4f5', '07d06160-25326c3c', '06924f46-493de064', '02f208e7-9949d1b7', '01638325-c0f998fd', '04904d8d-d7add19f', '02f767b2-c435cd50', '06924f46-7f03bcdc', '07e29820-efa9e7da', '04961497-68988240', '02f95a54-6494531c', '06924f46-983ee289', '02fa8491-2a4967e3', '049c5d34-3610aeab', '07e49e2a-08324f2c', '06a0993c-caa90cf9', '049f2340-26fc3c56', '06a4abd2-bcb723c2', '07e9e760-687a2c40', '01638325-eb95ed3a', '04a4137e-4b7d314e', '02fc82b3-279906a9', '06a4abd2-cbbaaf3f', '04a4137e-ecd0ba6c', '07eb68f5-252839d8', '016a63d6-582c4677', '04a45d6d-2abd9c7b', '02fd08c1-f0e81827', '07eb68f5-cec4ea21', '06a5fad4-3cbd31e3', '04b33c7e-df4fc4c8', '07ef9f5f-42c0ac31', '02ff80b4-9b422cbd', '06a5fad4-cc2f8016', '04c6b8fa-4abd5e9f', '016c5aac-f5e49c84', '030003dd-480d0868', '07ef9f5f-e16d00e8', '04c6b8fa-d242db71', '06a93a2c-64127de3', '03049c98-2be9fd83', '01705c36-8993db9f', '07f00d34-6155d2d2', '0308ce2b-1bfd979e', '07f00d34-abe4661a', '04d49b8a-f0e342cb', '017078a5-baa7a0e4', '0308ce2b-1c804293', '07f00d34-d171ea84', '06aafbf5-2c703059', '04dc483a-f595d9f1', '017b02cb-477b66fa', '07f00d34-ee7e7f78', '06ac374f-364c820e', '04dd75bb-9507acc4', '07f17a1d-168e7ff8', '06ac374f-5c7f25cf', '017b02cb-8a659756', '07f87c9c-43370670', '0308ce2b-8fc462fd', '04e55a30-fc0b249b', '0309a59f-1c34bcb8', '01816d85-1e5196dd', '06ac7da9-1d958101', '07f87c9c-8a8d81ef', '04e6f6b8-67767837', '06ac7da9-81ae9c1c', '0309a59f-635b25c2', '0183d6f9-806f64bd', '04e9173a-d978b34d', '06ac7da9-b4b26aa1', '0309a59f-a7bdd258', '08008acf-4c0ddc8b', '04edbec0-95b33e2a', '01853f47-6975b587', '0309d11c-4f7cba1a', '06b1932a-5757cfcf', '018550d6-ec6e1fb1', '08008acf-6f841581', '030a6a6c-fca2979d', '06b1932a-d60f771a', '04ede4bd-c03f27b1', '08022699-557eec00', '01860bb9-5cc90ae0', '06b49335-a4533ec7', '018aca44-034f1175', '06b6c91e-f989a46e', '03106632-515213ca', '04f64678-c012d1e3', '03106632-a41c6be9', '06be45d5-cd085139', '0315121e-d61f498f', '04f8ceb2-950fe6d8', '018aca44-80b7c751', '06c2ee7b-b7b17d24', '018aca44-9a616a49', '04ff2dcc-d4f48c8a', '06c58952-170a4d8f', '0315cc1f-d0c40c17', '0501cda3-45135081', '06c58952-586ceee5', '018aca44-b1213649', '0501cda3-5c939ca7', '031637c4-10cdaf09', '0501cda3-5e493eaa', '06c58952-9b58fdad', '031637c4-1d39b9e6', '0501cda3-6d714e69', '031637c4-655be58e', '018aca44-b898edc3', '06cb522f-98fb6b62', '06cb522f-aaed5ecf', '0501cda3-cc74ad37', '018d962a-d5b47dd3', '031637c4-9b8207b3', '06cb522f-dd1b9be7', '06cb522f-f1ff4334', '06cb522f-f3b53ccf', '018d962a-fd869a57', '0502de3f-13d1dc8f', '06cbfcda-21eeb0d3', '018f06cd-834da3b3', '0502de3f-912266b3', '0193a01e-535b417a', '06cbfcda-32875f1e', '031637c4-b28f871a', '0502de3f-95405511', '0193a01e-90028c79', '06cbfcda-8f691320', '031637c4-bc0eaa8e', '0502de3f-c9529246', '06cbfcda-957a0b95', '0505c36e-579b416c', '06cdf0b1-6fec3924', '050cada6-3abbedba', '0193a01e-a0fb8220', '031637c4-ce5604cc', '06d065cc-2ee20dc0', '019c8305-0bb153d0', '031637c4-d2a9e7f0', '06d065cc-bbf101e6', '019c8305-3a3be0d6', '0329b7f6-7b36589b', '05165073-5dab7d28', '019d6206-d5de804a', '051a0fcc-c3b533f6', '06d1c4fe-4f416689', '0332729f-b63cda04', '06d1e27a-417be915', '01ab0f6d-a46b9d78', '051b9d2c-339b8325', '0336de82-802d2437', '06d501fd-31889467', '01ab0f6d-b377cd7c', '0521fd41-39bc52be', '06d501fd-73489e78', '01ab0f6d-b74b888d', '06d501fd-84390dd3', '06d501fd-94c914c9', '0521fd41-40219907', '01ab8b1e-a710cc65', '0521fd41-c08687cf', '01ab8b1e-f93e10a7', '05266828-33538181', '01ad8b0e-26e45825', '01ad8b0e-614d8990', '01ad8b0e-623d48e5', '01ad8d8a-49bb0c93', '0004a4c0-d4df3a18', '00091078-2bcd1ac9', '00091078-38ea90aa', '00091078-59817bb0', '00091078-7cff8ea6', '00091078-84635cf2', '00091078-875c1f73', '00091078-878e079e', '00091078-c1d32eea', '00091078-cedbfea7', '00091078-f32de4d2', '000e0252-8523a4a9', '0010bf16-9ee17cd9', '0010bf16-a457685b', '001bf08d-a419208a', '0024b742-63ed30d7', '0024b742-83709bd4', '0024b742-acbed4fb', '00268999-0b20ef00', '00268999-9f6d5823', '00268999-a4b8e39d', '00268999-cb063914', '002a0e43-f6689b3f', '002ab96a-a96704f9', '002ab96a-ea678692', '002b485a-3f6603f2', '002b485a-d1301c7c', '002b562f-e0ac84fe', '002e6895-442e6bc1', '002f8552-0cdd55c6', '0032419c-7d20b300', '0034a363-24f318c4', '00378858-c5f802ac', '00391a82-8be5b76d', '00391a82-d1428e56', '004071a4-049b7b85', '004071a4-4e8a363a', '004071a4-a45d905f', '004071a4-ef4bf541', '00488b40-0a8cf1a0', '0048f391-2c5344eb', '0048f391-8773ad9e', '0048f391-8eb40ca6', '0048f391-e9bfaf62', '0048f391-eae6a189', '00495359-1d04dd8a', '00495359-27ce9c7e', '00495359-f020db82', '00516b75-7ac91661', '0051e391-d32a618e', '005c4fd3-cb4d6287', '0062e803-38c0a33a', '0062f18d-f8cd3a65', '0064d485-e1c17b2e', '0066b72f-974f6883', '00690c26-e4bbbd72', '006a7635-c42f9f97', '006a7635-ec8fe02c', '006bff20-752bd845', '006d6f8e-4759e8c1', '0070bc56-29bcc943', '0070bc56-401304be', '0070bc56-49cf077c', '0070bc56-4c0bb2d5', '0070bc56-7d01076a', '0070bc56-8d8cfd82', '00721168-56efa5c2', '0075a5b0-9a8d5dbb', '0075b179-8e09869a', '007c01ea-63aa326c', '007c01ea-a02f29ef', '007c01ea-ad9f940b', '007c01ea-bce82b33', '007eddfc-528c4da4', '007eddfc-bcaeb35b', '007eddfc-f8a80310', '00810e80-37641274', '00825605-9dcec7d0', '0088cf04-319858ad', '009215e2-3b7c6b86', '009215e2-62d79d70', '009215e2-74688f8a', '009215e2-8500bd0b', '009215e2-d6d2d61b', '009215e2-e67ccfb7', '009215e2-ea063b28', '009215e2-fd2472b8', '0092e44c-3b3dee4b', '0094ffe5-596e38bd', '0097d4ec-cf5e654b', '009b0eb2-bbef939f', '009b6a87-b15675e2', '00a820ef-2b98dcf5', '00a820ef-98a12e22', '00a820ef-d655700e', '00b04b30-2e874876', '00b04b30-501822fa', '00b1dfed-a89dbe2b', '00be7020-457a6db4', '00c12bd0-bb46e479', '00ca8821-17667a58', '00ca8821-db8033d5', '00d0f034-6d666f7b', '00d15d58-9197cde5', '00d1bafa-1b47b41c', '00d1bafa-6701fcd9', '00d79c0a-23bea078', '00d79c0a-a2b85ca4', '00dc5030-237e7f71', '00e02d60-54df99d1', '00e11419-e4eeba84', '00e42886-0ebbdb55', '00e42886-b826e91d', '00e42886-bd5ed543', '00f42f6b-5a20a4d2', '00f42f6b-699a498c', '00f42f6b-b1ca1f6c', '00f7eac8-5193d600', '00fbb190-8834f55b', '0104a3f0-9294818d', '0104eb19-162abfea', '0104eb19-718b1a9c', '010b0600-47a9e3e0', '010b0600-ae1f7be5', '010b0600-f44aed15', '010b8a77-d02e84ce', '01128d0a-031e0a61', '01128d0a-89cf45e0', '011a2aa0-677a45ae', '011ad6b2-1dfff443', '011ad6b2-f34fd564', '011aeca1-fe5af665', '01213e45-1292773a', '01213e45-5edb70f0', '0124dfa6-30a430dc', '0124dfa6-385f1b58', '0125b9f0-a8dec2ba', '012fdff1-9d1d0d1d', '01306b58-1c8ac4c9', '01306b58-86832830', '01306b58-a09ba743', '01306b58-cf6faad9', '013aba02-3fbd03ff', '014070bf-4de0af14', '014070bf-f055aa80', '01440a35-e0b2f4a2', '014474aa-accf35e1', '014b8fc3-532a0660', '014e76d7-a0c222bc', '014e76d7-afb481a3', '0151f19f-827205c7', '015322bd-f004369e', '015af63d-7af26e37', '015af63d-df1ef690', '015cbf2d-1b0ecee0', '015f23ad-5049df48', '015fcc2d-2d44d478', '015fe6c9-48a58255', '015fe6c9-e880c0d7', '01638325-0272a4d0', '01638325-07545909', '01638325-3172dee4', '01638325-504ab42d', '01638325-901cd4f5', '01638325-c0f998fd', '01638325-eb95ed3a', '016a63d6-582c4677', '016c5aac-f5e49c84', '01705c36-8993db9f', '017078a5-baa7a0e4', '017b02cb-477b66fa', '017b02cb-8a659756', '01816d85-1e5196dd', '0183d6f9-806f64bd', '01853f47-6975b587', '018550d6-ec6e1fb1', '01860bb9-5cc90ae0', '018aca44-034f1175', '018aca44-80b7c751', '018aca44-9a616a49', '018aca44-b1213649', '018aca44-b898edc3', '018d962a-d5b47dd3', '018d962a-fd869a57', '018f06cd-834da3b3', '0193a01e-535b417a', '0193a01e-90028c79', '0193a01e-a0fb8220', '019c8305-0bb153d0', '019c8305-3a3be0d6', '019d6206-d5de804a', '01ab0f6d-a46b9d78', '01ab0f6d-b377cd7c', '01ab0f6d-b74b888d', '01ab8b1e-a710cc65', '01ab8b1e-f93e10a7', '01ad8b0e-26e45825', '01ad8b0e-614d8990', '01ad8b0e-623d48e5', '01ad8d8a-49bb0c93', '01b0505f-5f564e84', '01b4e4b9-e21fe0a3', '01b4e4b9-fc7a5264', '01c3c73e-4279ee42', '01c3e19a-fbacb266', '01c6a5ce-7dba0d93', '01d25bbc-670b6caa', '01d25bbc-a9f903ba', '01d373c7-45710346', '01d7e66d-8d639849', '01dc1bbe-8919b3d8', '01dc1bbe-b5109eb3', '01df5158-81b61006', '01df5158-94ac0ebf', '01e05a91-2c9e154d', '01e05a91-a336dc54', '01e38013-dab56c86', '01e6281b-5be21c14', '01e6281b-7cc651df', '01e6933c-3e2e1ee5', '01e9deb7-ed388859', '01eaedc9-a79a93e0', '01ec6367-7092c37b', '01f5086d-7820a48d', '01ff4acd-abd98a91', '01ff4acd-b2311e18', '0200d621-0aa31469', '02065c11-0966f65d', '02065c11-194478e8', '02065c11-dbd5d35b', '02086f50-c1e5d802', '02097021-05dcbf23', '02097021-183ed3b9', '02097021-295d2161', '02097021-b0c330b0', '0209c510-5ef87f7a', '0209c510-df186d4c', '02162021-ff5ac522', '02191150-4615d36f', '021c4a16-1c50e818', '021c4a16-f3a34ff5', '021c4a16-f4d18785', '021f503c-012d941f', '02205e0f-20f9ad20', '0229e497-f4eed706', '022ba62d-3353f550', '022ba62d-853f4ad1', '022bf1ed-b3675f44', '022ff54c-3cb58ec1', '02346f91-18e2acf4', '02346f91-2021ddc6', '02346f91-27a6b98b', '02346f91-87969c22', '02346f91-9190074e', '02346f91-a62c5e01', '02346f91-aaa4e437', '02364369-a90da2a5', '02364369-bd3d1838', '023a07ea-71cd21bb', '023a07ea-89f817c3', '023a70d5-cde2a67a', '023d0f3c-564e6d31', '023d8bc1-e56e7d8a', '0240eb48-4c78d3a1', '024839c5-669231df', '02504d95-8ede0c80', '02514ff2-5fafa3bc', '02514ff2-b8e3551c', '0252f2b5-1f4c92f2', '0252f2b5-2e69185a', '0252f2b5-741ac12c', '0252f2b5-afeb0f19', '0259bb94-b821c6a0', '025b2ded-0e4f2732', '025b2ded-0f6cbb6b', '025b2ded-11363432', '025b2ded-1b0c1607', '025b2ded-47ac9b1d', '025b2ded-de608724', '025b2ded-e3ccf7f8', '025ecc28-3d894af1', '025f49ef-0f6366f3', '02621ea2-399eaeb2', '02621ea2-e25d54a0', '026501c2-0499f917', '026501c2-16c41a5d', '026501c2-48a89178', '026501c2-dfd80f2d', '026b9a11-f819c1b9', '026d68d3-bb2704f1', '02701fba-809c39f3', '0277379d-ed078767', '0279c7c7-022be97f', '028584e7-3bd7fb59', '028584e7-6a14163e', '028584e7-9a2cf39f', '0289eba3-1c552656', '0289eba3-3b2c545e', '0289eba3-d1fd00fc', '028a3713-d915c80e', '028b5d16-45f7e11a', '028b5d16-af6a6275', '028b5d16-be6486a6', '028fbfb1-d42e4ac8', '02927def-14c4c3cb', '029407d6-ca53347d', '029556a0-0ec9fa6f', '029ad1d1-2f5ad804', '029ad1d1-8c9b02b1', '029e1042-2639a5f8', '029e1042-66968a89', '029e1042-d985bee1', '029e1042-e795c758', '02a0f142-1b621396', '02a0f142-1c6504df', '02a0f142-c9c4b7d5', '02a11306-ea3764fe', '02a17951-3d88d95e', '02a7e164-14ba1015', '02a88cd9-89d23c1c', '02ac138c-6bc72d56', '02ac5861-c0b351d4', '02aef18f-db06c5f9', '02b1ab3d-e93996c2', '02b4d710-c34ba68e', '02b7b9ee-066c81db', '02b7b9ee-4cd88e31', '02b7b9ee-60bfd818', '02b7b9ee-74fb981c', '02b7b9ee-7d7a2e00', '02b7b9ee-a2aba88b', '02b7b9ee-a76d996e', '02b7b9ee-af93f7be', '02c2a4d8-94d32b2f', '02c2a4d8-f8b327d0', '02c2c31c-d030d8b6', '02d338b7-431f2064', '02d338b7-6f55a2d8', '02d338b7-b5a62425', '02d478d1-0328a5bf', '02d478d1-23e4ee82', '02d478d1-42ca3cfb', '02d478d1-5ffc4cb0', '02d478d1-84df3ff0', '02d478d1-8a21b23c', '02d478d1-8c1d7d62', '02d478d1-937f841f', '02d478d1-94733b99', '02d478d1-9774e131', '02d478d1-9ce5120d', '02d478d1-cfb83eb8', '02d478d1-e5ed0eb1', '02d478d1-e6811391', '02d478d1-ff9329ce', '02d91e68-dffa6840', '02dde125-4a375cdb', '02dff56b-4445bb03', '02e06911-cb3fd71e', '02e6415e-8f3a97fe', '02e6415e-a817b95f', '02e948bb-53fcbba0', '02eb43d9-ff055cbb', '02f101f6-56ba9106', '02f101f6-803bdb72', '02f101f6-84cb482c', '02f208e7-10e796c8', '02f208e7-1bf4450f', '02f208e7-904032da', '02f208e7-9949d1b7', '02f767b2-c435cd50', '02f95a54-6494531c', '02fa8491-2a4967e3', '02fc82b3-279906a9', '02fd08c1-f0e81827', '02ff80b4-9b422cbd', '030003dd-480d0868', '03049c98-2be9fd83', '0308ce2b-1bfd979e', '0308ce2b-1c804293', '0308ce2b-8fc462fd', '0309a59f-1c34bcb8', '0309a59f-635b25c2', '0309a59f-a7bdd258', '0309d11c-4f7cba1a', '030a6a6c-fca2979d', '03106632-515213ca', '03106632-a41c6be9', '0315121e-d61f498f', '0315cc1f-d0c40c17', '031637c4-10cdaf09', '031637c4-1d39b9e6', '031637c4-655be58e', '031637c4-9b8207b3', '031637c4-b28f871a', '031637c4-bc0eaa8e', '031637c4-ce5604cc', '031637c4-d2a9e7f0', '0329b7f6-7b36589b', '0332729f-b63cda04', '0336de82-802d2437', '0336de82-d8b4761a', '03370efc-c690f4d8', '0339a42b-1e75ac9a', '033dea13-5a8114fe', '0340d277-0531808b', '0344b71d-0063c015', '0348a36b-deb80913', '034ba984-01a430f3', '034ba984-81e22d48', '034ebec5-b2b76478', '0350600d-99bbb16e', '035563ed-61c19e16', '035cbba8-1e0e6c8d', '036e699b-cc9cb9ff', '036f07d5-92c52ed8', '036f07d5-a41ae610', '036f3b5f-ee1521de', '0370eddd-81051014', '03715d08-cb7c434d', '0372d8e2-03d838f3', '0373c15f-d7b291b8', '037795d6-d456ac0c', '0378d8dc-45d0c6c6', '0378d8dc-62d8e85a', '0378d8dc-92df7b3e', '0379e014-116dc5cd', '038db692-241b4e37', '038db692-9c25743b', '038db692-a3659ab7', '03935c73-6fad10a2', '03935c73-98cac3ec', '039c5dcd-86d8c0e2', '039c5dcd-a603673a', '039f729b-0fb582da', '039f729b-17136fb4', '039f729b-2ba56f17', '039f729b-7d2ba342', '039f729b-8878b974', '039f729b-913a68c6', '039f729b-93e4617b', '039f729b-9f86828d', '039f729b-dce2ffeb', '039f729b-e5d9aec8', '03a08882-3c5b8923', '03a08882-3e0f18d1', '03a3f4e6-caeaf05d', '03a4b3d3-277756e7', '03a5976c-6d4c6239', '03a5a702-81bc7402', '03af3912-314e2022', '03af3912-36636dd5', '03afa5eb-b47a1969', '03b58b4e-7fc6e32a', '03b58b4e-db439f75', '03b5e695-11d43622', '03c66a02-3deee2e5', '03c775b9-d2cf9e5b', '03c8da12-57d3c936', '03c8da12-98ab6099', '03c8da12-b57178f9', '03c98179-6c0700e4', '03cac642-016c2282', '03cac642-35fdab83', '03d17a3b-11512102', '03d34d05-4a61174c', '03d34d05-b6ceb2c7', '03db1bc2-833ca88c', '03df831f-35275baa', '03df831f-c91ea298', '03e19d79-c79b6a0f', '03e20a2f-c96c4ace', '03e6753f-a6371fe5', '03e6753f-f5383961', '03f0f5e6-ab7a74ed', '03f65112-049cca26', '03f6e688-415b77da', '03f7582f-e4e38a47', '03f9dbcd-3dbb2e40', '03fd9aa1-4be42e2e', '03fd9aa1-78e4c146', '0401de66-495d6358', '0403a8cd-a9f22fd9', '04056725-14e1b11d', '04056725-91d0bd08', '0406b065-a759da9c', '04076a65-052f6027', '04076a65-55eb2157', '04076a65-57bf4de3', '04076a65-79b349d4', '04076a65-89793286', '04076a65-8c1a44ba', '04076a65-9f16243e', '04090516-2bb725c1', '04095551-ef1928db', '04095551-efe2622a', '040aae19-9d710ac9', '040c92cf-a442c0e9', '040dfa50-4082932d', '040fff88-4e31bfdd', '0415cf54-5f2f44fc', '041bc149-5a655ba3', '041fb602-19f8495d', '041fb602-3ae26718', '042005ab-c83ca504', '04278889-09b2e20d', '043026cb-2808c6fb', '043026cb-3a39d0b7', '043026cb-62b088fd', '043026cb-9d986c22', '043026cb-a30ed3f0', '043026cb-cf576c90', '043026cb-f72901db', '04327108-6fb3ab49', '0432d284-b1121aaf', '0432d284-c924667e', '04348402-062a4eac', '04348402-1ad21f8a', '0442fc4d-cf3c321f', '04488604-03cba446', '04488604-2d268bc2', '04488604-72f099d0', '04488604-7db829ee', '04488604-c87bc645', '04488604-f1028b71', '044c32cf-15c8cd24', '044c32cf-7afc4028', '0451ce55-c7cdc6f2', '0453391a-58028b18', '0453391a-c5005d00', '0453391a-f15e9e30', '04578595-354c5f49', '0458f7bf-6d757fad', '045ba264-674ef27f', '045cb354-470666ec', '045d32b5-31a5a2dd', '04629c39-1d564d8a', '04629c39-3abed5d9', '04629c39-4a119705', '04629c39-69d7c08c', '04629c39-faefdb18', '0464d3e2-8844a22c', '046becaa-7a2e7ecd', '046becaa-8fc35912', '0474c68e-78a16303', '0478d053-0eb9fe2f', '0478d053-88a940c9', '0478d053-f5bb4831', '047a188c-1ac1965c', '047a7ecb-68221e4a', '047c278b-452d36f8', '047e715f-3e47a9aa', '047e715f-81e81a28', '047e732b-aa79a87d', '047e7f64-6df28989', '0480f92e-1ab5242a', '0480f92e-6da53797', '0480f92e-bddc6920', '04810e69-d5018754', '0481e94d-a40bbffb', '048be7ce-6de74c1d', '04904d8d-0ab5c90a', '04904d8d-d7add19f', '04961497-68988240', '049c5d34-3610aeab', '049f2340-26fc3c56', '04a4137e-4b7d314e', '04a4137e-ecd0ba6c', '04a45d6d-2abd9c7b', '04b33c7e-df4fc4c8', '04c6b8fa-4abd5e9f', '04c6b8fa-d242db71', '04d49b8a-f0e342cb', '04dc483a-f595d9f1', '04dd75bb-9507acc4', '04e55a30-fc0b249b', '04e6f6b8-67767837', '04e9173a-d978b34d', '04edbec0-95b33e2a', '04ede4bd-c03f27b1', '04f64678-c012d1e3', '04f8ceb2-950fe6d8', '04ff2dcc-d4f48c8a', '0501cda3-45135081', '0501cda3-5c939ca7', '0501cda3-5e493eaa', '0501cda3-6d714e69', '0501cda3-cc74ad37', '0502de3f-13d1dc8f', '0502de3f-912266b3', '0502de3f-95405511', '0502de3f-c9529246', '0505c36e-579b416c', '050cada6-3abbedba', '05165073-5dab7d28', '051a0fcc-c3b533f6', '051b9d2c-339b8325', '0521fd41-39bc52be', '0521fd41-40219907', '0521fd41-c08687cf', '05266828-33538181', '05266828-79a6ed22', '05266828-a6ee9545', '0526fe78-ad2264aa', '052fd7cc-b5dee1de', '0531d2f7-1feee72c', '053da4e3-48ec49ba', '053dc1d6-29b58579', '054575c4-3e39f3cf', '054575c4-e461764c', '05476b39-9d783f66', '054a8fc0-6f54c1d9', '054b4492-b9ca5e57', '054bcdd2-d62b4b62', '05584a52-5185a296', '05584a52-5201a8c1', '05584a52-590d4e59', '05584a52-61acd2bb', '05584a52-63a8d88e', '05584a52-687411b6', '05584a52-730a88df', '05584a52-9725bd6b', '05584a52-a039fa45', '05584a52-aa126299', '05584a52-d4064389', '05584a52-e5ee180a', '05584a52-fc4990b5', '055e339a-1c6cb352', '055e339a-e98dd764', '05640976-d1ce1090', '0569624e-1beb3b3c', '0569fe1c-23a8a28a', '0569fe1c-288f0512', '0569fe1c-ffe5f96c', '0571873b-de675e01', '0571873b-faf718b2', '0573e933-a8b4cf7d', '0573f031-8ef23cf6', '0573f031-e8244dd0', '0573f031-fe89a0d4', '057eea5e-7fe988ad', '057f2887-a81b8339', '05911dc1-9990e9e7', '059286c1-7419d52e', '0593fea2-6471cf4e', '0595227e-bf4ccdda', '05983eea-0ad7129e', '05983eea-b4fc86f9', '059841ce-121c8b06', '059ec458-3b7e13f2', '059ec458-73d28f10', '05a45cbf-869f937e', '05a45cbf-ffa8ddde', '05a93853-0d9f37e7', '05a93853-58c63f87', '05ac9eed-66967885', '05acab14-b78b76c7', '05acab14-e1a73018', '05b06a04-5d7141e0', '05b2293c-e42b15f3', '05b457b9-6e326f39', '05be3c16-e85868fd', '05c1c47a-cb817b64', '05c6dd3d-0ecc1cb7', '05c6dd3d-d1b55512', '05ca0197-6c0b4628', '05cb8e1c-e064ca63', '05d30a18-19032166', '05d45cf1-f9c00c3e', '05e261cb-ef8cd52f', '05e2d74c-9e1ed30d', '05e4d323-5e76c428', '05e4d323-6779ccbc', '05e4d323-843db21c', '05e4d323-99f9fdd9', '05e5b952-70bc5050', '05e5b952-73bfedb3', '05f073fb-21f47332', '05f073fb-2d3ccdce', '05f073fb-c158d772', '05f194e3-369346cf', '05f194e3-bb62504c', '05f38f06-96293250', '05f41c11-94e167fc', '05f474ad-657e49f5', '05f899e8-b72038aa', '05fa6494-2fad5381', '05fa6494-51df9bd3', '05fa6494-8f436d04', '05faab83-7761d124', '06011abb-2ef4cced', '0603e6ca-1f32cf5c', '0603e6ca-2a8fd650', '060f62bd-686c028e', '060f62bd-6c510f2f', '061384e9-8c042acb', '0619414a-98e72c06', '061ae121-ba8c91c2', '061b081d-b5e37863', '061c075c-3a32cdce', '06218dd8-085f4f5c', '06238b9d-364b8d6a', '06257efc-812f6534', '06257efc-9039235e', '06257efc-9aba5724', '06257efc-a0ad911e', '06299d10-4eaf8f1e', '06299d10-be057929', '0634e4d9-cbdf926d', '063753c7-71200365', '063b9c10-308a37ed', '064bad4e-160c2ad1', '064bad4e-a702a4fa', '064bad4e-ae51d829', '064bad4e-b2a60955', '064bad4e-e26c64f8', '064c08ff-88dbcdca', '0656c6ac-751578f2', '06583aaf-bb7d4ce1', '06595ed1-6aa7c911', '06595ed1-9a6d5592', '065992a2-2002dbea', '065992a2-5bef4d51', '065992a2-8765cbc1', '065992a2-ab48085d', '065e0b3e-2ac56f6f', '065e0b3e-9ab831d1', '066112a8-cdf390dc', '0665228f-1274f410', '066557f7-734f81af', '066557f7-d3c24cb9', '066557f7-f2fe2ec0', '06661450-f52ed9ce', '06668f7b-81a4f8e5', '066a3f28-bedf609f', '066d6f37-6037f6cf', '066e4bec-ba100c24', '06727591-79344a7e', '06727591-f55ebbfa', '0672c229-4d6e08a2', '0672c229-561d73fa', '0672c229-e9497c41', '0675e448-20f9d125', '0675e448-ada913fc', '0675e448-b483aaa4', '067873fa-af75840e', '067873fa-f069152c', '067b4f84-172af845', '067ebca1-36bf70d8', '067ebca1-77c243c7', '067ebca1-8a3387bf', '067f3361-39097fb1', '067f8fb0-1e602c4b', '067f8fb0-299024f0', '06836e19-0798237e', '06844897-e035260a', '068cf5a2-878127f3', '06918135-10720a5a', '06924f46-1708b96f', '06924f46-493de064', '06924f46-7f03bcdc', '06924f46-983ee289', '06a0993c-caa90cf9', '06a4abd2-bcb723c2', '06a4abd2-cbbaaf3f', '06a5fad4-3cbd31e3', '06a5fad4-cc2f8016', '06a93a2c-64127de3', '06aafbf5-2c703059', '06ac374f-364c820e', '06ac374f-5c7f25cf', '06ac7da9-1d958101', '06ac7da9-81ae9c1c', '06ac7da9-b4b26aa1', '06b1932a-5757cfcf', '06b1932a-d60f771a', '06b49335-a4533ec7', '06b6c91e-f989a46e', '06be45d5-cd085139', '06c2ee7b-b7b17d24', '06c58952-170a4d8f', '06c58952-586ceee5', '06c58952-9b58fdad', '06cb522f-98fb6b62', '06cb522f-aaed5ecf', '06cb522f-dd1b9be7', '06cb522f-f1ff4334', '06cb522f-f3b53ccf', '06cbfcda-21eeb0d3', '06cbfcda-32875f1e', '06cbfcda-8f691320', '06cbfcda-957a0b95', '06cdf0b1-6fec3924', '06d065cc-2ee20dc0', '06d065cc-bbf101e6', '06d1c4fe-4f416689', '06d1e27a-417be915', '06d501fd-31889467', '06d501fd-73489e78', '06d501fd-84390dd3', '06d501fd-94c914c9', '06d501fd-a9ffc960', '06d501fd-fd237e38', '06d54ae6-26a3446e', '06d54ae6-76749641', '06d54ae6-bf7ed032', '06d981bc-01758867', '06d981bc-d8411e3b', '06db23de-8789538f', '06e4a00e-346390c8', '06e4a00e-9ed56776', '06e4a00e-b0887752', '06ea71d8-6f0a4db0', '06ebf6cd-0c129f12', '06ebf6cd-79235c8d', '06ec79fd-3351771d', '06ec79fd-7b557fdf', '06ec79fd-88116705', '06ec79fd-9f4cd0ba', '06ec79fd-a832f627', '06ec79fd-ad0188f8', '06ec79fd-ea7c5c86', '06ef8fed-e38497d5', '06f7a41e-7dcae57f', '06f7a41e-a79002e3', '06f7a41e-c8b5c7c7', '06f7a41e-ff3ff2b6', '06fb4e9c-42c4177c', '06fb4e9c-efadbbae', '06fb4e9c-f4fc93c7', '06fb4e9c-fc5098a7', '06fce5b8-efc1a0dd', '06ff7d61-1fa52d1c', '06ff7d61-3135eaa4', '06ff7d61-45086936', '06ff7d61-48a6bc46', '06ff7d61-53ba5061', '06ff7d61-58d5d14e', '06ff7d61-734f0911', '06ff7d61-8cefb300', '06ff7d61-dc1c9107', '06ff7d61-e2930879', '070383db-0363b1c7', '070383db-2f4f6ade', '070383db-c693da33', '070383db-e4ac3ced', '07058848-6862bfe4', '0706e16c-8eb9233a', '0710389f-038050ae', '0710389f-2a7ff2be', '0710389f-7b28ff14', '0710389f-9edbc057', '07116ae0-0f12a817', '07116ae0-e9b4fa4a', '0711ab13-56b31255', '0711ab13-698c82be', '0711ab13-e486593d', '0711ab13-ff3633ab', '0714456d-083ade57', '0714456d-2648a0c9', '0714456d-4cd21397', '0714456d-619b3a70', '0714456d-88d85a8c', '0714456d-dea58ea0', '0714456d-eb7f5c38', '0714456d-f947f605', '0715d80a-f3fd3da8', '07184fbb-061caa74', '07184fbb-0a78715a', '07184fbb-1bf770ba', '07184fbb-2dc17016', '07184fbb-2e67b768', '07184fbb-33a15da2', '07184fbb-54f9d99d', '07184fbb-5d195420', '07184fbb-7b3e0527', '07184fbb-af89b759', '07184fbb-bab6f8ce', '07184fbb-bb4c67d2', '07184fbb-dda0b7cd', '0718ab33-bbd7e0ae', '07199529-6430cbf4', '0719a2ec-08bcf521', '0719a2ec-133d9525', '0719a2ec-45b781f4', '0719a2ec-6723a27b', '0719a2ec-f12c90bb', '071c7a20-524d2e74', '0723c4dd-6d50a276', '0723c4dd-7a1168dc', '0723c4dd-fe5bd292', '0723dfcb-b54e0783', '07254f2e-32a98be9', '07254f2e-ad7e4ddb', '0725b3e1-4d70a646', '0725b3e1-9c9078cb', '0725b3e1-9e3a1eee', '0725b3e1-e2d1e6af', '072876e5-c10bfc30', '072ca47b-0cb52c7f', '07363609-5a0aaaf2', '07363609-da2e4ed9', '07363609-dd3a8645', '07380221-064f762b', '0738f42e-734821e2', '0738f42e-fe0d895e', '07398e6d-0295f0a1', '07398e6d-65825072', '07398e6d-7b0dc522', '07398e6d-f130f7bf', '073d4e2a-16e9d952', '073d4e2a-55c1f733', '073dc97d-7a3e1436', '073dc97d-bad8ed1d', '07482c65-a96de461', '074b3ead-8243b693', '07542d08-ad63ba4f', '075d08d3-8206da91', '076399f2-3cc0e470', '076399f2-4857e5a4', '076399f2-4c68835b', '076399f2-4ee5c4fe', '076399f2-6b5a6d2a', '076399f2-6c2cdfd0', '076399f2-b3108b86', '076399f2-d397b12e', '076399f2-e2bc0747', '076399f2-ec0a8baa', '076399f2-fb3e745b', '07654a22-5880c393', '07707ea5-93f88fca', '077192f8-4d59e803', '07797fc1-3f6aee10', '07797fc1-8964710e', '077d7bbc-2dc66d22', '078075c6-029c7300', '0786294e-634c696d', '07895b8a-3a843bb5', '078a348a-d0c2ed97', '078fe907-065ed380', '078fe907-795898f3', '078fe907-c39a62fa', '07919504-00f3c313', '07919504-3a57c8d3', '07919504-a04fb42d', '0793f9bb-6d2220bb', '079655cf-662de762', '079655cf-66cd5654', '0798a3a8-04635a44', '0798a3a8-5a64671d', '0798a3a8-c4501e0f', '0798b865-3ebaa099', '079cc21d-b9921e11', '07a192de-e995e685', '07a3c8b9-1e5a432f', '07a3c8b9-28eeac9f', '07a3c8b9-63776739', '07a3c8b9-bba3d553', '07ad24e3-66c734d0', '07afa351-aa604b11', '07afa351-cbfae483', '07afa351-d3181637', '07b1efc6-4e6ba1fd', '07b584c5-fff3b3bd', '07bf51f9-ae12b6bc', '07bfc402-10ede36e', '07bfc402-3a259e9f', '07bfcfae-64af58ec', '07cacc74-3673b8b8', '07cacc74-44490bdb', '07cacc74-48597e5e', '07cacc74-5ce6b76a', '07cacc74-61869ca0', '07cacc74-aa13cc16', '07cacc74-c8b09a29', '07cacc74-c91c4761', '07cacc74-cd5434f6', '07cacc74-cee72ba5', '07cacc74-db7b9283', '07cc937c-6dbe4029', '07ce2f8f-44e5f0d4', '07d025f2-86b087d6', '07d06160-25326c3c', '07e29820-efa9e7da', '07e49e2a-08324f2c', '07e9e760-687a2c40', '07eb68f5-252839d8', '07eb68f5-cec4ea21', '07ef9f5f-42c0ac31', '07ef9f5f-e16d00e8', '07f00d34-6155d2d2', '07f00d34-abe4661a', '07f00d34-d171ea84', '07f00d34-ee7e7f78', '07f17a1d-168e7ff8', '07f87c9c-43370670', '07f87c9c-8a8d81ef', '08008acf-4c0ddc8b', '08008acf-6f841581', '08022699-557eec00', '08022699-d03af7f6', '080ade80-1a838948', '080caaa5-5d57e4c5', '080f9a47-c88dc0a5', '08100da5-2a5e810c', '08100da5-799a3675', '08100da5-a37e84ff', '0810662d-197c6727', '0810662d-2ea3d3be', '0810662d-b69299ff', '0810662d-f6ef3ce2', '08119845-793c9e3a', '0814c9ab-2ccb34d0', '0814c9ab-92e16892', '0814c9ab-a1ba9412', '0816a76e-156bcd83', '0817823b-8a8657e7', '08192d2e-46987583', '081a0da6-4cc7be10', '081a0da6-a7cdac9c', '081a0da6-b05c1ed2', '081a9205-75de0052', '081a9205-f5dc5e5a', '081d977d-620470d8', '08243e30-63b1362a', '08243e30-f438c630', '08245bc2-6167a549', '08253d60-41b6c8c3', '082db74d-426c3ebb', '082db74d-fa17e940', '0832b2c1-01c32f0f', '0832b2c1-21d84e13', '0832b2c1-59228fb8', '0832b2c1-83fe4bac', '0833fb1f-c562601b', '08355b53-04fdd656', '083b95dd-d3df986a', '083bc808-038273c1', '083bc808-1e8e1d56', '083bc808-2f00f1df', '083bc808-43718f9d', '083bc808-8474fdea', '083bc808-b649e045', '083bc808-c88e8c8d', '083ce411-09ba0e68', '083ce411-c3a120b6', '084071b2-5c01f0f9', '08407547-88a86bf4', '0844afed-62a1b2be', '0844afed-b7fa350e', '0844afed-c1671c1b', '084614d0-f3b8de35', '084811da-94a1a430', '0848e4c3-34d62aa6', '084d79a9-60652407', '08559e14-2a0b3e25', '08559e14-86c1c50d', '08583f29-c9f81ac4', '08588924-f78d1a6b', '085aacbf-2640f791', '085aacbf-405e046c', '085bfa4b-23d563c8', '085bfa4b-34490720', '08605381-3c49572a', '08605381-9748a08a', '08649f3e-0a88fbfe', '08688b9f-1a6e302c', '08688b9f-2889013f', '08688b9f-4e2c11c8', '08688b9f-59041747', '08688b9f-8911d365', '08688b9f-cdfc0599', '086c8f1b-1241a1d3', '086c8f1b-ec86f250', '086c8f1b-fb69efcb', '0870105b-f772e964', '0873c3f4-bc6dc8da', '0877376c-3ec788af', '0877376c-4cd79f02', '0877376c-7309d0a6', '0877376c-b3620814', '0877376c-dc2a22e3', '0879ba7f-43a47bb3', '0879ba7f-550d7ffa', '0879ba7f-631bc8b8', '0879ba7f-c8c678db', '0879ba7f-fa124849', '087a33b7-ec85f56a', '087da2c5-d6096e8a', '087e6817-a5fc2082', '08800a8a-598050e9', '08800a8a-ac06cf56', '08822b78-139672d0', '08822b78-8e3a3d0e', '08855b9f-ff3461b6', '0886c147-281cfa4c', '0886e393-780fde7c', '0886e393-b1f18174', '0886e393-e8e27f67', '0889ae28-d1175770', '088d61b7-23a5554e', '088d61b7-6f2ca854', '088d61b7-a4ec6aaf', '088fe2e8-0b217f46', '088fe2e8-d03766cd', '0890eeb6-7b4e598f', '08952c41-16ad11b8', '08952c41-6107aa98', '08952c41-61d98712', '08952c41-69e7fcf1', '08952c41-cb9f493d', '08952c41-cd2886c9', '08993d00-386a4ee4', '089e3d7b-d89c240a', '089f0fae-393136c9', '08a18849-8f2d5d07', '08a18849-e16aacd4', '08a18849-e3f76f44', '08a1ba07-dc46f5a3', '08a4d377-dbd91f08', '08a4d377-f323b6c8', '08ab784d-0dec33a1', '08aba9b5-9f0927ea', '08ad7534-0959cedc', '08ad7534-3db5e60b', '08ad7534-57392f9d', '08ad7534-5dd9b225', '08b5c3d0-b5d559fe', '08b5c3d0-bae9d55b', '08b5c3d0-bd78ccb2', '08b77e05-932ca5cf', '08b7e1dc-08193e4b', '08b7e1dc-3728a8ce', '08b7e1dc-c621cc6f', '08b854be-a09163c8', '08b99c7c-1aaafa3c', '08b99c7c-e3815fd5', '08c0f170-382c29db', '08c0f170-d2b40917', '08c80bce-9dc75e4f', '08c82c63-03a451ff', '08c82c63-2d9a0088', '08c88de6-0919fd52', '08c88de6-6cd7fb48', '08d0f0fe-180a9442', '08d0f0fe-55165a5e', '08debc35-c93f11b6', '08e3c891-4faee3d0', '08e3c891-51d3dce6', '08e3c891-54afd74c', '08e3c891-85c49152', '08e3c891-9fc671ad', '08e4f0af-3b719b39', '08ec5fe9-16c339b7', '08ec5fe9-c9944382', '08ee35d5-d3b921e3', '08ef6c01-90876470', '08f22787-8b51e932', '0908b2c6-07100ed6', '090916a1-36c89f3d', '09098331-df21dd39', '090ebc7d-4412ca52', '090f9b33-776dbf8b', '090fd6b0-10bf3b2b', '090fd6b0-93454d21', '090fd6b0-9581c55c', '090fd6b0-b45dd138', '0913cf42-fec3e0c0', '0919d0a6-27280b18', '0919d0a6-b6ec5595', '091a2eea-2d87f577', '091a2eea-b7e5ca31', '092183aa-92a87aff', '092183aa-ae5ae55e', '0924b40b-6ec1c8e8', '0924b40b-748ac7ce', '0925542b-d8dece5c', '092564ae-11ea63de', '092564ae-22937460', '092564ae-43ba2b4b', '092564ae-f672e99a', '092683ea-4efb913f', '0928ee80-58cbc552', '092a4d43-1663d2fd', '092c9382-1821f62d', '092c9382-26c1ce10', '092c9382-666dfa86', '092d59eb-b6b599c7', '09329382-5947e435', '0933f463-e65d58c7', '093da9de-6b506da5', '09430cb4-ec7ebc86', '0943bcdd-481da984', '0943bcdd-e6e3f6f0', '09444e33-9601db9a', '094647f9-8af4abe6', '094a88ce-225be062', '094a88ce-4d08ee61', '094a88ce-8a74ed19', '094c0ec8-4e54b1d0', '09541f45-0814ce05', '09541f45-d5b41bfc', '0954aa06-69e1e2c0', '0959bfdf-a1660e61', '0960d93c-1ce28b0f', '0963d621-188fc182', '0965d7bf-e0645a2b', '097120a3-3558f394', '097120a3-de3c12af', '097450c5-3e2b46e6', '097450c5-87ec5fcf', '097450c5-d9520478', '0977bc8b-4dc8eea6', '0977bc8b-ee7159d4', '0982e452-092c8791', '0982e452-81d39a4e', '09855b04-724fd2f2', '09855b04-b6865098', '098b9464-b98f852b', '09952d94-b67d51e0', '0995c400-288f0353', '0995c400-95fad111', '099601d0-1b317d33', '099601d0-ad286389', '09993b50-7578df99', '099d8913-48b371ce', '099d8913-a6af05ae', '099db658-0ec6b6fc', '099db658-67d6622e', '099db658-8aea6bf2', '099db658-a2edb966', '099ea5ca-477562fd', '09a24438-2716030b', '09a90861-f3911bab', '09abd73b-216c1c1d', '09abd73b-8e245bf8', '09ac7416-087779c5', '09ac7416-220bef65', '09ac7416-34ea8581', '09ac7416-54132cc6', '09ac7416-555a8310', '09ac7416-5a77d689', '09ac7416-6b722ba9', '09ac7416-6bc5a9cb', '09ac7416-7302f662', '09ac7416-74752083', '09ac7416-76fb4b2c', '09ac7416-7c587077', '09ac7416-835e703f', '09ac7416-89d3deee', '09ac7416-8c3af878', '09ac7416-8fe666f5', '09ac7416-9348179d', '09ac7416-97268db8', '09ac7416-983456b7', '09ac7416-9b774a61', '09ac7416-a111a98a', '09ac7416-a3f1d634', '09ac7416-cb9a074b', '09ac7416-d0e852a3', '09ac7416-e1082bec', '09ac7416-e6a289ed', '09ac7416-ea7be0e4', '09ac7416-f97c710b', '09acd1a2-3f161bde', '09addb9d-34944c18', '09addb9d-3d4c0dba', '09addb9d-886a3ad8', '09ae119b-ba122e1a', '09ae119b-eb13907f', '09ae119b-f7f6ef39', '09ae119b-f8e3d19d', '09ae89e4-9ef1aaa8', '09b5ab15-7792a869', '09b5ab15-d01184c6', '09b80f74-c763ee9b', '09b978e2-431a26d0', '09b978e2-d23f214b', '09b9d128-49d9ff0a', '09be05bd-30224d54', '09be05bd-6471d11b', '09be05bd-e9a83fd7', '09bee6ab-e0f4268c', '09bee6ab-fc2f12ea', '09bf8565-ff3f3d49', '09cf2788-3645c2cc', '09cf9690-42c8cbe1', '09cf9690-a8ecf92e', '09d60d59-2fbe6729', '09db60e1-f4a3ae9f', '09dd76ae-3181a025', '09dd76ae-52f1d513', '09dd76ae-969fcad7', '09dd76ae-9f45d6a2', '09dd76ae-f764918c', '09dd76ae-f76dd368', '09dfeb6c-cda8d6db', '09e2ff07-1eac3342', '09e2ff07-3674f025', '09e2ff07-a0c1d501', '09e3f46e-28427585', '09e3f46e-b809d86f', '09e3f46e-de81d891', '09e4ac3a-00eaf365', '09e4ac3a-34ef3203', '09e4ac3a-3d9799e8', '09e4ac3a-7a686d69', '09e4ac3a-7c9b6159', '09e4ac3a-8126e9c0', '09e4ac3a-a661ca55', '09e7659a-1ec0ce25', '09e7659a-51bee64d', '09f2cf2b-29b318d6', '09f2cf2b-46aa95b4', '09f81455-e194d277', '09fc761d-ade472bb', '09fca634-4e9ac752', '09fe84f2-5f2228d2', '0a06d3bc-7f823a5a', '0a07abbf-5eeee19d', '0a094d1d-0e7bf5d0', '0a0dec37-e2f3bc1c', '0a0eebd9-9f8ba3ef', '0a0eebd9-b6fff9e2', '0a14a567-fdd08dd2', '0a1696f0-4baaff0c', '0a1815d1-fecf62a8', '0a227e54-8e80ff58', '0a227e54-ca03e077', '0a2387c5-e749100d', '0a248ce2-0403fd1b', '0a248ce2-5111a890', '0a34cf13-0309971f', '0a34cf13-82e0dce3', '0a350edb-6f5c7ef8', '0a3f8f94-0f3aab2e', '0a3f8f94-2208fb12', '0a4038ba-d142516c', '0a4773b8-1f7d3939', '0a4773b8-309d2347', '0a4773b8-ff24b5af', '0a48c5ed-38e5a6e1', '0a48c5ed-ef414cfd', '0a4d348a-7e574e21', '0a4fd219-3d34b17c', '0a53c48b-86fda2c8', '0a53c48b-96a41da5', '0a5b87c2-2ad0b7b0', '0a5c2462-2f0a50f8', '0a6243ba-dd69f1fd', '0a62ffee-39c7fe98', '0a62ffee-85e97e08', '0a6966b1-44e6916a', '0a6966b1-936df4dd', '0a6966b1-ee9ded94', '0a70b8c5-05f892e4', '0a70b8c5-2006d229', '0a70b8c5-8c3ef863', '0a75801e-05155014', '0a765e5c-52776659', '0a765e5c-98fd51e9', '0a765e5c-ecfdc16f', '0a7b0436-1a46bb12', '0a7cbfc6-469c9037', '0a7cbfc6-bfeebf8d', '0a7cbfc6-c83c2cde', '0a7cbfc6-e40c2fde', '0a7d8340-c8520b7f', '0a7e78c8-016bb7cf', '0a8368e0-41c6b3b3', '0a8368e0-abaca068', '0a856046-2c4b3c02', '0a856046-5adee867', '0a856046-91712e30', '0a8aa157-3127bc5f', '0a8aa157-38e8ed64', '0a8aa157-907adcff', '0a8aa157-b5bd746e', '0a8aa157-cbfd9075', '0a94788f-460bb359', '0a9d03d6-02ea8201', '0aa458f0-e93896a2', '0aa4bc86-1e2d24a2', '0aa4bc86-1e9bb591', '0aab75aa-0d3bd022', '0aab75aa-3bf9a859', '0aab75aa-509b6c36', '0aab75aa-69cf8c75', '0aab75aa-d2728d7a', '0ab179b7-73f29de9', '0ab1b9e8-016bab4d', '0ab1b9e8-070c2ade', '0ab1b9e8-4222958e', '0ab1b9e8-5366e624', '0ab1b9e8-592be5da', '0ab1b9e8-6e21ad4c', '0ab1b9e8-87609e4b', '0ab1b9e8-a910b972', '0ab1b9e8-aefcb8d2', '0ab1b9e8-b8d0530c', '0ab1b9e8-cc34bc77', '0ab1b9e8-d84c2794', '0ab1b9e8-fa380a2a', '0ab44e9a-c1cdae82', '0ab5e3f4-f18c2028', '0aba7df1-d4880e87', '0abf21f6-6a81c140', '0abf21f6-e0708227', '0abf21f6-eaacbb29', '0ac2cd53-8287aaa9', '0ac3cbf4-07c64adc', '0ac3cbf4-0bca0444', '0ac3cbf4-1071bad2', '0ac3cbf4-2bbc1544', '0ac3cbf4-73c76d25', '0ac3cbf4-a764f88c', '0ac3cbf4-ce89456d', '0ac6f942-2641cf47', '0ac90ac0-37cbb7cc', '0ac90ac0-90a8364d', '0ac90ac0-c74d62d6', '0acc0c71-c476dd2a', '0acc0c71-fb703219', '0accdaac-8ac51d5c', '0accdaac-c56e44be', '0ad051b9-9a51e0bf', '0adb9657-ca71bf46', '0ae18b49-b34d0abc', '0ae18b49-e911c6b6', '0ae18b49-f8489d1a', '0ae65b30-09274ba7', '0aefc2fd-73cb00e4', '0af26138-1f2563f1', '0af3c46b-df6e403c', '0af800f3-ebaba270', '0afb7706-1fddf2a5', '0afb7706-d105e7b7', '0afc63cf-30796909', '0b01ca80-42185410', '0b01ca80-852faffa', '0b08fd9d-2fdfb6e0', '0b08fd9d-9a192a23', '0b08fd9d-fd20b6d4', '0b0b8474-ef07f89f', '0b0b93b3-5bb0e887', '0b0c5455-b2513b86', '0b13e9d0-aaf0cc7e', '0b18d293-df51f4c4', '0b1b4391-7e947e1a', '0b1b4391-b4a323f8', '0b1beb15-18d74ac1', '0b2867ef-a6ca437b', '0b2867ef-d6232bac', '0b2867ef-da37e1d5', '0b2bed67-0c752272', '0b37664c-65995ce8', '0b3912a8-ac966f70', '0b3cbe42-50766e2e', '0b3d2eb9-39a83a6c', '0b3d47ed-6cb90089', '0b3fa537-f27cf439', '0b4892bd-444faa63', '0b498ab4-104c3f92', '0b498ab4-61a88e2e', '0b498ab4-72282bc2', '0b498ab4-cde31f4f', '0b4c8138-84032f91', '0b4c8138-a1953ae5', '0b4c8138-adfdfb43', '0b50950c-4e8f95d4', '0b50950c-508c2cfe', '0b53476e-3559f162', '0b53476e-9d258f61', '0b53c98e-a18d24f0', '0b5465b5-367e0c14', '0b581bd7-c805e809', '0b5b81ee-ef0e938d', '0b5c2365-35b41936', '0b5f2a7d-db0d906c', '0b669851-014ff916', '0b669851-0de1302d', '0b669851-11a95d4f', '0b669851-19477a8c', '0b669851-1f89306b', '0b669851-2eee54ee', '0b669851-654711b1', '0b669851-73f2b186', '0b669851-9a60573e', '0b669851-c6571777', '0b669851-d3b40c69', '0b669851-ebc3d3e9', '0b6dd7d8-ff3ac76b', '0b723cce-34bec574', '0b723cce-8381428e', '0b744ae5-176e0cce', '0b744ae5-7a012c3c', '0b79446c-48c7fffb', '0b7b613f-aca8634e', '0b7cbaa7-6a650606', '0b7cbaa7-d677bc73', '0b84641a-2c1532fd', '0b84641a-c360bebd', '0b84641a-ca37f52f', '0b84641a-cbca8d62', '0b8719c3-d69cab7f', '0b88820f-3a647f1d', '0b88820f-96208d1e', '0b8aaad8-90bba881', '0b8d1c37-296c21e1', '0b8d1c37-35b44f9f', '0b8d1c37-6c1d954e', '0b8d1c37-71ee5519', '0b8d1c37-7c5b27b7', '0b8d1c37-952dba30', '0b8d1c37-a2a3863d', '0b8d1c37-c3fa8173', '0b8d1c37-f2105bb2', '0b90f293-089b918a', '0b911639-3a68ac6b', '0b911639-98f93d75', '0b93ba95-a1e4d483', '0b95721d-fb1789c4', '0b9bbe1e-74caa23f', '0b9bd129-d641eaa3', '0b9bd129-de2e7adf', '0b9bd129-fb05843a', '0b9c4f05-d59b8eec', '0ba4bcb2-a3eb64ef', '0ba8603c-c2effb5a', '0ba933b2-3308d259', '0bb277a8-f68273d2', '0bb3f3d3-12b80b0b', '0bb3f3d3-e172955a', '0bc0b27e-5da51b60', '0bc0b27e-81ffcd16', '0bc0b27e-a94dd126', '0bc0b27e-ab185876', '0bc0b27e-b932a660', '0bc0b27e-bbe8f36b', '0bc0b27e-d46482f4', '0bc0b27e-e18eb6d7', '0bc2253f-aa0f9112', '0bc866ed-1abb6bcd', '0bc866ed-65b95343', '0bce68c1-629ddf0d', '0bd91d5f-3f2e5ab5', '0bdbd4b7-98a790ce', '0be031c3-32a8ed04', '0be031c3-3cb8d528', '0be031c3-59881f07', '0be031c3-81b6e5b7', '0be031c3-bc53b837', '0be60f15-4bd4b9d4', '0be60f15-c6936770', '0be60f15-e26992d2', '0be60f15-e346bd2c', '0bf2ee26-0cb721b7', '0bf2ee26-b95d96da', '0bf2ee26-bcfb308c', '0bf38594-2f2211dd', '0bf38594-ef023dff', '0bf38594-f286ef43', '0bf6d230-656be21a', '0bf8851e-5af65783', '0bf8851e-aab7837b', '0bf8851e-c43ef9d2', '0bf8851e-dda24063', '0bf8851e-e3f5b31d', '0bfc0ff9-1fdb0036', '0bfc0ff9-af1b0fa5', '0c075770-5eeed764', '0c0aa9f5-fd45f7c3', '0c13b339-97955efc', '0c13b339-aa4c659e', '0c13b339-f7b2a3fe', '0c13b339-fac6ef24', '0c140522-190b25a3', '0c140522-227e6f11', '0c140522-276d61be', '0c140522-57d3aac5', '0c140522-681c508d', '0c18c17b-2a77ce61', '0c18c17b-caea6acd', '0c21c4d2-c1554514', '0c277f4d-a3ed7e9e', '0c277f4d-aece4ca9', '0c28dcae-7f85d6a4', '0c28dcae-c3c1e002', '0c28e5a2-5348be35', '0c29b846-90e94a08', '0c2c1dd4-6233f932', '0c2cb3d5-0bdfc2f9', '0c32a627-c812f5fe', '0c3bef37-6b979c98', '0c40141a-9dfbc148', '0c4586e7-1f3567fa', '0c4586e7-5d936f81', '0c4586e7-b8ecba58', '0c4586e7-f71b7a89', '0c548415-9ee08d7d', '0c5cdb09-421eaaa8', '0c5cdb09-d2d828d8', '0c5cdb09-de949a07', '0c5fd4b3-8eb0a4ee', '0c5ff0c6-b1853637', '0c5ff0c6-d547ace3', '0c6393c7-0b0f304e', '0c639b9e-288920be', '0c639b9e-2f447867', '0c639b9e-44e4bc1e', '0c639b9e-69d332a8', '0c6482e0-50629dc9', '0c6482e0-75260514', '0c6482e0-c1b98979', '0c648d70-2fb6ee12', '0c648d70-8acca578', '0c648d70-d5691d3e', '0c665e73-5f9289ee', '0c665e73-c29932bd', '0c665e73-cd1db64b', '0c674b1e-b5bed7ba', '0c6c9c66-5e86e200', '0c723372-b5a2dcdb', '0c7c6dd2-568be30a', '0c803bb1-9062013d', '0c81ee49-93738b9d', '0c83837e-73833b1a', '0c88c9be-cf4f7339', '0c88c9be-ff63be01', '0c894a07-012172fc', '0c8b32af-2d9a2bad', '0c8e4f10-3ab2911d', '0c8e4f10-b7727d75', '0c90a09f-9a86eeb2', '0c91b387-10ef9e01', '0c91b387-13c4b48b', '0c91b387-772700c3', '0c91b387-b565d397', '0c963de2-245121a7', '0c9f5bb9-459661f6', '0c9f5bb9-4d89a4ed', '0c9f5bb9-b9a81a88', '0ca0e5b8-29ea0437', '0ca281d9-26a285af', '0ca281d9-6f63e462', '0ca281d9-adf4c078', '0ca281d9-c4c98c8d', '0ca281d9-ef561455', '0ca4bf18-01b2b80a', '0ca4bf18-1861b4c7', '0ca4bf18-be5ee8c4', '0ca8aa90-320f3a64', '0ca8aa90-615caa0c', '0caabbb0-18d25dad', '0caabbb0-795b4e67', '0cafd340-5ded1777', '0cafd340-7d7ef8f6', '0cafd340-e6701b0a', '0cb2bdef-65608bf8', '0cb779ad-3a1245a3', '0cbc3878-7f113a42', '0cbc3878-c439a119', '0cbc3878-f878c307', '0cbc4cff-a698f534', '0cbdd20d-06311903', '0cbdd20d-6ce7dfa3', '0cc07488-08863628', '0cc07488-a77bd47c', '0cc6dc2e-abf312a7', '0cc987c4-dbededd4', '0ccee02b-edea3c6b', '0cd440c4-31cf6726', '0cd7b5f1-21b1e324', '0cd7b5f1-ee838568', '0cda677f-15646124', '0cdb6d7e-3573c527', '0cdb6d7e-55d7c1d9', '0cdb6d7e-bb073322', '0cdde16a-e2d9677e', '0cdde16a-e7a0d875', '0ce3ea39-1a4ad70f', '0ce3ea39-a5ded49c', '0ce3ea39-bea385d4', '0ce3ea39-fbdbae02', '0ce5101a-0280b606', '0ce5101a-08b03d25', '0ce5101a-2b5af968', '0ce5101a-2d6eb116', '0ce5101a-319a76bd', '0ce5101a-36562e6a', '0ce5101a-39704188', '0ce5101a-9f7e7fd8', '0ce5101a-cc1645bd', '0ce59f85-38ec2981', '0ce59f85-4636c80c', '0ce642e1-adcc9562', '0cee1da1-a0e4360e', '0cf12cc6-4153a857', '0cf34150-75819d8c', '0cf398b3-931e3286', '0cf398b3-969c7625', '0cf398b3-ce65ab64', '0cf64c93-546f44ef', '0cf6f074-1cc6eecd', '0cf6f074-33fb55d1', '0cfb05d4-0f42cf98', '0cfb05d4-98633538', '0cfcbb80-015af547', '0cfcbb80-4f057539', '0cfd2a3c-8110d4e2', '0cfd4cb3-5bc4199e', '0cfd4cb3-ab95b0f3', '0cfec584-8ab900db', '0d029d7e-12b07534', '0d029d7e-b72b1320', '0d0324f9-835b0ca6', '0d034e14-638e9c7f', '0d04b217-d9aa806d', '0d04b217-da8bf6b7', '0d075ed7-260fad1b', '0d0b1945-c0c13433', '0d0b3605-9162b343', '0d0e0415-608418c6', '0d0e69b6-507e6590', '0d0e69b6-a30b3acb', '0d13ae3d-1bf40521', '0d13ae3d-208a0cdb', '0d13ae3d-3ac8a40d', '0d13ae3d-e9464364', '0d13ae3d-f033a349', '0d14d236-8433ea84', '0d1914f4-7aafe102', '0d1914f4-b56f469c', '0d1dd928-2d090841', '0d1fc580-2bbf8587', '0d1fc580-3be6937e', '0d1fc580-44142e94', '0d1fc580-5a2eefb0', '0d1fc580-6192f7bd', '0d1fc580-61bbac5d', '0d1fc580-678ed420', '0d1fc580-792c5f0f', '0d1fc580-8d2096de', '0d207cff-4d922795', '0d207cff-6d499379', '0d207cff-7d5f2800', '0d22eba4-32d54614', '0d22eba4-3ef57ba7', '0d22eba4-556bde2d', '0d22eba4-58ddb1c9', '0d22eba4-90037346', '0d22eba4-b0bbb53e', '0d22eba4-b968508b', '0d22eba4-cf29ffea', '0d2354a4-5a8192dd', '0d23910c-415ca501', '0d23910c-59e80fc7', '0d23910c-70bc916a', '0d23910c-89a32a86', '0d23910c-afef458d', '0d25885c-45cebc40', '0d25885c-ff0fe900', '0d2936b3-879178c9', '0d2ab64b-690f5192', '0d301da1-88d39c6e', '0d323cbd-f40bedbd', '0d36d7ef-77501746', '0d405525-3d6d563b', '0d413bc5-aa945f9e', '0d4736cb-7e8e55ca', '0d4c22af-47d33da7', '0d588ff8-04794cb5', '0d588ff8-22e9ba3a', '0d59904c-e9e056b5', '0d5cc7fb-45e17cc3', '0d5cc7fb-f05472a7', '0d5d3162-278ec913', '0d606092-486670ee', '0d606092-6cb1ae91', '0d66ed0a-b2595268', '0d6dc44c-84a2ba8d', '0d6dc44c-c4ec8d75', '0d6dc44c-c722c83c', '0d7917e9-edd658ef', '0d79cdd7-468fbd93', '0d7ded82-f0e1cf32', '0d7ee472-70fe1fae', '0d82a02d-3277a4da', '0d82a02d-60a4654b', '0d82a02d-7e5ea2aa', '0d82a02d-b4f84469', '0d82a02d-df92e124', '0d82a02d-efdf5c83', '0d89073e-1ce36866', '0d8f44fa-dd1fb210', '0d9b0c00-bfc2ff1b', '0d9b0c00-fe888361', '0d9ca9fa-0b4a0ddf', '0d9ca9fa-debaa238', '0d9ca9fa-ee783c7c', '0da3848e-790a3ca9', '0da3848e-ed2227d3', '0da5c7a9-6a5b3461', '0da6bb36-c17829df', '0da7dd83-3aa62722', '0da7dd83-baf05b5b', '0db3e0bd-10aae393', '0db4e923-0d16f8d6', '0db65573-d7355381', '0db7e91e-0d21c819', '0db7e91e-a080bf38', '0db7e91e-ab8d8317', '0db7e91e-d749c260', '0db8e555-8cb8f220', '0dc21567-5955e0e6', '0dc6575e-6450f9d6', '0dca3d7c-931b1cb4', '0dcd165f-6cc8189f', '0dcd165f-81255c47', '0dcd165f-e537bad5', '0dce14f9-7de59bf3', '0dd60257-0465cd3a', '0dd60257-26802c7b', '0dd60257-50384fb0', '0dd60257-87afd82c', '0dd60257-d8e25a24', '0dd60257-e68ca2cd', '0dd60c33-487dfb19', '0dd60c33-657759b7', '0dd60c33-aa62feb0', '0dd60c33-b868bd7b', '0dd60c33-f8277c04', '0ddb2323-0c33a237', '0ddb2323-49cf0d76', '0ddb2323-6d74c64d', '0ddb2323-70e0e1d1', '0ddb2323-e77ef084', '0ddc430e-27170bbd', '0ddfea57-0ee85975', '0ddfea57-b0fe6132', '0de4b93d-da85ffa4', '0de6128f-d367dc4d', '0deb01f1-0ddb5a16', '0df8a79c-2b0aa7b1', '0df8a79c-90ecb4c3', '0dffa115-18743b1b', '0dffa115-191d4e50', '0dffa115-85497027', '0dffa115-8a64b65d', '0dffa115-ae68677e', '0dffa115-b8259b30', '0dffa115-ca448027', '0dffa115-fca227f0', '0e0158e0-41f5e67f', '0e0158e0-f5da9e18', '0e0560ea-2321ad67', '0e05e1d7-51f68c07', '0e161e35-0c25b563', '0e161e35-1ad7a8a6', '0e161e35-a031c3c1', '0e161e35-b5cc3ca0', '0e161e35-e901691f', '0e1c42db-4d6a2e6d', '0e1c42db-f6a14072', '0e1feef0-8aeb43d9', '0e1feef0-c870dc17', '0e1feef0-df60d002', '0e1feef0-eef960dd', '0e281385-2d045ad7', '0e33c3bd-0157ee1f', '0e3e8f1c-28969934', '0e40e862-f22aa57a', '0e41d504-66e18c61', '0e45c23b-81be712b', '0e460dd3-2cf2a7b9', '0e460dd3-471aad9b', '0e460dd3-6a2d1311', '0e460dd3-ef0763d9', '0e46d6a2-317f2c38', '0e46d6a2-d82d79bc', '0e49c987-701ae02c', '0e4acdbb-2403b10e', '0e4acdbb-eccd8c04', '0e4b2896-7ef4181a', '0e4b2896-bd628d96', '0e4b2896-ee5da694', '0e4f330d-3d085812', '0e55f54c-11c85cce', '0e55f54c-42e14cd5', '0e560716-6d229936', '0e587038-3a0073a1', '0e5b6c2c-d34a8f2b', '0e6538be-925b18a8', '0e653c17-0df33c8d', '0e6cf5cb-8e4fd454', '0e6d508b-c0f521b7', '0e6ea407-51fedb25', '0e711991-1e7bf684', '0e73b6aa-4a1d4281', '0e764680-0710a009', '0e764680-656be9ac', '0e7b7f04-1cd58227', '0e7e46b4-2a057c8c', '0e7ecff9-05e0f288', '0e7ecff9-214db317', '0e7ecff9-2d680391', '0e7ecff9-33fc2c34', '0e7ecff9-34fbb2d7', '0e7ecff9-379817b0', '0e7ecff9-3c6cc8c7', '0e7ecff9-761fe466', '0e7ecff9-923cde6a', '0e7ecff9-ef733740', '0e8235ce-155d45b8', '0e83a2e4-ff09a981', '0e84b431-75df27b5', '0e861c60-0ae8bf37', '0e861c60-15949d4e', '0e861c60-30da4fb2', '0e861c60-b4f0b6ad', '0e8d33c0-036fbd71', '0e8d33c0-c31274f5', '0e8e5273-5fd9ed6c', '0e8e5273-bbb295ad', '0e8e5273-bd0900d0', '0e947ab4-9e87f729', '0e949862-efb9d5c7', '0e9614fc-95c7b9e7', '0e9e7b3c-7e2c768b', '0e9fa94b-4f1e5000', '0ea059ef-101818db', '0ea059ef-581f9675', '0ea059ef-6ba5f895', '0ea059ef-6d95b982', '0ea059ef-ffb43396', '0ea102ca-03a24c44', '0ea102ca-24c300bf', '0ea102ca-61b381a9', '0ea102ca-6b91d2d0', '0ea102ca-b8e8cb10', '0ea102ca-e03d61b0', '0ea102ca-ffc983ed', '0ea18604-6891dcf5', '0ea18604-eec933af', '0ea2cab3-e5d8177a', '0ead45b1-17291835', '0ead45b1-6ca2cf9c', '0ead45b1-772580b6', '0ead45b1-cc3c9a49', '0ead45b1-dd87f181', '0ebdf257-418e9b4e', '0ebdf257-54c3ca29', '0ebdf257-7f2a2044', '0ebdf257-a3c5ba6b', '0ebdf257-e022bc05', '0ec4e1d8-36ec49d5', '0ecc89ce-a5dc232e', '0ecdbdbb-1d56bde8', '0ed2fa4e-88043966', '0ed2fa4e-b0ee2c10', '0ed7817b-e9eda54a', '0edbc246-3bbf3cd5', '0edbc246-ad2d41f5', '0ee642f9-22c00654', '0ee642f9-3cf642bc', '0ee642f9-75dd5c38', '0ee642f9-8a8d8aea', '0ee642f9-a93248b5', '0ee642f9-f78ab686', '0eeb7627-4afabac7', '0eeb7627-50182315', '0ef1545a-f53f5cda', '0ef977a9-97eadd86', '0efa02a1-c066f23e', '0efe0129-c499802e', '0f062b89-8bad9b16', '0f062b89-9780bfa6', '0f08e0e9-79b87900', '0f12db53-d7bc2116', '0f1359f1-203c30d4', '0f1359f1-98bf0fd6', '0f19617d-b4f9dc28', '0f21e7e2-0fa41159', '0f21e7e2-56a6c6a3', '0f21e7e2-b9153f33', '0f29bae6-ab76d779', '0f2b20fc-0adc2e33', '0f3eb262-66a52434', '0f3eb2eb-ba8591e8', '0f3ef5f6-708f55bc', '0f42c8ae-737f01d6', '0f442be6-11385773', '0f442be6-3157f350', '0f442be6-4c85438c', '0f442be6-6462ae8d', '0f442be6-6b6551bb', '0f442be6-7680c0e6', '0f442be6-83bdd3cb', '0f442be6-8a323c27', '0f442be6-cff829d2', '0f442be6-db4257a7', '0f442be6-fd779249', '0f4782d2-f8a2ab62', '0f47ea54-adaf8bf4', '0f4fb685-0cc41310', '0f4fb685-642c34ae', '0f5580fb-4e846aef', '0f5580fb-997a63a5', '0f5580fb-c0f17f39', '0f6ccc0d-5ec113c4', '0f6ccc0d-943bb2d8', '0f6ea00d-ef00cdae', '0f714f70-9edeaf3d', '0f714f70-ea1a1499', '0f714f70-fc322b7d', '0f7569a1-afced45a', '0f78ad88-14c162f7', '0f78ad88-80f804d2', '0f7d9c3c-3e26fbd4', '0f7d9c3c-62316600', '0f7f1622-bd0f5989', '0f837def-10049e8d', '0f837def-6802879c', '0f837def-7fbedddc', '0f837def-9646c091', '0f837def-ce515e16', '0f850ec1-d02274f3', '0f856c83-be8b9deb', '0f89108b-3ab59119', '0f8cb657-8ad774d0', '0f8fd55d-370401a2', '0f8fd55d-a77de0d3', '0f8fd55d-e7eb180c', '0f903ef8-a1c5ce6e', '0f903ef8-f42255a5', '0f9ab080-cdb514b2', '0fa741ce-23e2fb88', '0fa741ce-689ea4b8', '0fa741ce-76dbff13', '0fa741ce-9b6dde95', '0fa9214d-857fb009', '0fa9214d-ad5d267a', '0fb0e6f3-ce79dfa4', '0fb86701-19f58a57', '0fb86701-246317f2', '0fb86701-63dc253a', '0fb8db78-3f42b797', '0fb8db78-80fe40fb', '0fbf178c-7465e186', '0fbf178c-8d2aa7d8', '0fbf178c-9598bca6', '0fc07ccd-14991933', '0fc0c815-8ba80d60', '0fc3f3c1-60c29dcd', '0fc3f3c1-fa7d9985', '0fc4a683-42d61e17', '0fcfcf5e-7bfac95b', '0fcfcf5e-88d5fb9f', '0fcfcf5e-ab8bf480', '0fd1e792-30c9ccff', '0fd7d527-313c3f93', '0fd9033a-a60f9fa5', '0fdf8221-709a6714', '0fdfe87a-1ceea931', '0fe430bf-e965e722', '0fe430bf-f1c58f7a', '0fe7b9f6-03351c21', '0fe850c9-6c8dc241', '0febf3b9-ad48d3e9', '0febf3b9-b71d04d5', '0febf3b9-cdce4937', '0febf3b9-e0f66b3e', '0fee1f42-a2591a96', '0ff07b90-023a3fe1', '0ff5f226-f61c45ab', '0ffb84f8-30d315be', '0ffb84f8-4105a6ee', '1004b27a-c30299b5', '10066516-bc9fa456', '1008a17e-308a90fd', '1008a17e-5dfe3438', '1008a17e-6067786d', '1008a17e-81cae0b5', '1008a17e-a529722a', '1008a17e-c1b089f4', '1008a17e-e7c96e4f', '10094a6c-bb16e814', '100a3dd7-d21b91d2', '100a3dd7-edc04608', '100b8021-8f84281d', '100c6dbf-688b3c1f', '100eb809-060912fe', '101002a3-af1f7874', '101002a3-c0fb5378', '101104c0-480efe1a', '1014ad36-e34fe211', '1015e05f-83f9f562', '101aff53-81825d03', '101c9c8b-738ae7ec', '10207d8b-51cc5ed6', '10229247-259097e6', '10229247-52794904', '10229247-f8592123', '10229247-fbb6d700', '10265739-24bbb5f5', '10265739-95338d8c', '1036b362-92000280', '1036ff9e-3c2e85e9', '1039a900-c1f50726', '10425a11-c4829447', '10425a11-febf988c', '1051d6cb-c6faaa4d', '10529d35-85bf58a7', '1062529e-0acb0b34', '10641d69-64a90a6e', '106c8097-3639f424', '10719793-72719572', '10727b02-4acbbcc8', '10739276-06b47bd1', '10739276-602cd73b', '10739276-8b7a47ec', '10739276-9131b28a', '10739276-cbf67694', '1077c6d0-3b4e3931', '107bc4d0-a430526f', '10825488-5922b3b0', '108c616c-d1e8cd93', '1091e30f-13e126d1', '109d5675-ccf79e0e', '109fee99-aa20a9c6', '10a05690-af4e45e0', '10a18a70-851b463c', '10a18a70-a6eb3e88', '10a191ba-ae2ed137', '10a99d63-6b137451', '10a99d63-74e2702c', '10af24c9-4e4ced48', '10af24c9-8a062c1a', '10af2b7a-a3a150e6', '10af5310-38cadf93', '10af5310-535c5f15', '10af5310-a3e93daa', '10af6ba8-167c93c2', '10af6ba8-47f7bd63', '10af6ba8-8d07622a', '10af6ba8-b3c25efe', '10b038d4-a0efb156', '10b6d941-7a58f127', '10bb439e-0f192ff7', '10bddcb9-4a40d217', '10bddcb9-4ee6f404', '10bddcb9-6fbf385f', '10c0c72d-2f0194a3', '10c0c72d-4c55f57f', '10c0c72d-9892b105', '10c0c72d-da26c82f', '10c0c72d-dafc19cf', '10c13e86-31bd5b6f', '10c13e86-4a6bae8d', '10c13e86-9ae3c059', '10c13e86-e98c7d46', '10c2d350-33b90d18', '10c2d350-83ed21f3', '10c2d350-8bc67046', '10c2d350-e252ec66', '10c2d350-eaacc8cf', '10c5ffbb-cdf1615a', '10c8abd2-54e0f917', '10ced427-154cff87', '10ced427-ae8de7bc', '10ced427-af655277', '10ced427-e102eecd', '10cf25ae-46fd8afd', '10d0158a-c4271bd3', '10d86362-04332687', '10d86362-2cae28e2', '10d86362-67be6116', '10d8b2f2-03116bba', '10df32aa-9b9779b7', '10df32aa-a41d315a', '10df32aa-ceb3647f', '10e029cb-8835dd70', '10e0e66d-22c8c1cb', '10e0e66d-46838a9e', '10e0e66d-d814b697', '10e0e66d-def96e2d', '10e0e66d-eded25f0', '10e3096e-bffced41', '10e661f2-09e149da', '10eddc9e-0cb615d7', '10eddc9e-5facde88', '10ee3eb0-c205ee54', '10ef4dad-4f01ef2b', '10ef4dad-56a9d35f', '10ef4dad-77ddb0ec', '10ef4dad-ae6f540a', '10efbba4-606b4437', '10f1b8b5-cdd37d24', '10f5b7a5-c5ee1777', '10f5b7a5-fc66f4fd', '10f5e8da-31a0e4bc', '10f60db0-d41c356c', '10f60db0-ee6d9de6', '10f71853-4d099ae6', '10f71853-4da52f52', '10f71853-aee96f41', '10fa8146-25062abe', '10fa8146-6f286be2', '10fe14d9-6d82d5df', '11035230-011a7fb1', '11035230-13dbc015', '11035230-3b3d1ded', '11035230-438dc26c', '11035230-a4cd3082', '110409ba-9fde6618', '11060687-27c191a6', '11080a49-016c646c', '11080a49-12faf0a2', '11080a49-83aab1a1', '11099d3a-d44ab1b5', '110c9575-4c5be030', '110c9575-a023613b', '110c9575-c7bb0c93', '110c9575-d76f1d58', '110c9575-f59c7fac', '110dbf4c-2909b41d', '110f9975-403d879e', '111aecfb-5be21b9f', '111aecfb-d6fb70d7', '111b2be7-007be762', '111f27a8-e19bc7f0', '1125356f-56500f04', '1125356f-b698b999', '1125356f-edb7f7c8', '1125ebdc-7b018e58', '1127aff5-03496050', '1127aff5-06d6e44c', '1127aff5-0c155779', '1127aff5-188de959', '1127aff5-42799083', '1127aff5-4ca99a83', '1127aff5-4ea6729c', '1127aff5-500fc888', '1127aff5-63adbce6', '1127aff5-6cfa8f7a', '1127aff5-f54f5c7e', '1127dc70-11f0ac18', '11318349-2868691f', '11318349-2a068d14', '11318349-98f9b811', '1131e3c4-f59c44c5', '11329868-758c4f82', '1136797c-862a53c6', '11381662-48d2471f', '11409384-ce69cf39', '11415eed-081d9a4b', '11415eed-740d6ae1', '11452ca4-50b52226', '1148db9c-3eeb75a5', '1148db9c-aaaf8f19', '114e578a-0cb4e102', '114e578a-47a24858', '114e578a-6311a4ca', '114e578a-a0bb805e', '11502c6d-a22dba74', '11502c6d-b66f8ffa', '11502c6d-cfc97629', '11502c6d-f4834c96', '11534a89-92560e75', '11577eed-14f314b5', '11577eed-53fb5e4d', '11577eed-c514f733', '11577eed-e8d6d81a', '11577eed-f5f58ffe', '11589021-0570dcda', '11589021-ab3116a2', '11589021-cc9114af', '11589021-eb71270b', '115d5c1d-7f77339d', '115d5c1d-ec28fe46', '115d9e12-16ebd222', '115d9e12-17808939', '115d9e12-3d8bfc10', '115d9e12-793f1ad5', '115d9e12-83368ed4', '115d9e12-8a9ad671', '115d9e12-f6cb9e40', '115d9e12-fd31cd1b', '115d9e12-ff1330f3', '11607bb9-8473aa7c', '1164a0ba-e03a13a0', '11659c5d-2b5fe71d', '11659c5d-a9cf2aef', '11659c5d-c9a58026', '116d445b-a0ddd4cb', '116fb03b-0533a67b', '117138e4-033d0d25', '1173c9ff-b15ec0d1', '1175d197-90cca1e8', '1175dfef-00ef548f', '1175dfef-11bd03fb', '1175dfef-e68b826b', '11773b3e-b7282c87', '117f391d-7acfb916', '117f55ba-63d96139', '117f55ba-6dc1985e', '117f55ba-abd409b9', '117f55ba-bf778c91', '11815183-57a97711', '11824dce-efc8eff4', '1183ef80-67676319', '1183f39e-521f1ce5', '11851b04-1a5fe143', '1185fa87-61d3c986', '1189ae68-1a8ad3c6', '1189ae68-4742a8fa', '1189ae68-7ac199bd', '1189ae68-b106c4f6', '118be165-f55b37bd', '118ce08a-04fd30de', '118ce08a-0f9fedc3', '118da47c-78b4a87b', '11919349-7f4d1a31', '11919349-844013d7', '11919349-b2f0c992', '1193a31e-8f17daef', '119de973-fafab138', '11a61ba2-adf5fd04', '11a93b51-1af6063f', '11a93b51-496acae5', '11a93b51-57ee34c8', '11af6b4c-4d1af7af', '11b47a8a-0dffe086', '11b47a8a-21f7b270', '11b47a8a-24a77ef8', '11b47a8a-a2741304', '11b47a8a-b54f88dd', '11b47a8a-c2c616cd', '11b47a8a-e8b493d6', '11bbe43a-8ff2ea7e', '11c8017c-1beee99b', '11c8017c-740c9045', '11d002cf-fd7b5516', '11d025eb-27246935', '11d2a150-b87953dd', '11d6859d-594c6a11', '11d6859d-e17082e1', '11d76328-03fa268a', '11d76328-bf7a73ef', '11e3b091-1184028d', '11e3b091-665cd768', '11e60919-02f8d6ec', '11e60919-1e8fb434', '11e60919-a44a764e', '11ecaf4a-66610cac', '11ecaf4a-837e3550', '11ecaf4a-850edf66', '11ecaf4a-8586f43d', '11ecaf4a-8cb9fbaf', '11f04b16-6903df31', '11f16188-3c9f07af', '11f5d1a8-00b04cbb', '11fa3e35-3abddab2', '11fa3e35-a4d5f5e2', '1205709e-f3c972ac', '12095c94-2d8189a6', '12095c94-376d9059', '120c27ae-cec71bd1', '120f2e8c-8fb89b14', '120f96e5-3441ae54', '120f96e5-7fdb83ae', '1210b74f-07f644b2', '1212078f-2fcd8c2d', '1212b385-1b417b2d', '1212b385-7fe587c2', '121550c4-0a7ddf19', '121550c4-22b647a7', '1221ce36-0146b627', '12232ca3-bba4d8d6', '12319344-cd4838a4', '1236ceb8-7c99a47a', '1236ceb8-804401af', '1236ceb8-edb395ab', '12374566-67ebaff2', '12374566-9f56843f', '123c18f2-8061ce81', '123c7297-5b59d8bc', '1240996d-e1debd2a', '12449ff6-a2871094', '1246dba2-6769ad40', '1246dba2-f1807614', '124bd265-fe635c9c', '124dd14b-83bb331f', '124dd14b-8b4d2dcc', '12503fc4-5f370760', '12503fc4-ad0a4d0d', '12569f91-0431a085', '125e39b2-2de3245f', '1261ca3b-68437aa2', '12682475-1a0b91d0', '12682475-66f16b34', '12682475-b76c58cb', '12682475-ca256fbc', '12696364-222906e9', '126e2493-9876716c', '126e2493-ccfe99a3', '126e2493-f07c3422', '126e2493-fa654f00', '1270de59-3fdc5d86', '1270de59-7a2d3293', '1270de59-e930f526', '12790d81-a785432d', '127c71e7-f1de101d', '127d4b5e-c8ea3926', '127f8da7-4a20d0b6', '127f8da7-6380cec8', '127f8da7-9901af4c', '127f8da7-a51b886b', '128094d1-7314f248', '128094d1-b5e42b46', '128094d1-d2e7ec3a', '128094d1-d5f505db', '1281ca1a-225321a7', '12899e0d-3e341af3', '128a6c14-7c985c35', '1290804d-a004f59d', '1292244b-e425e3a1', '1294a00a-b6139782', '1297dae3-8d9fd12a', '129833be-f2be8e39', '129b62fc-44b12a9c', '129b62fc-6dcbe269', '129d7734-cbd6b04d', '12a6dd7e-5f5ae6cd', '12a6dd7e-875c78d4', '12a6dd7e-cc056c30', '12a6dd7e-d16437cc', '12ac7475-41f73578', '12ac7475-69905215', '12ac7475-9ae6f9cb', '12ac7475-aa218c40', '12ac7475-d08c7028', '12ac7475-feed0ebc', '12ae9ab8-794f5adc', '12b7aa8c-2b566784', '12b7aa8c-879fcd29', '12b7aa8c-c0db13b6', '12b7aa8c-e0d95fd6', '12cf075a-6743fba3', '12cf075a-b1142689', '12cf075a-f9054e11', '12cf075a-ff5e2b67', '12da8593-780d421a', '12dc1ad6-90bfcaea', '12dc1ad6-9648497e', '12dc1ad6-e8d7e789', '12e4568a-1a7a65af', '12e5d241-b7693736', '12e9c862-b4a17d87', '12edd30e-421b6db0', '12ededf4-c496cf5a', '12ef45c5-3e22ca43', '12ef45c5-5a2c76a7', '12ef9094-9cf0ad23', '12ef9094-a52c7627', '12f1cb99-7307a046', '12f78128-c8d9d6b6', '12f7d5f7-a73e8b23', '12f8feec-c436970a', '12fee2da-5ac4c7c0', '12fee2da-78b1f3ea', '12fee2da-9a643852', '12fee2da-a2d786b7', '12fee2da-e253d389', '1303c716-43728918', '1303c716-4eeb48c5', '13081d41-0b38f0fd', '13081d41-6bc6d1e4', '130a2a49-03f7f2b7', '130a2a49-192ad046', '130a2a49-a235c253', '130a2a49-d89f7ea7', '130a7c58-260fcd28', '130add4f-42fc5213', '130add4f-4dadb710', '130add4f-687e29a7', '130add4f-7e9e11f7', '130add4f-91647e0b', '130add4f-9852d66e', '130add4f-d6b8cd0a', '130c03a1-3cc2fcf8', '1319e6ed-d0f3cad3', '131a3821-be66d10e', '131d44d3-336c939d', '131d44d3-38ab4eeb', '131d44d3-c9577a1a', '131d44d3-ede5a792', '13250071-2043b0ff', '13296fd2-942df7f9', '132a6855-befebf75', '132f36a5-009ca089', '132f36a5-14f1fbfa', '132f36a5-3e7891ae', '13312312-bbc0d97c', '1332ff24-cddc88c7', '1332ff24-ecb804df', '1337f4dd-ab3b187e', '1337f4dd-d686ded0', '1337f4dd-d87d60e9', '133d0c77-d21c6eee', '133e8c9b-17142ecd', '133e8c9b-285eb0d3', '134581f5-855a8398', '1345ffca-376354a5', '1358b742-90ffc3bf', '1359850e-0b067bd5', '1359850e-434de2eb', '135a9354-05d789d2', '135a9354-1c504947', '135a9354-3c1d7523', '135a9354-3eae8005', '135a9354-92a8d265', '135a9354-c3297c75', '135a9354-c68b1b82', '135a9651-1de06e24', '135a9651-46c92e9d', '135a9651-48e55e5c', '135a9651-7271668f', '135a9651-86d77e27', '135a9651-a61284ca', '13620abf-62b6685f', '13656215-38843e31', '13656215-6f02b382', '13659c88-36fcca78', '136f3a1f-13c48056', '136f3a1f-1d5381a2', '136f3a1f-48732d82', '136f3a1f-86e695b8', '136fcc4f-56f6d3bc', '136fcc4f-9265b642', '136fcc4f-bcfca77d', '1371f6a6-46053308', '1371f6a6-eeb284f1', '13796ade-04e91bd7', '13796ade-097d1f83', '13796ade-27cebc03', '13796ade-67a4f53e', '13796ade-6b89dc0d', '13796ade-72321c6f', '13796ade-ad47179f', '13796ade-b4bcd515', '13796ade-e1216328', '13796ade-e12adb3b', '13796ade-ec1a9a69', '13796ade-f1d7f697', '137a0efc-230f5748', '137a0efc-6795603e', '137a0efc-93435d06', '137a0efc-9b64d089', '137a0efc-fdaad513', '137e9c48-2db1fb71', '137e9c48-62b5a67d', '137ec1c1-d714b3a4', '137ec1c1-d8f95673', '137ec1c1-eee6f6be', '137ec1c1-fa2e6058', '1380820f-6a5e1c3e', '1380820f-7f92f23a', '1381568b-e7ecd0c3', '138be3dc-f3c84b98', '138be3dc-fb59cacf', '13939041-c18b6f98', '1396f861-5957abfe', '1396f861-b5e8f965', '1396f861-e67ddb01', '1396f861-fda445cb', '13980959-e2ec7280', '1398c3cd-3d479d26', '13a06896-71e037ef', '13a06896-c6d8f053', '13a06896-f492b349', '13a8a18c-9d7f3e1b', '13b065cc-ba0dae80', '13b306d7-0732fad9', '13b306d7-5d25a761', '13b46550-612e3376', '13b8571b-48b37407', '13c13518-96f102e2', '13c574d4-1df92435', '13c94581-6c754965', '13c94581-a4ef0150', '13c94581-e10b6cc2', '13d47839-d6add655', '13d62f3f-49dd7dbf', '13dcefd6-8b81ace7', '13ded202-25aa2c44', '13ded202-27de718f', '13ded202-91d63753', '13e6351a-100518f4', '13e6351a-1983ae1b', '13e6351a-f35d1572', '13fbfc19-330f9143', '13fbfc19-6595f3a6', '13fbfc19-d10661aa', '13fbfc19-f80c18b3', '13fbfc19-fffb64a7', '13ff2e36-2301a60e', '13ff2e36-a904e9fe', '1407063b-16833596', '14098efb-37379a12', '14098efb-538670fc', '14098efb-5c2b0351', '14098efb-6c2a4d43', '14098efb-7647f53b', '14098efb-9a58bca3', '14098efb-9ec0e494', '14098efb-a3127008', '14098efb-c3a0dec7', '14098efb-c3e463ea', '14098efb-f2a5c999', '140e26ab-2bd73720', '140e26ab-9c6a346f', '140e26ab-d9cf8f3c', '14143b8a-0879230a', '14143b8a-71d3ff79', '14143b8a-92df0f1d', '14241384-71a73cf2', '14258ad8-087ce998', '14258ad8-4d6de06d', '14288818-a3e8421e', '142b9c5c-c4ca118e', '142ff873-dbfa21e1', '14306a74-00fdc9ef', '14306a74-188566b0', '14306a74-3234bd35', '14306a74-50cdd915', '14306a74-b2857ba1', '14306a74-b969c0dd', '14306a74-dbad8809', '14306a74-e4af5b68', '14340448-18a73b93', '143b8968-550cf7aa', '1444595b-d96ac3a9', '1444a1ef-8d12a0f6', '144783f3-225cf496', '144bd77c-0a461478', '14540082-0de5f53a', '14540082-1c04c004', '14540082-7a61ca45', '14540082-b478451d', '145785ea-c78220bd', '1458e4ad-05d86f3d', '1458e4ad-24fdf5c9', '1458e4ad-4aea9424', '1458e4ad-54611ce4', '1458e4ad-60e9d15b', '1458e4ad-98ce5e0a', '1458e4ad-f3ce8d5e', '1458e4ad-fd0646bd', '1462e08b-8ee18629', '146b8d6e-8f069566', '14709479-5670fa29', '147a04c9-6b80a828', '147a04c9-9fb30015', '147a04c9-b82be492', '147a04c9-e958476e', '147a3073-0233348c', '147a3073-a093381f', '1480d3a6-a8244174', '1480d3a6-baad66d8', '1481f91e-4b677e3f', '1481f91e-5647c157', '1481f91e-62cfd020', '1481f91e-87571020', '14859690-5c35db0c', '1488f2fc-a40c13ff', '148aff32-c27bd967', '148aff32-f67f4154', '1494619f-87888b77', '1496a55a-06a6b599', '1496a55a-86e242fc', '149c3357-7fda9297', '14a2bb54-12317429', '14a77de9-4baf7d2b', '14a91300-6635f8aa', '14ac7c59-d904d83c', '14afd639-4b7b22d8', '14b3e729-b1d0738c', '14b8a307-49cbd0db', '14b8a307-668d597c', '14ba8733-d8b2dbba', '14ba9079-75ce0461', '14ba9079-dcb5efbd', '14c2bf46-21a5f9f0', '14c2bf46-3096434b', '14c2bf46-4c584358', '14c6346f-5fbf46e9', '14c6346f-64f9c33f', '14c6346f-99f58916', '14c692c2-ef0fc7e2', '14cd7eab-09f6fe17', '14cd7eab-8dbe20e8', '14cd7eab-a62d9f29', '14cd7eab-e0f3d001', '14cdcbeb-f70d492f', '14d1fa9e-964d04d0', '14d1fa9e-a5c43011', '14d27cee-c90b8eb6', '14d42fac-0708b178', '14d66b32-325e8b88', '14df900d-b8d58747', '14df900d-bdfe5ec0', '14df900d-c5c145cb', '14df900d-d216db1b', '14df900d-f97805a4', '14e111e7-722385a8', '14eb5976-0844b87f', '14eb5976-10cb3c71', '14eb5976-56de5300', '14eb5976-61a0c5c2', '14eb5976-9d373768', '14eb5976-9df5234d', '14ebe2e9-40415e00', '14ebe2e9-d83e17d0', '14ed09b0-f2704eb2', '14f77696-1d5bd495', '14f92e3c-a3b5f69c', '14fb4d18-fe134498', '14fc6ba0-f47c2960', '14fdb947-c43eb4e5', '14fdfafe-720e4c84', '14feb386-8fcec6b6', '14feb386-ff9a76ef', '1504d2f9-933da05f', '1508a138-bf1a6f0b', '1508a138-e7785677', '1508a138-ee0f04ec', '1509ea6f-a2c339b1', '150a973a-6772fd20', '150a973a-bb8a32f6', '150a973a-f7e004cf', '150c0f61-39d07de7', '150c0f61-6283172d', '150d9bb9-97941256', '150e82a6-eed1ce43', '1517f29b-0c1f7f43', '1517f29b-82485d80', '1517f29b-bb9faef7', '1518641e-df279b4d', '1518641e-fe5493e1', '151db5e5-6b9a4ad8', '151db5e5-a93f50de', '151db5e5-fc5cc087', '1520a162-0716ac18', '1522a344-d97c2885', '1525a8d1-0851396f', '1525a8d1-91ae8eb1', '1525a8d1-fc2b6426', '1527851b-195f2437', '1527851b-1eef42c5', '152a9308-8d284f32', '152cb661-93a0f960', '1532b0d8-1ce34c7f', '1532b0d8-435a4bfb', '1532b0d8-91c5e136', '1532b0d8-d0843f86', '15335947-9c5cd1ed', '15345d9b-0162432e', '15345d9b-14334d02', '15345d9b-520a9ac2', '15345d9b-8ae287ec', '1534d7b4-879592c0', '1534d7b4-d694dd2a', '15377521-644e0348', '1537b75f-1ae147fa', '1537b75f-db2958cd', '153cb04c-69084ac4', '153cb04c-b2b79b91', '153cb04c-e4e2e628', '1543dc40-fbd4be55', '1544026f-dffe91fb', '15441c80-47476c7c', '154907da-415c25ec', '154abd03-0bd8a8c5', '154b8a6d-c9f9b48d', '154d1a23-6bbe3537', '154e0f88-00f1a38f', '154e0f88-2bfc184e', '154ea6d1-6dfc3b99', '15522130-a3bfe2b4', '15569b20-19c2fc7a', '15569b20-48e496f5', '15569b20-7a712165', '15569b20-8d825141', '15569b20-8dcc97aa', '15569b20-9da311aa', '15569b20-a7c1d69a', '15569b20-ae4c6cc8', '15569b20-afdeef88', '15569b20-c56aee0b', '15569b20-fae0cf82', '1558cb8a-147e2c9e', '1559424c-cdde59e4', '155b2efa-fee0e074', '15626dcf-0fb1ebe9', '15626dcf-ba3c17f1', '1564b3e8-8c51a598', '1564b3e8-97d728aa', '1564ef78-0685e7da', '1564ef78-6cd81da9', '1564ef78-bfeaa3b9', '1564ef78-f192b81b', '156910f0-7f21704d', '156dcd52-28995801', '156dcd52-4e8cdda6', '156dcd52-aecaa59c', '156dcd52-c56b78e0', '156dcd52-d023f184', '156dcd52-fb471a55', '156f9308-59b3b098', '156f9308-c21065c6', '1572db6a-1bcc874c', '157c2b67-428b6e3a', '157c2b67-a8007367', '1583eb60-684157ec', '1588bc7d-1e60c0f3', '1588bc7d-334a7400', '158aa019-bbe75f01', '158bc66e-837e83d0', '15919bb0-add9ca17', '1591c029-4e2841aa', '15926fed-2ac7e5bb', '15926fed-e210965f', '1593fe11-358de9fa', '1597fb15-140c0eac', '15999e55-2209a7b1', '15999e55-f9569033', '15a344e6-7252e9e8', '15aa0526-4687f297', '15ab2a04-240a0ded', '15ae7b39-b1b74a10', '15b05e77-90fe4890', '15b4627e-caecb332', '15b4d0f0-c8f68880', '15b62304-191ce9a0', '15b8be6c-ab5d258f', '15b8c0de-6f149ae8', '15b8c0de-973fcf39', '15bb4509-6348e545', '15bb4509-64ca2215', '15bb4509-6ab499ae', '15bb4509-90e3fb7f', '15be5bba-35030e3f', '15be9533-f4c2aac4', '15c21c73-c36e6da3', '15c3f8f1-e943a63d', '15c70e70-e3b6a249', '15c79adb-c83aaa37', '15d202f5-7fda6a44', '15da8ddd-c91c6df1', '15e4b6ca-11b689e9', '15e4b6ca-4ff2d086', '15e4b6ca-7bf36a46', '15e60ec5-2a308914', '15e7be3e-00017b62', '15e7be3e-0077497c', '15e7be3e-04be898a', '15e7be3e-1a9fc847', '15e7be3e-1de92dbb', '15e7be3e-1fb284c6', '15e7be3e-25b64849', '15e7be3e-3513f35e', '15e7be3e-49f765d8', '15e7be3e-64699f10', '15e7be3e-6bad38ac', '15e7be3e-782f8931', '15e7be3e-c8bd88c3', '15e7be3e-c8e90ca9', '15e7be3e-ce920205', '15e7be3e-d42a8499', '15e7be3e-ef0227a7', '15e7be3e-f8675c2d', '15eb3650-0640462a', '15eb3650-16b6a9ca', '15eb3650-6c2c5963', '15eb3650-ee6a9668', '15eb3650-fdca2d1f', '15ec1879-06e3118e', '15ec8963-c6c4527e', '15ec982b-d075e882', '15f05539-6030fcb5', '15f05539-6a1f928c', '15f05539-98cbe314', '15f05539-d1ef4375', '15f3d7e1-85cf2263', '15f45d14-e1f2be2b', '15f4baf6-fadc1b13', '15f4edfc-884779f5', '15f559a7-0b0dbcd5', '15f559a7-20524e66', '15f559a7-27232a34', '15f559a7-4211d746', '15f559a7-933465c8', '15f559a7-ab6e9739', '15f559a7-ff8856e7', '15fbb866-2b1e431c', '15fbb866-36751d03', '15fbb866-b0c80102', '15fcea3b-383430d0', '1602bbd6-58dd2a9c', '160a76cc-06a8b72c', '160a76cc-1f732b27', '160a76cc-525e8497', '160a76cc-84957dae', '160a76cc-b5993b9d', '160d9039-7f5b9f08', '160f6a0b-85d4230f', '160f6a0b-e9a120ab', '160f6a0b-ea25518e', '161a176b-f766d2d8', '161ba5ea-4c97217e', '161ba5ea-bce623fd', '161ba5ea-df7cde76', '161be5c1-76f5084e', '161c6340-60725e51', '161c6340-b4595890', '161d548f-493862d3', '1623e953-96b9ce12', '1624bae8-d5d64a9b', '16269211-4dc683b2', '16269211-6ffb8bde', '16269211-d3ef2a9d', '16269211-e4d1e4a0', '162995f1-0e43ba5e', '162995f1-5994cdae', '162995f1-5e5f9041', '162995f1-691e9bb1', '162995f1-7ad77bd8', '162995f1-87ec128a', '162995f1-c0af8a1c', '162995f1-d2c7d259', '162d2a2a-5cc97bc3', '162d8d65-96bf071f', '162d8d65-c051fb16', '1632f033-5fc63634', '1632f033-b79d42b9', '163bef52-0fa632f5', '163bef52-2c135479', '163bef52-8ac79cf2', '163efd52-5a399d7c', '164d0b8b-22091b24', '164d0b8b-226f9b1a', '164d0b8b-adb76418', '164d0b8b-f9304686', '164d0b8b-f995a0e6', '164e47d0-9ac1e252', '16504799-1201d13d', '16504799-1e495b19', '16504799-3bf2d2bf', '16504799-89284ca3', '16504799-9ad42197', '16504799-9b3c4c4e', '16504799-b3533990', '16504799-d9e25a40', '16504799-fa09b80e', '16595e94-27b3ed65', '16599465-82985baf', '1659f092-0a9ea83c', '1659f092-84218f24', '165a8caf-11b7a0db', '165a8caf-239c31a3', '165a8caf-70c9141a', '165a8caf-719192c2', '165a8caf-e1ce6f38', '165a8caf-fc47dd4a', '1660836a-5511bb30', '1662c375-d825ee20', '1668ab3a-fd2c184a', '166cdf63-d7665336', '166ce665-c51e54f5', '166cfee3-421e6a94', '166cfee3-4c276df6', '16713ff8-130f3940', '16713ff8-9359c861', '16713ff8-cd600404', '16713ff8-d3c122ec', '16713ff8-d90ecbd5', '167a78e3-f955e2b6', '167b0d64-927c2082', '167bc8b8-32d59126', '167bc8b8-5e2cd41a', '167bc8b8-95d48d46', '167bc8b8-c8a2b16e', '167cd9ad-0ee4de37', '167e3ac6-11c74158', '167e3ac6-54189bd3', '167e3ac6-78017dc6', '167e3ac6-7b73b374', '167e3ac6-925df793', '167f4689-32062f0c', '167f4689-bd993700', '16805fd6-2b3ae65e', '1683a857-4bae22fe', '16866fff-48181b6f', '16866fff-83678272', '168a2c99-c74274d0', '168a2c99-d1a0ac4f', '168ada28-83f42f93', '168c50b8-edda3415', '168d16ae-1af94e25', '168d16ae-3aa42c4a', '168d16ae-41a56fb9', '168d16ae-53e677ee', '168d16ae-5eb0dce0', '168d16ae-66244a56', '168d16ae-a4753722', '1698c1ee-02b63e18', '1698c1ee-12445160', '1698c1ee-3c92ecc7', '1698c1ee-5ac17e4e', '1698c1ee-7a532c1a', '1698c1ee-8495cfef', '1698c1ee-aba7bdec', '1698c1ee-bdcceeae', '1698c1ee-dff3c11c', '169fe405-4bf20ebc', '16a1ea80-a4ed7617', '16a4cf2a-38936fd9', '16a4cf2a-62e8d3bd', '16a4cf2a-66c42494', '16a4cf2a-a7c08645', '16a6b783-92515ad8', '16a70a8f-1ccf0e63', '16a98dc3-14e12bce', '16a98dc3-2215097f', '16a98dc3-9e6e0b46', '16a98dc3-c4e841ab', '16a98dc3-d726eba6', '16aaf25d-dd1e0dfc', '16ac78f8-c2c89053', '16acca2d-502e153f', '16ad523b-cc5344ab', '16bdbd7c-9618531a', '16c045e2-9e88bd5d', '16c14066-1fe6d917', '16c35d58-9696758e', '16c801ff-31978e16', '16ca9fed-7d8bb556', '16ca9fed-b5293df3', '16cc1363-369afeba', '16d131ad-238fde29', '16d131ad-705dc4d1', '16d131ad-dfdc6e7c', '16d1557b-1bcf4dff', '16d1557b-ff8084cd', '16d5d094-66b84300', '16d5d094-6bbeefaa', '16d797bc-b9e47afe', '16df479d-0c7dec64', '16df479d-348db332', '16df479d-67f503dd', '16df5285-89f243c5', '16df5285-f0820be9', '16e28143-310fae85', '16e28143-aaf4573a', '16e496ca-26265995', '16e496ca-9629c311', '16e496ca-96bed513', '16e75055-a50394ca', '16eace87-2ec3cad7', '16ee2f26-d1308565', '16ee2f26-fae11a89', '16ef7f0f-638dd6b6', '16f49088-51432b28', '16f49e9b-3811c208', '16f5d021-a3496817', '16f65bca-3f130b98', '16fa70cc-e97431cb', '16fa70cc-eb8746a0', '16fb472d-3155b67e', '16fbac7d-c35da875', '1700ed3c-688861aa', '1705aa50-8cffb1dc', '1708539d-d776ed73', '1709ef0e-204a0d03', '170d52b7-62beed01', '1710645f-42a62094', '1710645f-58d4def6', '1710645f-77dd2d23', '1710645f-ab210936', '1710645f-b36fa2e7', '1710645f-c7c8f003', '1710645f-e6d0c9c8', '1710645f-ea715390', '1717e233-36ade135', '17199913-20a5f37d', '17199913-ab22f1e0', '171bc81e-1269c62f', '171bc81e-9f3fd385', '17211650-794161fa', '1726919b-18c3e190', '1726919b-429e12fc', '1726919b-7ce108b4', '1726919b-88f40591', '1726919b-9157ae86', '1726919b-e0be5f08', '17306695-934e1d43', '17337078-0e0b61bb', '17337078-94214dba', '17337078-eb3d10c7', '1735f7ed-7c811b0a', '173a506d-7e9b2433', '173c837b-4e06a896', '173c837b-57b0224f', '173c837b-c14ec832', '173cc5bd-2a29ac8d', '1746ef96-0801aa07', '1746ef96-34e24f75', '1746ef96-4c01ecb3', '1746ef96-cc2be6e9', '174ba007-7059bd8c', '174ba007-804c788f', '175593b3-2e89c348', '175593b3-556ffa78', '17566830-0898abb6', '17566830-889becbf', '175acc8f-3dc96dd2', '175acc8f-be93f08a', '17627803-95469ce4', '17662c87-3f9af40b', '17662c87-9476da54', '17662c87-970195f4', '17662c87-d2526f74', '17662c87-e55cb57e', '176682b0-ec1a1b4b', '1766ce0c-5c8e2311', '176c2785-c0ee8b63', '176c2785-ca2572b3', '176c2785-cfd178e2', '176ed818-ee14ee36', '17728848-17498c26', '17728848-b6415aa7', '17728848-ee05ea62', '1773e963-3917b304', '177b957f-04a3b3a2', '177b957f-df164100', '177b957f-fc7b8fac', '17808296-7e236586', '178572d9-b6da2197', '178e1051-3085c143', '179577f3-ad891e61', '179ab72e-13e61ed1', '17a0445d-6debbef0', '17a0445d-b3864ce1', '17a3ca1c-96973081', '17a5fe85-887713cb', '17aa8400-44b53bd2', '17adc5ac-8bd58412', '17b50d12-6533490d', '17b88142-15616867', '17b88142-99c2d838', '17bda57a-514c7a05', '17c59195-1aa18a25', '17c78228-2fc1fc6f', '17c78228-5516d4fe', '17c7d878-7fc63b95', '17c8b9fa-4566b216', '17cea723-b622fe45', '17d449e4-288691bc', '17d449e4-410ad359', '17d4f1b8-3e3b9bae', '17d4f1b8-4431633b', '17d4f1b8-aaa10d26', '17dd182d-1df6245c', '17e73b22-75aeb208', '17e73b22-b0718d75', '17e8a712-538444fa', '17ebfeeb-52459a76', '17ebfeeb-c0e9c9de', '17ecb195-a32b9e3d', '17ed74cb-107f59f6', '17ed74cb-8d3df3ea', '17ed74cb-98f310e8', '17ed74cb-d0d4ac31', '17ed74cb-de8c45ba', '17ef9f60-2223b1ca', '17ef9f60-5f7114ab', '17ef9f60-6baf7861', '17ef9f60-965dcf54', '17f3b81c-9221c31c', '17f3b81c-f82d47da', '17fb67eb-28a14e3e', '17fb67eb-2be6c3bd', '17fb67eb-ec0ce6f2', '17ffc2bb-02076e76', '17ffc2bb-0536c94a', '17ffc2bb-0eed94db', '17ffc2bb-5e67da48', '17ffc2bb-69e98c8c', '17ffc2bb-779e2edb', '17ffc2bb-7f08d1a5', '17ffc2bb-84333613', '17ffc2bb-cabee572', '17ffc2bb-e46a68f9', '181589c6-40175fef', '181589c6-8d66eb54', '1816310a-416084fa', '1816310a-5b8fc686', '1816310a-99261060', '18163293-9ef77e52', '18232db1-dfc9278c', '18285276-becaf072', '182d755b-f70f442a', '182dc406-5bb2e541', '182dc406-608fa1ed', '182dc406-60c4a3f2', '182dc406-9d6e0eae', '182dc406-bf42ca32', '182dc406-c8968ae9', '182dc406-f7c6d06d', '182ec4fb-2c014f9e', '18313180-5658581e', '1832990b-a9f1169a', '18386634-99f37a79', '18397838-6fd0acbe', '183c36c2-cf36f3c2', '183da512-68ca976b', '1845d463-9a256fff', '18481743-cb2f7b2b', '184952f7-ea9d5ac5', '184b1b9a-1c367192', '184b8cbb-f53842c7', '1854cb9e-f78a94e5', '185518c4-5d092d11', '18602474-bcf55be7', '186096c6-f03cb9d7', '18665f86-07596bc6', '18665f86-1a943154', '18665f86-806c5856', '18665f86-a3ba5810', '18665f86-b0015d0b', '18665f86-b2c83bbb', '18665f86-dbe9e67c', '18665f86-ebae327c', '18697686-1cedb010', '186a5421-f4452a3e', '186af499-01a0ee9a', '186e5d19-33061149', '186e5d19-8d1ddc72', '1875b775-0f6bde7a', '1875b775-41d60a31', '1875b775-b008b7c6', '1875b775-d4ca724a', '18794cdb-11294703', '18794cdb-857c4c59', '18794cdb-9f18cf18', '187b96b4-1b2ebb00', '187b96b4-fb1694ba', '188bb513-494927d4', '188bb513-73a822f4', '188bb513-e4ac652d', '189114f7-ca84c140', '1894460a-1d52a5e4', '1894460a-b40b9bd5', '18957aec-1006fb1b', '18957aec-50f2b12c', '18957aec-54dca9ef', '18957aec-afef0082', '18957aec-b99a0101', '18957aec-ee140c83', '189596d2-08b00422', '189e3034-47ed56b8', '189e3034-ffa5e600', '18a3d543-b56661e1', '18a439d8-0dd8c206', '18a439d8-12d30fcc', '18a439d8-24614fc7', '18a9a695-3ab0023c', '18a9a695-611eb205', '18a9f14d-0a43f7c9', '18a9f14d-5b5e75ba', '18add974-13e8e106', '18b05876-75642f59', '18b05876-b12199d7', '18b1bff4-37a1443e', '18b6d1e2-5e003c1f', '18b6d1e2-872c79b1', '18b6d1e2-caa13b16', '18b78953-52b46a11', '18b78953-680aacd8', '18bf4e49-34790b8e', '18bf4e49-a15f79e0', '18c35ee9-3d188842', '18c35ee9-d04baac1', '18c4d009-1f58e210', '18c4d009-23fa8e73', '18c4d009-54009fea', '18c4d009-6ad1ea11', '18c4d009-778cd77b', '18c4d009-c765b465', '18c4d009-d4bc03d4', '18c4d009-fbd1c391', '18c4d009-ff11950d', '18ca3d6f-294d3c46', '18ca3d6f-744f223d', '18ca3d6f-a139cb4d', '18ca58e1-03539563', '18cb3c90-119d0711', '18d2771e-20547c5c', '18dafff3-2283a4e8', '18de0e20-9c9d86bc', '18e18252-a4c8f3d8', '18e7592e-305fca1b', '18e7592e-9fdef3fb', '18ee788e-118267a1', '18ee788e-9c1b625f', '18ee788e-be0083db', '18eeeefb-16ff7c73', '18f38f86-8183d215', '18f38f86-b8d15943', '18f392ee-3e237d2b', '18f392ee-4bf61816', '18f392ee-9c0cf212', '18f392ee-bcf884b3', '18f392ee-eeb8397f', '18f392ee-f8c57464', '18f3b2d1-4163de2e', '18f3b2d1-535737f9', '18f3b2d1-8127aacc', '18f3b2d1-b206e547', '18f5e81b-06ec3cfb', '18fc7b57-3272f93d', '18fc7b57-4be80544', '18fc7b57-68b97b76', '18fc7b57-a2e51713', '18fc7b57-b1f1b7ff', '18ff4534-4e2c6c3b', '18ff4534-eb20e880', '1909c742-5f455356', '1909c742-b0db771a', '190aeadf-68bc5aef', '190aeadf-6966166d', '190aeadf-778449d8', '190aeadf-c76074af', '190bb329-2d95a35f', '190bb329-7ee4621f', '1914973b-5b0b6d51', '191538e6-052fc493', '191538e6-34f45c3b', '19167d13-0a0bca18', '19167d13-75d32cd7', '19167d13-ad1b6df1', '19167d13-bd170e2c', '19167d13-f3f73ea4', '19167d13-f661c624', '191943f7-0599d99f', '191943f7-55ace9d0', '191943f7-7178554d', '191943f7-820241d1', '191943f7-f8337433', '191d17e1-aaeadac1', '191fbcc1-0dec43f1', '191fbcc1-3dbb976d', '1923a308-056a8de4', '192792cc-165344a5', '192792cc-6d0a0709', '192792cc-bc95d83c', '192b951a-0d1e2069', '19366003-c37369e0', '19378927-ceb7f65a', '1941ccc4-1f7d180a', '194e475d-89fd4d10', '194e475d-df3ead9d', '19527092-949029ba', '19527092-fc2f3a9c', '195362a6-38d2c00a', '1959860b-a636927c', '195ec407-6f35d93a', '195f33f4-073853d8', '19666ab4-8eabf685', '196d16dd-e26c2301', '197214b2-2e2ca429', '197214b2-880aa9e6', '197214b2-fad9734f', '1974efc3-ace1e77a', '19776f37-ccaf551e', '19798cae-801fbad4', '19798cae-9790e91f', '197b15e4-afbab4dc', '197bdbf2-00e768c9', '197ed864-f97e7b30', '1980add1-b45ab642', '19829784-2dfe7f1a', '19829784-7e4ee4e9', '19851516-2ce980ac', '19874d26-588dbd89', '1987c0d9-38de7ec0', '198b38c6-ccb3915d', '198d1209-d39a6597', '198d8f5e-2b4d439d', '198d8f5e-5fc86c73', '198d8f5e-680408c4', '198d8f5e-dd29fbb8', '19906a63-3976be3a', '19906a63-81e81d0b', '19906a63-c30a0848', '19906a63-e2ba347a', '1995c792-7af2bc7e', '1997db96-831e7743', '1997db96-a0a843a6', '1999da3f-14a94e02', '1999da3f-99a7fdda', '19a3207b-3afcb848', '19a75adb-fcbddee1', '19b03fa3-199ec895', '19bbe531-53230a8c', '19c89903-7a7dc780', '19ccdb26-5e6eba0e', '19cdf432-562dbd6c', '19cdf432-84cf96b3', '19d0074c-61393621', '19d41896-bec9d0b3', '19d7eaa1-84c270d5', '19d82a1a-ed3e7cff', '19da76e8-37a88ae3', '19de62f2-5ce3edda', '19de62f2-71da09bf', '19defcb1-292fcca7', '19defcb1-5d0964bb', '19defcb1-5d9d3f84', '19e78da3-95c208fc', '19f52469-c5f61fe6', '19fbb794-6e019e9c', '19fbb794-b7763ac4', '19fedea6-0ea909f2', '19fedea6-a3aab2e9', '1a032081-0e891e50', '1a032081-3276f14c', '1a032081-e82ac2e1', '1a032081-f7090d75', '1a0524a4-076e31e9', '1a05ea87-22519ccd', '1a05ea87-806084c3', '1a05ea87-fd965ddb', '1a07eecb-5d4efd09', '1a07eecb-6de57c5c', '1a07eecb-910e4df7', '1a07eecb-97e6f464', '1a07eecb-e9af5096', '1a0848e3-3338df6c', '1a0d557d-3edb86c6', '1a0d557d-4ed6f3ce', '1a0d557d-b839f63b', '1a184bb3-1d002eac', '1a18dee9-461b5f36', '1a1d77c0-62ede173', '1a222609-51a617f3', '1a222609-9384df74', '1a222609-9a83921a', '1a222609-a371fca7', '1a222609-d473d006', '1a2486e0-3b615edd', '1a2683b6-647a040a', '1a2c2af4-92366cd5', '1a2c2af4-bcc2b0e0', '1a2d0980-9f02feb8', '1a2d0dc2-e3596e7a', '1a33995e-16418ad6', '1a33995e-45d650ea', '1a33d01a-f55b3303', '1a36db4b-840b173f', '1a3dc8be-3d9adde4', '1a3dc8be-62d054ea', '1a473c2e-15dc167f', '1a473c2e-7eab70fa', '1a4c5d15-23123885', '1a4e992d-178345a4', '1a4e992d-79679eee', '1a4e992d-d5bb3be0', '1a4f9512-07be9b07', '1a5093f2-8954b282', '1a5117d3-3b968ba9', '1a546eca-856a4ac7', '1a5dc090-69386285', '1a5dc090-831816e0', '1a5dc090-88db7980', '1a5dc090-ba1e6c6e', '1a5dc090-d605e171', '1a5dc090-e53eb22d', '1a5dc090-f105114a', '1a61f101-51fe4500', '1a61f101-db4b4f36', '1a6798d7-3ab0d080', '1a6fc36a-a102135f', '1a7189e1-3f029941', '1a7189e1-cfbee7c1', '1a76487a-6d6dc636', '1a7bb587-77cda973', '1a7bb587-be2b85ff', '1a7bb587-fe309713', '1a7df43e-28837d28', '1a7df43e-c08a2cc4', '1a7df43e-e4d4c005', '1a809d9d-26f2d355', '1a809d9d-913c8a79', '1a8f0c04-31afae12', '1a957f57-95b86b42', '1a9d0a3b-7a52bc80', '1a9d0a3b-da87d0d5', '1a9d0a3b-e1bbcdbe', '1aa228ba-ba35fddc', '1aa37c12-fcc137cc', '1aa41265-a89ad4f3', '1aa52fcf-166860d5', '1aa52fcf-74cec527', '1aa52fcf-ed979fba', '1aa52fcf-fc40485a', '1aa6dd36-2b85e8bc', '1aa6dd36-30004071', '1aa6dd36-4b346ea5', '1aa6dd36-51175b5f', '1aa6dd36-6a185586', '1aa6dd36-7ca1967a', '1aa6dd36-83b93284', '1aa6dd36-8feb5194', '1aa6dd36-9e650a8a', '1aa6dd36-aa7f0108', '1aa6dd36-b3241724', '1aa6dd36-b5ba6631', '1aa6dd36-cb58fb40', '1aa6dd36-d3fc1a2b', '1aa6dd36-da527525', '1aa6dd36-f19e02e5', '1aa7aac1-54262984', '1aa7dd83-7d29fcfb', '1aa81e37-5f105481', '1aa857d4-850fac0a', '1aa857d4-9415d6a4', '1aa857d4-a6f9e781', '1aa857d4-ece17742', '1aa8ffe3-54a64768', '1aa93422-1379d290', '1aa93422-82fde1b7', '1aaf831d-19b678eb', '1aaf831d-1c50cde1', '1aaf831d-c31b9f53', '1ab05365-be22538a', '1ab2a2d2-7fb962c3', '1ab50992-a88d0328', '1aba0fce-28317c0a', '1aba0fce-fb2b61e9', '1abd6590-820d7f31', '1abd6590-92295331', '1abd6590-d571a210', '1abed2ce-a2292308', '1abefa71-2fc9f192', '1abefa71-57f4e3d8', '1ac17070-5f4be158', '1ac17070-a796f6de', '1ac25888-5dffe8a9', '1ac41139-230fb4e1', '1ac41139-639ce0d4', '1ac73a1f-20dfc834', '1ac73a1f-9ab9c5ae', '1ac85474-0150482b', '1ac85474-1bd48491', '1ac85474-1fbc6210', '1ac85474-a0eda384', '1accee17-11a727d1', '1accee17-15cb8034', '1accee17-392fc52d', '1accee17-4f132de5', '1accee17-5c592e1e', '1accee17-60f12c98', '1accee17-6fabb7a5', '1accee17-773dd02f', '1accee17-8dbfa0d5', '1accee17-9a1b4b0e', '1accee17-b868ee67', '1accee17-c7f05727', '1accee17-cee1c2a4', '1accee17-d9935ef7', '1accee17-deeb6eb8', '1accee17-e156848c', '1accee17-e2dad6ae', '1accee17-e3ef2a44', '1accee17-e4c1e644', '1accee17-e89bbbef', '1accee17-fc624f39', '1ad05029-792e5923', '1ad16048-22515901', '1ad51084-dd57cbe5', '1ad51084-e40121f1', '1ad82020-197ae63b', '1ad82020-b49b0508', '1adbf9f5-0127bac2', '1adbf9f5-a1f7acac', '1adbf9f5-fa9f8eac', '1ade21e1-591cb92e', '1aecebd4-abdf843a', '1aecebd4-af1a595a', '1af0ed08-f99421ec', '1af21ce1-633a8e8f', '1af21ce1-97d4a34b', '1af21ce1-d7d41c37', '1af21ce1-e157b867', '1af2e457-06706e4b', '1af2e457-06b3b98e', '1af2e457-269feb99', '1af2e457-53e4b09f', '1af2e457-ceb0eb72', '1af4dddc-c4329c0b', '1af55d81-20ae3997', '1af8cb28-8595e7f3', '1af8cb28-b916bc22', '1afadff4-c8654933', '1b002152-03520d81', '1b002152-c3e02ef1', '1b002152-e6d28e67', '1b05d962-ab15eec8', '1b0aa7e6-38055447', '1b0d9fcc-8b7314ac', '1b0ea19f-43d0bc95', '1b130dc7-2e7e19fc', '1b130dc7-b7cb32db', '1b130dc7-d566dc69', '1b130dc7-e1d2ad5a', '1b13f2c4-ae6fa5bb', '1b13f2c4-f65e8fac', '1b1e89a6-0e384ba5', '1b1e89a6-2318c17e', '1b1e89a6-71db3ad6', '1b276558-040abe79', '1b27ed55-b8d0bae1', '1b286547-02154d24', '1b286547-90816872', '1b286547-af0fe442', '1b2a2739-70221ead', '1b2a2739-750799a6', '1b2bbaec-93e98a2a', '1b40cdc9-d9f3c2df', '1b4258e6-8dafc26c', '1b48a43c-0f3827d0', '1b49d7cc-3f76533d', '1b4f7545-0c0bfdca', '1b4f7545-2d608798', '1b4f7545-439ca9aa', '1b5c5134-188f0757', '1b5c5134-ba91a0e3', '1b657c93-e616b559', '1b68b67e-dd4e76c7', '1b68b67e-fe4adfae', '1b6c9e66-5395acc1', '1b6c9e66-5a3b5df2', '1b6c9e66-7ec71a4c', '1b6c9e66-ce3cbf13', '1b6d28e7-c44c054b', '1b71edc8-18a1ff2d', '1b71edc8-9793def5', '1b7f130c-f5b78906', '1b7fbf44-09fa9bf2', '1b7fbf44-caa84655', '1b856f7e-bab218c7', '1b883059-144b2678', '1b883059-913ecef4', '1b883059-d1dc95a9', '1b88e543-58125153', '1b892748-08c068f5', '1b892748-7fa58178', '1b892748-85c80a37', '1b892748-b88644fc', '1b8e71ba-c57f5bfb', '1b9f2bf9-b4f1d0ba', '1ba2dbec-31964211', '1ba35b25-fd8f358c', '1ba85a43-0665dd95', '1bb0ae8c-4b09ba9e', '1bb2df55-2815f001', '1bb2df55-52b38d56', '1bb43438-4aea9052', '1bb43438-e3f9df01', '1bbd0b9b-d81304c5', '1bc13f56-6d6df64d', '1bc2c267-65b241a9', '1bc82b26-7383dedd', '1bc82b26-7f99de31', '1bc9d2ac-9ae67a3e', '1bcc16d9-24150d05', '1bcca9a5-b54534fb', '1bcca9a5-e0ae765b', '1bcce18b-00b570f9', '1bcf2906-50102fca', '1bcf2906-a37ef4a9', '1bcf2906-d88fec87', '1bd4cae9-0d1dfd40', '1be20f9b-267c67aa', '1be20f9b-3b2c0442', '1be20f9b-c887ced4', '1be30f36-d6303ceb', '1be335cc-3074a07c', '1be365d7-817946e3', '1be932d6-307fae96', '1be932d6-90a2fcda', '1be932d6-b54812e2', '1be932d6-cc8dbce1', '1be932d6-cffb00fa', '1be932d6-d6dce22b', '1bf1725d-4c51eab7', '1bf41bd7-3b31ed0e', '1bf71c4f-8a713c58', '1bf7446f-55e5b149', '1bf8693c-2be3789c', '1bf8693c-88dbabf5', '1bf8693c-959dcb76', '1c00f57a-58d4c3fc', '1c05b0a9-538b4e46', '1c071aeb-030e9cdb', '1c071aeb-29e42ca1', '1c0b4d87-ebb711ca', '1c198126-1122c365', '1c1c7174-037b9063', '1c1c7174-2e524b0b', '1c1c7174-c95618d4', '1c1ea16f-08cf6636', '1c1ea16f-52b0bba6', '1c1ea16f-c6963c5c', '1c1ea16f-f3b251db', '1c227a12-10e5552c', '1c227a12-ec67af93', '1c2512e1-9deecbba', '1c2d12f2-b668597d', '1c2d12f2-d842042d', '1c2faa91-61728d8c', '1c3bf90b-3a057d7c', '1c3bf90b-7747fa95', '1c3bf90b-f605473c', '1c3bf90b-f63fcd4e', '1c3c0f29-be6ec044', '1c40442c-e127059d', '1c443cdd-49618f2c', '1c4bf60c-0a6d4747', '1c4bf60c-586beb58', '1c4bf60c-c5fddaee', '1c522a69-00786fea', '1c522a69-46423c06', '1c564ec4-07e670f2', '1c564ec4-88bca967', '1c570d0b-8e65a94e', '1c570d0b-df0b2a5d', '1c5c6a4f-65279a68', '1c5ec9cb-9665857f', '1c5ec9cb-ac0cc8ac', '1c5ec9cb-e42c81cc', '1c6289cf-02ba90b7', '1c6289cf-ebeb5f01', '1c676e43-25808514', '1c676e43-de296285', '1c676e43-f3e49fe1', '1c67a737-c8152b54', '1c695554-99aa1149', '1c6e07d1-30d83a3a', '1c6e07d1-326ec05e', '1c71863d-5158e7d2', '1c71863d-894a6b30', '1c71863d-a34af0f4', '1c71863d-a36afdc3', '1c71863d-d02c9321', '1c734c25-39536e33', '1c73e4c3-014ac969', '1c73e4c3-3382a131', '1c73e4c3-95b27a07', '1c73e4c3-df4ed8b5', '1c73e4c3-e99bc1c2', '1c804640-020a16f4', '1c804640-adb884fc', '1c88194d-57c03228', '1c8947d6-c6c23a87', '1c923fbb-e0fa8ede', '1c93695e-88605c0a', '1c9990e8-17faa949', '1ca428a7-47018fef', '1ca994b0-05f75613', '1ca994b0-0f49760c', '1ca994b0-3dea84de', '1ca994b0-6fbd6ea4', '1ca994b0-9dd6ee6e', '1ca994b0-b41e5739', '1caed018-3e0b004b', '1caed018-666cb4bc', '1caf91f0-ef1835eb', '1cbbdef9-091930ba', '1cbbdef9-bed14152', '1cbc652a-1e2ab11e', '1cbc652a-535dd150', '1cbc652a-be10e1a6', '1cc4238c-5392dffa', '1cc4238c-7b557288', '1cc637f4-d526f5ba', '1cc77c32-a2cb4cb9', '1cc77c32-f18a71c4', '1ccc99f5-685e4d1c', '1cd1bebb-5bd21b80', '1cd33ceb-0c159ee7', '1cd33ceb-eaae3ba7', '1cd5d614-35d63896', '1cd5d614-61eedf38', '1cd92b3c-32320a97', '1cef1ed6-ec57d2bf', '1cef9ae4-249c516e', '1cef9ae4-f924b2f5', '1cf836a1-b4c01975', '1d052365-9c94d0a4', '1d055cd0-49003eaf', '1d055cd0-578f6d47', '1d080df4-358550fd', '1d08ef82-e9af6ce1', '1d092676-14cb792f', '1d092676-229605e3', '1d092676-3c9d1edc', '1d092676-497c5c8d', '1d092676-5452b0c5', '1d092676-6c170b83', '1d092676-74b7c5db', '1d092676-7e47192c', '1d092676-80e526d2', '1d092676-d1d3ad6b', '1d0a7787-8bf8ca8a', '1d0bcc50-23e22fe0', '1d0bcc50-c7315567', '1d0f55ba-f8b848e3', '1d1204c2-bc3d0e53', '1d2090ea-1274f7c1', '1d2090ea-238a239b', '1d2090ea-5ef0e701', '1d2090ea-684160bf', '1d2090ea-98b3b88d', '1d2090ea-b78d40c2', '1d2090ea-bd0d98cf', '1d2090ea-c3bba67f', '1d2090ea-cbadb16d', '1d2090ea-db202252', '1d20db39-1e1e61c2', '1d23c2dd-969184f5', '1d24537d-f291dab4', '1d2552a6-622aa824', '1d288c57-38db523a', '1d288c57-7852537a', '1d288c57-7db44b8f', '1d288c57-918d5ae6', '1d288c57-97fa14e5', '1d288c57-aeea3ad3', '1d288c57-d63c2921', '1d2e4c0f-099bb8bb', '1d2e677c-cb0b0f6d', '1d2eeabb-70505067', '1d2eeabb-ebe027b7', '1d315fc6-365968a8', '1d36dcb4-e4b70050', '1d37eab5-5ffb7434', '1d3825e0-6aafe66d', '1d3825e0-f620d133', '1d3a8c33-3403afcc', '1d3c9b96-b241f6c0', '1d3c9b96-bec80cca', '1d45c2c6-05cc4100', '1d45c2c6-07603192', '1d4a2cd0-2346f9fa', '1d4a2cd0-387e3cbf', '1d4a2cd0-5b810649', '1d4c2467-b3826487', '1d525c64-c555fd90', '1d56a6ef-86725847', '1d598aed-1b0f8e09', '1d5df664-392dbe05', '1d5df664-41480e86', '1d5df664-5ccf76ae', '1d5df664-626f8150', '1d5df664-701036e4', '1d5df664-9527eac6', '1d5df664-a978f3d7', '1d5df664-e12b1aee', '1d63c9e0-adb4a99b', '1d64afb3-30a44ddd', '1d658258-c9a58636', '1d6667df-310b021f', '1d6ad9a0-65772cb5', '1d6ad9a0-72daf8be', '1d6ad9a0-a8974645', '1d707fb3-9c1fd08e', '1d7cc5b2-ad2c1be7', '1d81a9da-0b142a6b', '1d81a9da-1d9fb4ae', '1d81a9da-2a158e21', '1d81a9da-4280b6d8', '1d81a9da-5d351a62', '1d81a9da-e10e3de2', '1d81a9da-fa45797b', '1d8cd3b4-59412f57', '1d8cd3b4-72fb8013', '1d8cd3b4-af2858c3', '1d8cd3b4-e2ce1e55', '1d8d894c-5551bff4', '1d8ee15c-a64eb02d', '1d93f1a3-e707b43a', '1d97c075-dac6540f', '1d97c075-e850faa9', '1d97e3df-0aba6036', '1d97e3df-cf5bcb0f', '1d981a62-27584b3b', '1d981a62-cba943e5', '1d9cf0c7-c0eceeae', '1d9f705e-486c86af', '1da45647-4d28c085', '1da5ab62-118a8b26', '1db28ff3-21fdfde6', '1db60eea-1b1c4005', '1db60eea-5fc9190a', '1db63adc-c16afa64', '1db91b25-a34b42fd', '1dbaa8d7-955fee3f', '1dbb9dd8-a92bf005', '1dbc80db-7974e48f', '1dbe57cf-8f8b15b1', '1dc02e01-bc65745b', '1dcbdf3a-7d747c0d', '1dcbf95d-5b276cdc', '1dcbf95d-6a56a42e', '1dcbf95d-867ffa9c', '1dcbf95d-a6176d4d', '1dcbf95d-b80a4d13', '1dcbf95d-cfac3bac', '1dcbf95d-e384c4ed', '1dcc0a6a-1329a097', '1dd0f134-d779ee6e', '1dd3640d-bbfd155a', '1dd4ad3f-0e0e6b68', '1dd4ad3f-59d2c3b0', '1dd4ad3f-d2cc4104', '1dd4ad3f-f04214e4', '1ddae945-6cd6d864', '1ddb0aca-12d1d889', '1ddc71b1-fc1972a3', '1ddfceee-3c426d5f', '1ddfceee-89178712', '1ddfceee-9db6d873', '1de04c1b-75b47669', '1de10d4d-b513a307', '1de119a0-3668f28a', '1de119a0-b4a0b3a5', '1de119a0-f155a957', '1de6d5ff-1d0edcea', '1de6d5ff-51f63d07', '1de6d5ff-64c4e409', '1de6d5ff-68967d08', '1de6d5ff-8aba6383', '1dee4326-e481b3cb', '1deff035-72e48ccc', '1deff035-ab1c94cf', '1df3bb56-50d6acc8', '1df69db3-2f995bd5', '1df69db3-3a5860de', '1df69db3-64e475fd', '1df69db3-8751b3d4', '1df69db3-88bd38e5', '1dff62c8-1d7d9fc1', '1e00fed5-dfdf673d', '1e077cf7-022ade8c', '1e077cf7-dbe6297e', '1e096724-5b06b52e', '1e0a8f43-165ea324', '1e0a8f43-cbd62a04', '1e15eaab-f4b4838a', '1e18dcf8-2d1b984d', '1e1d4587-1bbdccdc', '1e1d4587-788bb811', '1e1d4587-f9a27aea', '1e1ff90e-24d540ec', '1e1ff90e-51151c15', '1e213070-26f907bd', '1e272076-566f6711', '1e2ac9da-34ab6f13', '1e2d42a4-1941b31d', '1e2d42a4-83915709', '1e2d42a4-b1b0abcc', '1e2d42a4-d0373ec9', '1e2d42a4-d7e59b7c', '1e2d42a4-d9a456d5', '1e3a1c38-36f2a4fe', '1e3c65ba-1698f4e4', '1e3c65ba-33341e2d', '1e3c65ba-64d02df4', '1e3c65ba-a00f2631', '1e3c65ba-f847b4df', '1e3c65ba-fd167f4c', '1e3d501f-8e845f89', '1e3dcb86-1a791f34', '1e3dcb86-5db183b9', '1e3dcb86-846e111c', '1e4b6c29-b6e70050', '1e54b71a-0e6cbd15', '1e54b71a-20d24fe9', '1e54b71a-29ab7a37', '1e54b71a-4fc8c390', '1e55e072-fd08f112', '1e61a685-0698d7d2', '1e61a685-945e2fc4', '1e61a685-9f7b7963', '1e61eb6e-ffb5e3f2', '1e68a7dc-e3394c1e', '1e6a6965-44d99d0a', '1e6a6965-4b3d39fe', '1e6a6965-83b799a8', '1e6a6965-a004d080', '1e6a6965-a1405cba', '1e6a6965-a6c5fb97', '1e6a6965-d2c44395', '1e6bdf2e-e1847dcf', '1e6bdf2e-eef84253', '1e6d7d21-d9671c85', '1e7225d5-64710d9a', '1e76c0fd-97fce8a3', '1e79ca92-5b0bc85a', '1e7af489-44f98c39', '1e7af489-6bc1ce3f', '1e7af489-858285fa', '1e7af489-d68eda28', '1e7b5f2c-91c36b1a', '1e7b5f2c-e9ada925', '1e7ef910-f0c71d3d', '1e7ef910-f1af8626', '1e81bfcf-1cf26077', '1e81bfcf-7749d9ca', '1e82c7e7-d2744df9', '1e8b87a9-6c67c101', '1e8b87a9-ad66a9a2', '1e8bcf70-c2275084', '1e8d5aec-94739b7e', '1e957b3e-c9d0d292', '1e9e59ca-cf8bb9ed', '1e9e8d92-69576065', '1e9e8d92-f9913e97', '1ea3082f-5f12d4c8', '1ea3082f-72d261ef', '1ea3082f-7964577e', '1ea408f5-29059b61', '1eaaebeb-e0e97c75', '1eb1e178-839f6473', '1eb1e178-af806f8b', '1eb33c1c-792725a6', '1eb658e0-36b20387', '1eb658e0-3a1d84c8', '1eb845ee-fcf63348', '1eb90037-55f30ab9', '1ebbc434-0914b529', '1ebbc434-0983eeaf', '1ebca830-d04fa3a1', '1ecd8829-dfec8fc4', '1ecd8829-f3779856', '1ecebfa3-eb93af1d', '1ed00aed-210e37ee', '1ed00aed-57b36e22', '1ed3242e-6e528b9b', '1edbaece-a0b5df3a', '1edd9c50-b4b5ad61', '1edd9c50-bc27fa60', '1ee15aed-5ba3eb35', '1eee11d8-2a7a5c07', '1eef3e68-5c5dd39d', '1eef3e68-6c0fbc27', '1eef3e68-ccf8a856', '1eefd02e-8b5919a1', '1ef337f9-5cda49af', '1ef337f9-fdb6253e', '1f018767-9b5ac614', '1f082727-241e82d2', '1f082727-2faaa728', '1f082727-31e3076c', '1f082727-8e52883d', '1f082727-b2a7c782', '1f082727-d2d0ba27', '1f082727-dded1df1', '1f082727-fe4fb0e7', '1f0af85d-386af660', '1f0fff77-eb02ae10', '1f13b7b2-4c1b6a58', '1f144e08-4fb224f5', '1f1550e9-d5cd4244', '1f156136-43472e43', '1f156136-4ae86750', '1f156136-534f9c01', '1f156136-8d6c7970', '1f1933c6-a9f2d713', '1f1a34a0-339e2e4b', '1f1a34a0-56845b24', '1f1a34a0-a77d6f9d', '1f1ba65a-c0fba00c', '1f225b07-3a7db8ed', '1f225b07-8b5201a8', '1f225b07-a5d1fa2a', '1f225b07-c25f1f6c', '1f2adee2-242314b2', '1f2adee2-55d15326', '1f2adee2-cf47182b', '1f2adee2-d0541020', '1f2dfcc0-4a4269e4', '1f2dfcc0-db334b32', '1f34df87-78de6979', '1f3b0f35-102a3bc9', '1f3c30a4-210fcb64', '1f3c30a4-464963e5', '1f3c30a4-ab6d0965', '1f3f018d-a25650ad', '1f40dccd-948ec31e', '1f44d8f2-53f3df13', '1f44d8f2-6feb2c27', '1f44d8f2-8b61f64b', '1f44d8f2-cc377355', '1f44d8f2-d8226ba4', '1f44d8f2-df677a54', '1f45df68-26795801', '1f460b06-7f6a0bd4', '1f460b06-dec59ca3', '1f477602-88a69ccc', '1f4b8e7d-00a8dd02', '1f4b8e7d-82f7e836', '1f4b8e7d-8c3eaa2d', '1f4b8e7d-a12884e9', '1f4b8e7d-b6d9cd5a', '1f4b8e7d-e6d19fea', '1f4bbfc7-372bb4f7', '1f4bbfc7-9acf16bf', '1f4bbfc7-cf8e32e6', '1f4bbfc7-fda48941', '1f4c7852-72686adc', '1f59671a-13d82b75', '1f59dc01-00195815', '1f59dc01-2725ca00', '1f59dc01-ac8d1e79', '1f59dc01-e932b00f', '1f5d6bf1-7e1eadf0', '1f5df9a3-0db0de34', '1f5efe2c-4e865ff6', '1f5efe2c-5bd6b60d', '1f5efe2c-8f48c6ff', '1f5efe2c-bb484e49', '1f607426-1bc0137f', '1f607426-6f912c9a', '1f607426-7ac55163', '1f607426-e11f4bcf', '1f607426-e6850c52', '1f621be0-58c08371', '1f668a20-f15712ac', '1f67d11b-cf3f5bf0', '1f6c987d-75076c41', '1f77fb7b-9fdb1522', '1f77fb7b-b2957aa2', '1f77fb7b-d1d8dfee', '1f77fb7b-d6304b0f', '1f7ba5ab-05aecae8', '1f7ba5ab-3eda4aee', '1f7ba5ab-5872e67e', '1f7ba5ab-5ab52137', '1f7ba5ab-68e47069', '1f7ba5ab-6b3d075c', '1f7ba5ab-9ac63843', '1f7ba5ab-afb647c4', '1f7ba5ab-b5feb906', '1f7ba5ab-d059dc2e', '1f7ba5ab-fa498166', '1f7ba5ab-fc660dc7', '1f8591c0-0bda3aa3', '1f864b3f-09719332', '1f864b3f-0ea99dfa', '1f864b3f-40dfcddf', '1f864b3f-44e20190', '1f864b3f-472adf58', '1f864b3f-55ccb51c', '1f864b3f-5c248257', '1f864b3f-8b5641f6', '1f864b3f-8f30738a', '1f864b3f-921395ae', '1f864b3f-9dd15b42', '1f864b3f-a736fa8b', '1f864b3f-cb058068', '1f864b3f-cf76c922', '1f864b3f-d1175cbc', '1f864b3f-d5130597', '1f864b3f-e4948386', '1f864b3f-e4b25176', '1f864b3f-e658daa2', '1f864b3f-eb4370e5', '1f8fde10-16bb5ced', '1f917864-09ad44a1', '1f917864-64fde6c6', '1f917864-80d1c4be', '1f917864-8de7a5af', '1f917864-a7efec32', '1f917864-dc698739', '1f93fff6-8be58b84', '1f93fff6-8ccd1453', '1f9d9977-62575983', '1f9d9977-f16ecd51', '1fa75e6b-a9ab3833', '1faaee6b-0430c425', '1faaee6b-5ea20c61', '1faaee6b-c0b27c70', '1fb82715-1dfa34fd', '1fb82715-39400da9', '1fb82715-555f2ad2', '1fb82715-cdef97d5', '1fb97fbd-62f3c4c8', '1fbe0baa-12f28b9d', '1fbe0baa-18f336c0', '1fbe0baa-5bb0ab7c', '1fbe0baa-62bc5a4b', '1fbe0baa-e8dfd916', '1fbec55a-4685ff6c', '1fbec55a-ceaf0e62', '1fbf13dd-6fb59099', '1fbf13dd-e90ad889', '1fcc3df0-81be0ca4', '1fcddc1f-89e3f617', '1fcddc1f-c4a1dff1', '1fd756ef-0ac5401e', '1fd756ef-e65616cc', '1fda2e10-46cfd44f', '1fdf9217-048b0bc5', '1fdf9217-47d61d91', '1fdf9217-7f58d0e0', '1fdf9217-c7fe97d4', '1fdf9217-cc21e211', '1fdfa38c-c2004ca6', '1fdfa38c-ed1d3e8f', '1fe06714-b1fb432f', '1fe39b85-36d5926b', '1fe39b85-4aa8b0b1', '1fe39b85-7ba605b6', '1fe39b85-860d8b47', '1fe39b85-8d6de541', '1fe39b85-de8e192c', '1fe4fb48-53ee13f8', '1fe4fb48-99fa9534', '1fe4fb48-a9281047', '1fe4fb48-a930df4e', '1ff2315b-8b9ac79c', '1ffcf258-75ab8d0b', '20034c8c-71b0991d', '200407a9-26db4fcd', '200407a9-43e2484d', '200851d8-a175013e', '200f9792-665b808c', '2012cb38-0163c056', '2012cb38-2132fe03', '2012cb38-e1a58f29', '2017f7d8-3b5bd4c5', '201c531c-0f3d1723', '201c531c-1b3dceed', '2021c742-05158275', '2021c742-1fe749bc', '2021c742-46011a88', '2021c742-4e7b9f7c', '2021c742-87a39f03', '2021c742-9e004c6f', '2021c742-bef77982', '202391c5-002afe27', '202391c5-6e4ed29e', '202391c5-d49bff01', '202f609d-3e831575', '20322e6e-30c522f4', '20322e6e-e8ba2c22', '2038e4b0-4404bded', '2038e4b0-9382b730', '2038e4b0-fd759b13', '203cb65f-358093b4', '203f6b83-e5bf9a63', '204187ff-aa28b7cc', '2047a0cd-f9a5aa14', '204c731f-212ae4c2', '204e90a4-a3d1fa06', '20599105-549d89be', '20652cf8-07af8f47', '20652cf8-15dd5dfa', '20652cf8-1652e44f', '20652cf8-289d594c', '20652cf8-657281a8', '20652cf8-711be8bd', '20652cf8-87b19240', '20652cf8-91634b10', '20652cf8-a93fa1e4', '20652cf8-c87e5ea4', '20652cf8-d2544386', '20652cf8-e9fece8d', '20652cf8-ee0c6884', '20652cf8-f6e99312', '20652cf8-fa3dd2e2', '20652cf8-fef96c9e', '206a28b8-e4154a94', '206be0fc-480f4b0f', '206d8067-4bc8968b', '206d8067-a247579a', '206d8067-ec471b08', '207056d6-9179f1e4', '2070bc4c-85b87247', '207732ff-60fbd216', '2081ca78-0b5f3de7', '2081ca78-89ca7e40', '2082c890-7e230eb3', '20833cc9-28773ed8', '208be040-b7ad1b43', '208be040-eee68442', '208caf98-5539f24f', '208caf98-7316a867', '2090b4bf-44dbec3d', '2090b4bf-81f652f3', '2090b4bf-cadb8062', '2090dd9d-a480837f', '2091adbb-14a45df7', '2091adbb-a941aa9e', '2091adbb-bba2daad', '2094d2bf-3e79988b', '2095418c-53fe91c7', '20959acb-1fdbc7a6', '20a3eec7-3ae8309c', '20a75ec6-1ccee115', '20a75ec6-357a0595', '20a78739-385d8ed8', '20b3b81c-d2aa0c35', '20b3b81c-dfbb4471', '20b46731-a788ceaf', '20b8607e-7550b48f', '20bc7470-becc206e', '20c07e25-6d2d1448', '20c3c3e1-3861f97b', '20c3c3e1-a24e46e8', '20ceee16-7a0e0dea', '20ceee16-817c575c', '20d1b604-2b96e233', '20d36be6-34c6d0e6', '20d3ba64-3a04d066', '20dc0dc1-7df7f3fb', '20dc66e8-245b6246', '20dd6b9c-290dc6e8', '20dfe192-fcb0a8a7', '20e931c5-f21a5238', '20ed775f-1187c024', '20ed775f-4d9f4da5', '20ed775f-8236b43e', '20ed775f-831b83b3', '20ed775f-a853d5b5', '20ed775f-b93a37e6', '20ed775f-c0cee776', '20ed775f-ed6f864f', '20ef5a70-30216bd9', '20f4d234-c22885bb', '20fa5a9e-83a98791', '20fa5a9e-a1b9a7f5', '20fe00a8-bc3e772a', '20ff37cb-5d6ab0dc', '20ff37cb-73e58926', '20ff37cb-c1f75833', '2100be1f-834f2c83', '2100be1f-b497e082', '2105466b-1cedede1', '2105466b-78c8ad0b', '2105466b-a8ae3ede', '2105466b-b7803167', '210b3770-5fa357b4', '210f343d-8bc5d020', '21148413-50a44abb', '21160064-512c7e2e', '21174007-bc74f493', '211870cb-38874921', '211870cb-51348d05', '211870cb-752b9a7f', '211870cb-b89bd6ea', '2118d97b-3d7bd5d7', '2118d97b-ab7736f7', '211918a6-4dbd06ae', '211918a6-c4ac86af', '211d1898-bdc0c83a', '211f49a8-dc4ebe25', '2124bfce-4b4303dd', '2124bfce-84f141cd', '212f5e63-fe607059', '2131e4ef-b7becd94', '213344f6-5adddc66', '21378e5e-4b3afbf5', '213bfba3-d2008c40', '213bfba3-f72a2717', '213f19cf-982ed08d', '213f19cf-e0fdcf88', '214a9dbc-ff465021', '21548a4c-542c2c8c', '2154e7c8-1477b521', '2154e7c8-d24062ed', '21575924-6dcb9f33', '21575924-d44ed1ea', '215cac43-96620c99', '215cac43-d21a40a2', '215cac43-d4020633', '215cff91-2caa8e85', '215cff91-633bf875', '215cff91-63eada91', '215cff91-71e29b45', '215cff91-7a449d8b', '215cff91-b6c3e097', '21649da7-175fcfc5', '21649da7-18621e54', '21649da7-36243653', '21649da7-9005fb00', '21649da7-ad105fdc', '21649da7-b8218411', '2168a252-c052da7a', '216a58a9-00090e48', '2173474d-208fea1a', '2173474d-2c579420', '2173474d-4cba8bf0', '2173474d-f99d23ef', '2173474d-fe4bcc41', '21738eae-1625248a', '21738eae-3dbee257', '21738eae-54035fdb', '21738eae-8dda6642', '21738eae-9712024b', '21738eae-ac763843', '217a9dbf-66fb35a5', '217a9dbf-956e2503', '217bd8e3-2b4e4b74', '217f5fb2-16bde55f', '217f5fb2-58a1d1e1', '217f5fb2-7b751b0f', '217f5fb2-89d7f75d', '217f5fb2-ddfe2d86', '21825b6e-004096be', '21825b6e-08f61519', '21825b6e-0fb30120', '21825b6e-177a1628', '21825b6e-2f3cb948', '21825b6e-519bfe9b', '21825b6e-67047ea3', '21825b6e-7981d5c8', '21825b6e-940e6f99', '21825b6e-c209dfa6', '21825b6e-c3e923db', '21851893-c754b1d8', '21880aac-ffc6e02e', '218c9694-cc5847ef', '218e5b88-91350974', '218e5b88-ddd3a13a', '2198868f-529bb458', '2198868f-5ce602db', '2198868f-8729117f', '21a40bb6-3e3a3e67', '21a968d4-38ea6bb7', '21a968d4-5bdf562c', '21aa3c8e-00798dab', '21ac5d8b-05597698', '21af7252-5d3718b8', '21af7252-7ed16a45', '21cad30d-0509cb5a', '21ce51f8-188e787b', '21ce51f8-eb98df70', '21d3f380-722375c7', '21d3f380-ba91b5ed', '21d61f0e-6ff313be', '21d61f0e-b18a5b16', '21de859a-202af88a', '21de859a-7dfeb6eb', '21e03d6e-3e60495d', '21e03d6e-c848452f', '21e4d109-30ea99f5', '21e621dd-b02f46d5', '21e621dd-b11b3838', '21e9efcf-d90a257a', '21efbb21-4724d6bc', '21efbb21-50c568e9', '21efbb21-7a7245da', '21efbb21-b31b9f50', '21f007a8-8a9b1010', '21f2a793-1b2223d7', '21f2a793-468cd667', '21f2a793-cf9f8073', '21f4edde-6f43f4ec', '21f4edde-99ce0bf5', '21f4edde-9b70fa56', '21f4edde-b3de1e08', '21f4edde-d8611796', '21f4edde-efb137f7', '21f695ce-930a648f', '21f9ad35-74dbf9e1', '21f9ad35-84e40e44', '21fa1af0-28cad845', '21fa1af0-3b465479', '21fba933-046e68f3', '21fba933-b38c2b97', '21fba933-c1905cc3', '21fba933-e2281c16', '21fd3bf5-14779167', '21fd3bf5-1b0b302d', '21fd3bf5-282da30a', '21fd3bf5-4f605814', '21fd3bf5-58f3c1c6', '21fd3bf5-6e772a9e', '21fd3bf5-ef5a1870', '21fd3bf5-fa5ae7d5', '21feabf3-df83719d', '220e4398-cb36c68a', '2212992a-db9ca930', '2214e21d-508bba9f', '2214e21d-9d6f8e51', '2218c04b-c93771df', '221e384a-01853288', '221e4d0a-760c6aae', '2221b5cf-b7a4e670', '22222d41-159cd776', '2222be72-7cb9859e', '2222be72-c671d7e1', '22240496-4f16d943', '22240496-597787f9', '22240496-8433dc30', '22245230-0d0fc024', '222a5cd9-ef880b17', '222d61fa-4a59b227', '222d61fa-bdb60cac', '222d61fa-ee7b4d29', '222ff0e3-0253a204', '2231a0a8-9ed70584', '22375c25-86f3288d', '2238edb7-0ece1727', '223dfdbc-95b344ef', '223dfdbc-ffcc6887', '223ebd51-164dc9a2', '223ebd51-d21b1e64', '22442774-13e8bec0', '22442774-2a5a2c71', '22442774-3ca223f4', '22442774-3e2520b0', '22442774-cbd1c4e9', '22442774-e5e5df90', '22442774-ecb64280', '22442774-fcc1c593', '22496812-46840310', '224a4127-2cb04b0b', '224a4127-48063c15', '224a4127-5dbe3f9a', '224a4127-992c5d2d', '224d0424-e93a76ba', '224f393b-5e7d0667', '2250b7e5-07c52bd4', '22576671-eaff5e06', '225dad3c-023a25e9', '225dad3c-1f7863e3', '225dad3c-68a788b2', '225dad3c-da577033', '225dad3c-ebc421ce', '225dad3c-fd2a7987', '225e901c-0321ac5c', '225e901c-2b3729b2', '225e901c-fe4022b7', '22600de8-fd2c7582', '22663f09-b6484ede', '2269cd4b-d06d5b33', '226fee22-7667aa19', '2272b934-2a2a61ed', '2272b934-5221fb31', '2275f544-acdbc568', '227829d9-608a1bfa', '227829d9-6a5c7405', '227c4a9a-3ac6e824', '227c4a9a-4be0048f', '227c4a9a-8b7606f8', '227c4a9a-dda7327c', '227c4a9a-de5ff104', '227cc1f7-51d7282b', '227cc1f7-a8d4a4e7', '2286c2d2-b93beb39', '2287d565-7ef2ea36', '228e34eb-3fede0d6', '228f01b9-d2d937f5', '22929ef5-ed608d72', '2295f926-1c38096b', '2295f926-672f33ca', '2295f926-6f3cc5db', '2295f926-9baf487e', '2296dd97-5eeaa897', '2296dd97-9e2c7b9f', '2296dd97-cda37aeb', '22a2ec58-4c152ef2', '22a5625a-e1af86c8', '22a7fbe5-7ea98c52', '22adcd16-cf6a47ab', '22afe949-954a315b', '22b30458-4682c6df', '22b4f5e6-0e50b841', '22b4f5e6-3035cfb2', '22b4f5e6-5c83d311', '22b4f5e6-8ad80525', '22b4f5e6-a1859104', '22b8d382-b29bfd3e', '22b8d382-dfe872ac', '22bd8c6f-bd2aee6d', '22be35e8-2768d2f9', '22c1f34f-56498126', '22c302a8-d9899da9', '22c302a8-e0eff66d', '22c57dc6-e41dc5a8', '22cad014-bf70f293', '22d14e85-86b3de7b', '22d2c987-12cb972d', '22d2c987-2be82ea3', '22d63fa2-340e95f2', '22d9eb85-0b8c2944', '22d9eb85-20db1f81', '22d9eb85-96272fb8', '22d9eb85-ff589892', '22e7bd8e-a6993e80', '22e939b1-9e9bc65b', '22e939b1-a030bb30', '22f27dc2-45251a6b', '22f325ef-1cafcfb4', '22f7ccff-3f4f6825', '22f8a518-001bede8', '22f8a518-25986fe2', '22f8a518-3016be15', '22f8a518-f59fd4d8', '23078203-27f40d1d', '23078203-39a42687', '23078203-a9ea3b58', '23079643-48f07684', '230a9eb5-8a771ada', '230b02df-18e132be', '230b02df-4f4b1f28', '23102cfb-3ed9c271', '23102cfb-b94e3ca0', '23102cfb-d59b5021', '23102cfb-e4d4f789', '23104000-1ed2623a', '23104000-7abfed3b', '23104000-a4592eb1', '2315f3f0-ac55e1f6', '231bbfa9-4b3b8d54', '231bdb08-012493bd', '231bdb08-016d7631', '231bdb08-2859bb11', '231bdb08-63407912', '231bdb08-8b0af3f8', '231bdb08-982ffda4', '231bdb08-bb0a4a36', '231bdb08-eed32a3c', '231ec181-13648b9a', '231ec181-16eac6aa', '231f7d65-4b862fab', '231f7d65-7cc06d14', '231f7d65-be79246e', '2321cc9d-5f0b7191', '2322fabb-ae2abc08', '2322fabb-fe165c2a', '23251aa9-01e86964', '23256adf-4e35767f', '2326b725-4afbb2b1', '2326b725-9092d0ad', '232d8838-042bc39a', '232d8838-a427bae2', '2330a491-56188636', '2330bb2e-f9766e66', '2332ba2c-00d96606', '2332ba2c-628e84e7', '2332ba2c-b36eb695', '2332ba2c-be5321f8', '23333f35-0cbc3f0f', '233ce678-c7a2185e', '233ecc0e-5e43a90c', '2340047e-00f2ecf0', '2340047e-f4185103', '234635f9-7fcd8889', '234fce8c-8b3d1523', '2352f8a9-cff30075', '2355825f-a00b62ce', '2357db00-55751c6f', '2357db00-7b7930b2', '2357db00-9a6abe09', '236c6a42-aef88fab', '236c6a42-c834db04', '236c6a42-d88fc20b', '236e3fa9-2fce1804', '236e3fa9-707a0e9a', '236f1adc-4877da2a', '23751644-141def73', '23751644-6a66c1a5', '23751644-cfb4a0d7', '23771c61-93fdc884', '237a703d-05c21f7a', '237a703d-8cbcaee2', '237aed01-7802f799', '237aed01-a1ec4a6a', '237fe97f-4a8912b4', '23827978-492d9534', '23827978-c5b24754', '238f270f-42f25043', '238f270f-6ccb8963', '238f270f-fcd1f4b8', '238fcaba-b8deea6f', '238fcaba-f0c5b285', '2393a2fe-5714e814', '2393a2fe-7c29286d', '23941137-787c7f56', '239471e5-0af4b0cf', '239471e5-0e821c3a', '239471e5-30e68696', '239471e5-365426f5', '239471e5-68486a5d', '239471e5-74e95298', '239471e5-880fc6e8', '239586df-154735df', '239586df-c12ee613', '239586df-e95165d0', '239586df-f66e1336', '23983a4b-4030fd2e', '23983a4b-f597c790', '239a2e36-c06da1c4', '239cafb6-529f5758', '239cafb6-9530a15a', '239cafb6-de4a14d6', '239e36ff-90095e00', '239f9f7e-72d0091b', '239f9f7e-9b88c13e', '23a6f214-679fac59', '23a9d660-0c194801', '23a9d660-143cde90', '23a9d660-17766a8f', '23a9d660-32597b2a', '23a9d660-34bb210c', '23a9d660-6ddcfc99', '23a9d660-88ee4249', '23a9d660-db3f344a', '23b178c6-3448c867', '23b178c6-68aff848', '23b2a741-25c5bb9c', '23b2a741-cee8e8da', '23b7e47e-03562629', '23baaec2-087c9a4b', '23baaec2-3d245977', '23baaec2-8c01e4b6', '23baaec2-976e1ba7', '23baaec2-eef3da82', '23bc03fe-d61ba58c', '23bff47f-f55e97b9', '23c3afd8-52c49e6c', '23c3afd8-afaf0e7b', '23c3afd8-f925d1a6', '23c94ec0-301f2ade', '23c94ec0-40332d3e', '23cad868-0f60901b', '23cad868-4ea7461f', '23ce5f4e-10e38fda', '23d5ce3c-4f4a4c96', '23d5ce3c-9a151016', '23e212bf-91cf9eaa', '23ea0f4f-ebfdf6e7', '23ebeba6-2d2ca78f', '23ebeba6-f76ab163', '23ee4432-5987c173', '23ef1ac8-097579a0', '23ef1ac8-2c4b1a6d', '23ef1ac8-3251db45', '23ef1ac8-bd66872f', '23ef3d75-e5f8d8ea', '23f0ce7e-3de5dd37', '23f0ce7e-3e16b0a6', '23f0ce7e-588c8a5c', '23f0ce7e-e0316b18', '23f7d0af-7d7b18b4', '23f7d0af-90280b4f', '23f7d0af-bc5d43a5', '23f89fdc-d0a28157', '23fd403e-0f8a43b0', '23fd403e-b8f92c6a', '23fd403e-efc0a3c5', '23fe59f4-66b4bc91', '23ffad3a-7026778b', '23ffad3a-ee2ed180', '2401230f-253ca58c', '240d0313-eec80a5e', '2414d34d-2bf2dbd9', '2414d34d-c00a82f3', '2414d34d-c7a4d6bd', '2415a26c-1c90df5e', '2415a26c-6d08cd14', '2415a26c-b9beccd3', '24192cec-03c693d9', '24192cec-bbf4ce63', '241ed60a-af60e5a9', '241ed60a-b362e404', '241f0351-157cdf3d', '24223a1e-6df6b6f0', '24223a1e-8141a36f', '24255fc4-31a7b8d1', '24294c41-688ab65a', '24294c41-9469f9a3', '242c3ec4-51d399de', '242f6374-39b7d1ec', '242f6374-73013be6', '24379e6d-16c5f615', '24379e6d-29bab2b3', '24379e6d-71c66a5a', '24392d7c-9800e401', '24392d7c-998011c2', '243a8597-4d7c7f42', '243a8597-5b4cbb2f', '243da09c-bbd4a64f', '24430f58-edb6dc5e', '2448901d-77b755db', '2448901d-c2c7f6d9', '244f9d52-8939637c', '24559616-21c4e3d4', '24559616-4430003f', '24559616-7aad3da3', '24559616-80a05f08', '2456e8d4-5a97788a', '2459a70f-1276163e', '2459a70f-7588d9e5', '245ddac9-18c2a277', '245ddac9-2779680f', '245ddac9-3a37c8d4', '245ddac9-4737a7f8', '245ddac9-4acc7ec2', '245ddac9-57dc4d91', '245ddac9-5ea05019', '245ddac9-5fd4ce55', '245ddac9-642f58f8', '245ddac9-80951840', '245ddac9-b22a77ff', '245ddac9-c4d4f5b3', '24664150-bf1ce6d9', '24666de9-7a2d57a1', '24666de9-d6031301', '246fd7ed-908d7261', '246fd7ed-e0b9d661', '2486c9ac-4c78e123', '2486c9ac-dfa79203', '248a4806-8abbf072', '248bfe72-221f7e76', '2495cb5c-72708d44', '249ab9de-0fe6151e', '249ab9de-106add60', '24a3e599-177d2040', '24a3e599-f60b0d5f', '24a6f8cd-10a0c668', '24a6f8cd-13d4c27d', '24a6f8cd-bd2c6e74', '24a75019-446b7f56', '24b114ff-675a50ba', '24b4c65d-0292f002', '24bb3cad-63bdd487', '24bb4a4a-fde3a345', '24bd0513-af9c69f3', '24bfb255-a6ce5ca8', '24c37ab0-3a936c24', '24cc649e-71791f0e', '24d0c95f-4f2921ef', '24d784b6-fe2d32c2', '24dcf2c9-0e6bdbb5', '24e0b338-03f6994c', '24e0b338-2a3644dc', '24e0b338-5f3058c2', '24e0b338-a0378ff9', '24e0b338-ae41fb26', '24e0b338-d813ae68', '24e44177-81bc39e6', '24ea2bbd-eae6f66c', '24eb954c-1547d72c', '24eb954c-3266ce03', '24eb954c-919b8e72', '24f1e119-2a7f8bfb', '24f1e119-7b9ce34d', '24f43441-85ce1a58', '24f4ab6d-125756c0', '24f4ab6d-4d9f6cdb', '24f4ab6d-81c4c57d', '24f4ab6d-c2704d59', '24f4ab6d-d11ecd00', '24f64352-577188db', '24f7dec0-972f8e2d', '2503c14c-bd3ad81f', '25077d6e-9ed9d4e1', '250c9d95-d15569f2', '25157077-ff9a2a53', '251b379f-265f11ce', '251b390c-91870d52', '251d4e52-ff61c254', '25248505-8bb2d4ad', '252724b5-afa1ec93', '252bc951-35a58db3', '252bc951-8abd7cd0', '25383dc7-38877a02', '25383dc7-3ec29a93', '2541aa94-3b0a6812', '2546dbc9-232adc12', '254df60e-a8c6f28f', '2551c2e6-41894b5f', '2551c2e6-97191703', '2552b605-e1ad66fc', '255b8468-2a6ee89f', '255f539f-4a656618', '2564bfee-b92a1806', '25656463-b9466d87', '256c5a4d-c4c2c4d0', '256f641b-3c803cce', '256f641b-f31b49ab', '2574ef86-717b1415', '2578f0c0-d2dd0a6a', '257a0c9e-a358eaa3', '257fea9a-44b18b79', '257fea9a-969b21ef', '257fea9a-a5b590d3', '257fea9a-ba94de1c', '257fea9a-df333b7e', '25800a0f-91b66103', '2583376f-4496e94c', '258c0fc3-d0776ef2', '258cd6bd-0b97ce01', '258e047d-d92853ef', '2590d38d-98599615', '259114b4-5a1e457c', '259114b4-d9a68be0', '25943a4a-28d9e1a1', '259ae846-72e4ba44', '259bde00-7b72c93e', '259d871b-931fd6d7', '259d871b-a8274a28', '259d871b-f690d23b', '259eee89-425dd4ba', '259eee89-bc8bd5e8', '25a07562-b8d879d9', '25a3e475-841dfac3', '25a3e475-a510cb83', '25a49b9b-5b650d4e', '25adf4ed-a6c0f80a', '25b85436-2b79b93d', '25b85436-3a0e059f', '25ba4da8-04946761', '25ba4da8-c9aa841d', '25bcf553-2e3a67c0', '25bcf553-6a77cbba', '25c137e1-f5c1cf74', '25c4e089-08ea1a00', '25c4e089-2dd31160', '25c4e089-7d356270', '25c4e089-7dce716a', '25c4e089-ec2cc5ab', '25c65ad4-2acd7459', '25cf0294-f2be79dc', '25d05370-4e7c64d3', '25d05370-79267549', '25de13cc-18e18e87', '25e3206e-e6c29f72', '25e9af6c-55d50b8a', '25ea4755-a9731665', '25f18204-26cda37a', '25f18204-2d1549f9', '25f18204-341dc3a2', '25f18204-919bf119', '25f18204-a0d3dd59', '25f365ce-49593279', '25f414f7-99500bbb', '25f8fadf-25ac1825', '25fbc70f-50daedd6', '26088906-14faadfa', '26088906-6e0e437f', '26089727-2dbbeef5', '26089727-91d1e3f2', '26089727-ae79b282', '26089727-b80e004b', '2608e087-0d9ab21c', '2608e087-4bc2c848', '2608e087-84659faa', '260c5974-538736e6', '2615443f-30717a46', '2615443f-8b287d2f', '2615443f-f76c20f9', '261cf2ea-47a3d5a6', '261cf2ea-5cfeb85c', '261cf2ea-d5a9d151', '261cf2ea-d8be7a3b', '26268a7d-8ef635b1', '2627ac7f-5d66425a', '2627ac7f-a842fa63', '262a1d6f-00d120cb', '26354950-837cd7c4', '26354950-a7eb2311', '2636cf9d-8f13b0dc', '263805ec-2b863c60', '263cf4be-06d6b2c7', '263e7091-1187af5b', '263e7091-90d0a4a0', '26401f63-00960e55', '26401f63-2630c043', '264700d6-aee797b3', '264b9ed7-0176bd00', '264b9ed7-1d0a5a60', '264b9ed7-27dcf651', '264b9ed7-2d424b08', '264b9ed7-741f6ed4', '264b9ed7-76e208e6', '264b9ed7-8c659ab7', '264b9ed7-c296f864', '264b9ed7-d5ebcb72', '264b9ed7-ee9968b7', '2651c1a9-5d49d636', '265585e1-e3e9cefe', '265a06e8-7fd61378', '265a7435-1d979471', '265cfca9-500ae06c', '265eb1d9-244b50f4', '265eb1d9-3433a1ef', '265eb1d9-96d40947', '265eb1d9-dbc90e45', '265eb1d9-e12c32bb', '2660dad1-c4a4c7a1', '2660dad1-e17cd603', '2663d303-3962a184', '2669dd16-d15b9661', '266f06a8-90a06bac', '26715c9e-282d051e', '2672161a-622a1708', '2672161a-ce24bd78', '26747328-3f191796', '26747328-a3cb89fc', '26747328-fd44a454', '26750c68-88700906', '26750c68-cfebde63', '2677613c-c30d0b20', '2677613c-c810cdf9', '2677613c-d758da07', '267aa141-2e47e13b', '267bb761-b3b8641e', '2680a7e8-fbefb560', '2688b1d9-2a708f84', '2688b1d9-f3dfd7aa', '268adafe-b809256c', '268d2a67-50fe4fe3', '268d2a67-59a30105', '268d2a67-8429a9c1', '26998cee-07ee1d69', '26998cee-087779e4', '26998cee-c0b8fdab', '269aaa43-344fcf10', '26aba080-8a0053d1', '26aba080-b1121786', '26ac0431-5f60e3d0', '26ac4dfd-598e7321', '26ac4dfd-ba9a1d75', '26d7b7d9-9a8bf48c', '26d7b7d9-a34c741a', '26d87702-1f80f1fb', '26da3185-54dbe26a', '26e0c17e-7b7dc764', '26e0c17e-fce0fc81', '26e77b38-98ab4cf4', '26ec3747-3b97e634', '26ec3747-db31d701', '26ed798f-29b663c7', '26ed798f-cee8760f', '26ed798f-d636e271', '26ed798f-e07dd4b6', '26fafbba-1c233842', '26fafbba-83d9b4f7', '26fafbba-e0476750', '26fd9858-69424e40', '26fd9858-b7cc2b3e', '2702df1f-faf5516e', '27061779-53608022', '27064832-9e239c22', '27114f20-e3961a63', '27132266-73575a3f', '2716601a-72356d9c', '2717b146-1e607a26', '271b4ca8-34fa7290', '271b4ca8-35114a44', '271b4ca8-538a12ef', '271b4ca8-ed692197', '2723d04f-f442fac1', '27248c22-864dc631', '27248c22-e5f136f9', '2725220a-6a534151', '2726dcc0-5a4f7f62', '2726dcc0-8ee7ed44', '2726dcc0-afe2a0f6', '27335d48-da29bd29', '273c8449-9933c8ea', '273c8449-d39c799a', '273e77b9-8f26831c', '2740033b-36065520', '27404b0a-3b701475', '2742e632-6917e95e', '2742e632-dd7bbd6e', '2746750b-a9569de8', '274a1a2e-4e4befd0', '274a1a2e-6da63a88', '2754e8ae-b785b65d', '2754e8ae-c26bf0d3', '27555029-5148a160', '2756268d-a374ced3', '27564089-70bacbb8', '2758598b-1c25deb8', '2758e668-6eb1154f', '276070ef-94424e5a', '27617ad7-dc3ecad5', '27641a1f-712b17b0', '2764a2ce-c065d27f', '276ae1dc-fb2d5597', '276fe291-986d313d', '27724df3-f34ab3d8', '2778a387-420de3e6', '2778a387-c977f0ce', '2778a387-cb297866', '2778a387-fe920042', '277a96aa-c31bb6b1', '277a96aa-da6e64cf', '277dac8b-bbeb3d3b', '277dfa8d-9c4e130e', '277ff2e0-1289efb7', '277ff2e0-172d190b', '277ff2e0-7e7e3e0d', '277ff2e0-b8cb6da2', '277ff2e0-c9a6d71a', '277ff45b-6511f2c0', '277ff45b-c782af27', '27823709-29c28108', '278f36fe-bba535fa', '278f9663-22899755', '278f9663-2e4785ea', '278f9663-4f302720', '278f9663-acfc2bf1', '279227e9-a4a36671', '279b1efd-11ad8c61', '279fa850-5f1f5bd9', '27ad042c-62e782ba', '27ad042c-a711f070', '27ad042c-c1690119', '27ad042c-c4aad26a', '27b25726-964a9e8e', '27bda88f-759ff2ff', '27c0e9a0-d9ba9e98', '27d1c1d5-6b921add', '27d1c1d5-6f90723e', '27d7087a-07ac3356', '27e596f8-c8ba42fd', '27f4eeca-94b287b7', '27f54809-1a93f188', '27f54809-e9b51211', '27f8d66f-8ca03000', '27f9bfd3-00f19c7d', '280aa239-b6133655', '280ca283-6ba9c141', '2814e8bd-3dd09f09', '2814ffe0-83e2d4e3', '281517cc-6d0d1c8c', '2824cb5e-ab36aebb', '282df40a-c928713e', '282f55fa-491a3503', '282f55fa-655317bf', '282f55fa-c26d87e2', '282f55fa-fbb22d00', '2832a6cc-e5801e06', '283310a2-4e7bf4d2', '283e5d7b-1d091f63', '284438e5-5d375ff2', '284438e5-6974e565', '2844febf-972732f0', '2844febf-986cabdb', '284c1af7-05af4f0c', '284c1af7-21dd46a7', '2856c36e-1865f061', '2869ba61-3c03b87b', '2869ba61-595ffff8', '2869ba61-630f924f', '287f0137-d1a05465', '28880bab-19176c55', '288874ba-087b5f10', '28c133b2-2f8cc010', '2a014c4d-de111947', '2a1343ce-d96023f5', '2a37a9f8-809ccb5e', '2b03d428-2e61a6e9', '2b03d428-579c4b6e', '2b03d428-8abaa40f', '2b03d428-9260f848', '2b03d428-ade3e5b0', '2b09b738-e5700870', '2b0ca964-a24ddc07', '2b0cf575-3d4fa0c8', '2b0cf575-9d9cff53', '2b0cf575-b5684017', '2b0f23a6-6273f980', '2b12d84a-05f51e3d', '2b12d84a-07fc8455', '2b12d84a-346daae9', '2b217f9f-524ba336', '2b217f9f-6df9befc', '2b27e010-854f91b9', '2b27e010-ed36297a', '2b2a2daa-377240d6', '2b2b3dd3-d3f144cc', '2b300a56-61cec322', '2b300a56-b26066ff', '2b3f8d96-fce441ec', '2b409d61-528d1175', '2b43149a-ca946de2', '2b45b11d-af6290fb', '2b46c270-27e6b403', '2b46c270-3cda5889', '2b4e9dac-43d13804', '2b50e905-13af3442', '2b54febe-8fc60534', '2b65e5fb-97a30d26', '2b70adcf-ac09d786', '2b7781fe-0ce4d612', '2b7781fe-df0345f6', '2b7d9ca3-a7a8ff4a', '2b7ed155-b9fc6ae3', '2b7fdb8d-559bce15', '2b82651f-ae4877d2', '2b8db53b-2d8cc323', '2b8dfc47-9a802e7a', '2b906f75-cc59ed5d', '2b906f75-e47ff2b7', '2b923350-391b3f53', '2b923350-91652f99', '2b923350-b5953558', '2b923350-eabcf8f0', '2b923350-eac5f098', '2b9a743c-6d4f1902', '2b9b8d94-2bc3f1c4', '2b9b8d94-b520676c', '2b9f1b5d-87cdfaef', '2ba01e9e-76b4261f', '2ba3a151-0a418853', '2bb6427e-d5ad3e28', '2bb6dfcc-00919cc3', '2bbe0227-0f2bf155', '2bbe0227-25b995da', '2bbe0227-363257e5', '2bbe0227-5ddc1995', '2bc22827-3ed3acf6', '2bc9f34f-c8cbffdb', '2bc9f34f-fa3affa7', '2bce70c2-ce47ed14', '2bcee48a-dd34fe1f', '2bd3413f-1203f67c', '2bdbba62-3fb6e68f', '2bdbba62-88947e2a', '2bdc0700-63fbb2c5', '2bdcb20c-3e6ad5bc', '2be6a567-c8f5ee4f', '2bed5fb3-75158889', '2bedfdc9-7819b99b', '2bef27f1-fee211c0', '2bf04dac-3c08690c', '2bf20261-03c24bba', '2c02054a-00e4248d', '2c02054a-4bbc2225', '2c02054a-ac6e6057', '2c0217be-7fd86560', '2c150d4d-25ed0e8b', '2c150d4d-6e8ca6a4', '2c17ed70-4fbacaa1', '2c17ed70-9573fdf2', '2c17ed70-bc7c78e6', '2c17ed70-db6057e0', '2c1c4f1d-066df39c', '2c22175e-09e5b22a', '2c2a7f3b-441f8e14', '2c2e7faa-2df9c91c', '2c3a6e7a-27e8e980', '2c3ba530-102c6646', '2c453889-0843e974', '2c4dd3b4-362489e6', '2c530ea7-dac68526', '2c5b1001-cfb01bf9', '2c5b1001-f9a5381e', '2c66430a-0a939d65', '2c66430a-0f86c147', '1e6a6965-0833ba9c', '1e6a6965-d2b83e0f', '1e7af489-5b17e3f3', '1e7b5f2c-078b034f', '1e7f04ef-5f8de9e6', '1e82c7e7-62207349', '1ecebfa3-e71e23a5', '1ed41cf2-1d23d84c', '1ed41cf2-efe2279c', '1eef3e68-4cf9b6dd', '1eef3e68-ff3e7860', '1ef337f9-0528ec69', '1f0176e4-3225a196', '1f05977e-fe27dd66', '1f0fff77-a50aae97', '1f13b7b2-e98c7699', '1f1550e9-e0666702', '1f225b07-91132e43', '1f3b0f35-5e76c00d', '1f3c30a4-445324df', '1f44d8f2-eb861560', '1f4bbfc7-b8401819', '1f607426-ec1d8e2e', '1f621be0-10c21b1a', '1f621be0-5b90451f', '1f693cf9-b3c730a4', '1f693cf9-ef7a83ca', '1f6c987d-ce5ff64f', '1f7348d3-2f73f0e5', '1f7ba5ab-07f0c56b', '1f7ba5ab-0dc7d358', '1f7ba5ab-1709d210', '1fe39b85-c32ca4d2', '2058616e-e51d450f', '20652cf8-bd6d23f4', '2086d438-2a8c7ff5', '20b3b81c-0ae81a55', '20d8c6ad-c54f42da', '20ed775f-64765cf5', '2100be1f-dca758e9', '211f49a8-0e608d62', '2144d0c7-1db0ba69', '215cac43-c168137f', '216a58a9-557048a5', '2173474d-ca86b6fc', '21738eae-c06eb7cb', '21738eae-d4916a78', '21863cf3-00945fde', '21c70c25-d8c1ee6a', '21e9efcf-e446fcb8', '21fd3bf5-ec10413a', '21fd3bf5-f4148a5e', '22222d41-61e095d1', '22442774-d4e52b18', '2272b934-8bf17e56', '227c4a9a-0ac7f7dc', '228b52e1-63fd6575', '22c302a8-3ae18015', '22c302a8-58e15d69', '22c302a8-762c0aef', '22f8a518-4def1c34', '23139353-26ec1852', '2322fabb-2b37de83', '236c6a42-02d13b7d', '23771c61-5812334d', '238f270f-181276de', '238f270f-d29c4ac4', '239471e5-2431dd3d', '2399af50-467313da', '23a9d660-38ebece0', '23baaec2-a78f598c', '23cad868-e538e638', '23cf051c-23d75baa', '2401230f-48dac0df', '2414d34d-02bfd1a3', '241e8319-4ca76d61', '243a8597-bb61d2b9', '2448901d-b1b6bec8', '245ddac9-eaf7f6c3', '245ddac9-fd6a7714', '24664150-193759cb', '2475f1bd-2c2ad28d', '24d0c95f-365745f8', '24f43441-d9d62b52', '252e5126-5576fff3', '2551c2e6-b1fef99d', '2552b605-9a6d255d', '2564bfee-d7aa891a', '258cd6bd-aa96ddc1', '259d871b-977c3792', '259d871b-e8995b85', '259dcb67-d46bf8b8', '25a0f845-ce9d1010', '25b4a46c-e040820a', '25b8c94a-edf39693', '25c4e089-94437326', '25c4e089-e1d5b931', '25c6e695-ac5bc085', '25cf0294-4150a6fd', '25d05370-9b65a9be', '25de13cc-b1dd51da', '25e007b4-dddbb2a4', '25f18204-ecfa1066', '25f18204-f7e2a166', '25f414f7-66a9588a', '25ff9422-84463d87', '26088906-6cf6924f', '2608be79-728c7966', '2608e087-556934ab', '260b97bb-19930135', '2612d649-682ecb7c', '261612e8-d8ffa987', '263c60f5-d63bc8d3', '263e7091-1f5e63cf', '264b9ed7-0b1d0395', '264b9ed7-134c6ded', '264b9ed7-358bb41a', '264b9ed7-7663a087', '264b9ed7-802ae922', '264b9ed7-a302614c', '264b9ed7-d54ec9cb', '264b9ed7-e52d06fe', '2670eb88-251feff1', '2672161a-077d73c9', '26750c68-655e2c56', '26750c68-e94e2d8c', '26aba080-04d79638', '26ac4dfd-4a62e0bf', '26d7b7d9-4a818077', '26da3185-89614780', '26db50de-3633468e', '26e95486-9b5788fa', '26f50d6a-ed0c45fa', '26f9c1d8-96fdd017', '2702df1f-789dda5b', '270a6b47-a44ebcba', '27114f20-b978add1', '27132266-faf5f7cc', '2717b146-7a2dc7a0', '27234511-24b0e1d8', '27239812-35cd6df5', '2723d04f-f0aa02d6', '27248c22-0ae0f14d', '27248c22-a748e30f', '2732a30a-9f73e21b', '273e77b9-6a5f363c', '2740c139-838de60f', '27476310-24efa033', '275371d9-0b1299a6', '2758598b-e2ca8fa1', '276070ef-01ae3503', '276070ef-4802f434', '2764a2ce-d2cdc288', '276ffed2-598cd603', '277dac8b-4cb89cdf', '277dfa8d-092888f3', '277e9400-58ae6030', '277ff2e0-99d97d47', '277ff45b-87d8ba4c', '27823709-7fce2250', '278f9663-033c4bae', '278f9663-22da5299', '278f9663-5ae2c1e9', '278f9663-7aeb80ff', '278f9663-8e282b51', '278f9663-d45f0a16', '278f9663-fc049458', '2793cd68-5d28d9cd', '27944a6b-bb0c56d6', '279b1efd-4582d0ee', '27a4125e-8f7758e0', '27a8eb8c-220102e8', '27b3b7a0-3a99bb5f', '27b3b7a0-6f4a26e7', '27b3b7a0-7586c958', '27b4ec10-4156e86e', '27b4ec10-92442133', '27c0e9a0-0898ecfa', '27d1c1d5-3e5403f9', '27d1c1d5-e29f6492', '27d9f7b9-140dc347', '27e596f8-cfb62f20', '27e8cc5a-99a1c069', '27f77fa8-33bacff7', '27f8546b-1192c47d', '27f8d66f-7930a0f0', '27f8d66f-c002e64a', '280aa239-3757cacb', '280aa239-d8e9f994', '280aa239-f0c7bfa0', '28144f4a-b69dd83a', '2814e8bd-c1af5f11', '2819281f-a885c233', '281a8cc4-89b5ca4a', '282550f6-dbf30f7d', '2828397d-20f2a098', '282d3253-67733ea7', '282f55fa-59a67014', '282f55fa-5fd561d1', '2832a6cc-6fc2d3bd', '2832a6cc-c0ba104a', '283dcfc4-09f87e07', '284438e5-12e19eaf', '284438e5-1f49e7c9', '284438e5-68e879e4', '284438e5-a2177cab', '284438e5-fff83c09', '284c1af7-5fa86022', '284c1af7-8df2e812', '284c1af7-8e15c228', '2859a7b4-601ca258', '2859c238-fd783492', '285abfee-154c9223', '285abfee-ac51139f', '285e05af-7c8d9569', '285e05af-fbb2a305', '2869ba61-e852e3c7', '286e41a8-48b34aba', '2871fb39-1194898a', '2871fb39-30ad5032', '2871fb39-32eb06c7', '2877ad3a-b2db09fb', '2877ad3a-ec950498', '2877ad3a-efa8df5f', '287a82cf-2d6456fd', '287a82cf-4a64c398', '287a82cf-cf376f4a', '287f0137-436e646f', '2880759b-6e1fd5e0', '288874ba-568faa6f', '288874ba-d525a879', '2889953e-4fc2d6e4', '288ef68d-208fa56d', '288ef68d-6915c0c7', '288fd0fe-11b2621e', '288fd0fe-ce65508c', '2890344b-4377e24b', '28919ce9-99ce3426', '28948a8f-359d87d4', '28948a8f-520e3ea0', '28948a8f-71a7b958', '28948a8f-dfbe9b69', '2895b5bc-16c48fdf', '2895b5bc-249964c6', '2895b5bc-3610efd7', '2895b5bc-49bb4c73', '2895b5bc-7703556f', '2895b5bc-7d0638a5', '289af74b-1eef0d4a', '289af74b-f2c8a214', '289bd2f1-910c9a7d', '289bd2f1-a24d2558', '289c48a3-1b2c75f5', '28a01c93-6b334ba7', '28ae6b92-37850305', '28b10b05-cd28b19b', '28c133b2-03f44247', '28c1f464-7171004a', '28c8409d-666d3f60', '28c8d963-92ffd390', '28cae318-d26cc319', '28cb158d-9d5d7aa2', '28d8a35e-0fb6220b', '28d9c749-3c19fdfc', '28d9c749-a37d272d', '28d9c749-e2881201', '28d9ffe4-302e6d65', '28d9ffe4-307c8883', '28d9ffe4-b4a5f1fd', '28da5446-3383f4f5', '28dbc980-727113e8', '28dbc980-86029e53', '28dbc980-a186da44', '28dbc980-b62814fc', '28dbc980-b9d597fa', '28dbc980-c78cab94', '28dbc980-d60627ec', '28e362ca-0f10a8ef', '28e362ca-584a0297', '28e362ca-8dd280df', '28e362ca-c1aab59a', '28e362ca-eec8227f', '28e4c2b6-b705f7f3', '28eec171-92d64b25', '28eec171-b923d19c', '28eec171-c33c9205', '28f04d20-7c67c326', '28f04d20-7f96eda7', '28f2edd3-243cdc75', '28f2edd3-68cd3a10', '28f2edd3-c7b42c3d', '28febd4d-04517b7c', '28fee1cd-e6e03af9', '2903b6c3-f7f5cd55', '290468ad-1742799a', '290468ad-291a2c21', '290468ad-44183102', '290468ad-952ba1a1', '290468ad-b66a4a8b', '290468ad-b90594ba', '29053385-30e3138f', '2907f0ab-0d3abe3a', '290a3892-b5782d92', '290f2794-200d9da2', '290f3412-c1102bdb', '2912a02e-5e3fef92', '2912a02e-6091f7d3', '2912a02e-e5b1a6ad', '2912a02e-e9bd32f4', '2912bfbc-67db449e', '2913a78f-732af5d4', '2915f6bd-a7981a88', '2920dda7-346c489a', '2920dda7-624b8e1d', '29216ff8-60dc0a01', '2924e421-6046b7e6', '2928d862-0c83725e', '2928d862-0d3fd976', '2928d862-64225fdb', '2928d862-afd3b6f8', '2928d862-dcd0486a', '29376004-b5dc2acd', '2938b429-79354be6', '293f43ce-6559c4ba', '2943d2df-55387e82', '2943d2df-c29cad0d', '29447299-0872b0e7', '29447299-10e93667', '29447299-15ce73fc', '29447299-580bddf8', '29447299-6776458a', '29447299-c7f56181', '29447299-c8c9eb0f', '29447299-d8bb4b4f', '29459f46-aef26c7a', '294918ff-c82ce31b', '294bd1dc-e7666aed', '294e7d71-cc7a80c2', '2950f44e-845b8210', '2951b7e7-d563495e', '29557e1b-89165078', '2955f187-37742a2e', '29589b34-0a366f1a', '29589b34-3a0e4c62', '29589b34-48b14982', '29594747-ed104fb5', '295dbb64-b0cc5380', '295f96ef-40ecb0f0', '29600244-7cf25648', '29600244-8a692002', '29600244-f90d5e5e', '2966830f-19d6521b', '2966830f-a6a1fef0', '296d4d82-5fc84e84', '29788cb0-e5779111', '297bc4ec-d33d2b7d', '2981be02-1763fdbd', '2986b9db-3fc6bc34', '2986b9db-47c66794', '2986b9db-8850063e', '2986b9db-b580d01a', '2986b9db-c22468ca', '29892cbc-aeeaba17', '298b272b-77a4fc82', '298b272b-d56f6502', '298e56e2-e9d40dbe', '299496d1-158270a6', '29a4be29-6c78bc33', '29a6a14c-0b6b18dd', '29a6a14c-32a2f260', '29a6a14c-5a208eb3', '29a6a14c-6ab8e4c7', '29a6a14c-8b3392f1', '29a6a14c-aefc8638', '29a6a14c-c6405916', '29a6a14c-e6a07faa', '29ae5f56-d95c6d91', '29ae5f56-fbf6aa17', '29ae5f56-fd3d02cd', '29aefc0d-1093a3f5', '29aefc0d-c01072c1', '29aefc0d-dd533036', '29b1cb44-16a50a76', '29b1cb44-d43ad1d2', '29b1cb44-e64869e2', '29b1cb44-eef3a93e', '29b6a36b-3ef7db23', '29b6a36b-89b15565', '29cb4de0-4d35e897', '29cbad85-45efefbd', '29cf5709-ab9c6e54', '29cf5709-cf76b552', '29cf5709-eae9141e', '29cf5709-ec3376de', '29d28b68-bc4f2235', '29d28b68-eea243b1', '29da0a66-4ee959c4', '29da0a66-be26abfa', '29e18b45-d5d841cb', '29e869fc-621b4c79', '29eb071f-05c4c966', '29ed1a7e-97fecc76', '29ed4d51-4a357f8f', '29ee68d5-eac38887', '29f0dfa7-454c896f', '29f27e14-50519438', '29f27e14-5d7a5c95', '29f27e14-60a87a96', '29f27e14-692415e5', '29f78f69-49d8831d', '29f8562d-b6a51c75', '29fa033a-048a13d0', '29feb9ac-70ab4833', '29feb9ac-9b0c2196', '29feb9ac-f2e89517', '2a011796-53e8358f', '2a011796-d2ea0ed0', '2a014c4d-6e86a979', '2a014c4d-6eb4e32b', '2a014c4d-73c8745c', '2a02db81-581e1c04', '2a051b12-370d9ac6', '2a051b12-61cefb6a', '2a051b12-79bb0453', '2a051b12-8008b4de', '2a051b12-a7404163', '2a051b12-cca63af9', '2a069a03-19a5c809', '2a069a03-ad4a9968', '2a069a03-c559c16e', '2a0b0ab3-a0798ab1', '2a116f00-5007bd68', '2a1306bc-2fd90932', '2a1306bc-71ec8afd', '2a1306bc-f6a81652', '2a1343ce-8cbb4566', '2a1343ce-da595ab5', '2a18c836-77979626', '2a1e1100-7515a5fc', '2a1e1100-9dd1e103', '2a1e1100-b0b2eb0a', '2a24da3e-8470c00a', '2a29eca8-0589e11c', '2a322002-e5837bf7', '2a37a9f8-8d0ca525', '2a37a9f8-d26c1997', '2a37a9f8-e1fc0164', '2a3e1798-40b989cc', '2a43d42b-29735732', '2a43d42b-d71f4b38', '2a472b31-8df41037', '2a472b31-a1c33160', '2a484e03-14820281', '2a484e03-1f8f73f9', '2a484e03-3e27ad1d', '2a484e03-be7802e1', '2a484e03-d14fd82b', '2a48599d-5f20026b', '2a48599d-6c40f7dc', '2a4df390-44181ef9', '2a531b99-1ca190bd', '2a531b99-981700c1', '2a531b99-d23cbe83', '2a531b99-f1e392ff', '2a531b99-f8b46794', '2a5426eb-09f02704', '2a5426eb-33264f72', '2a5426eb-389301c7', '2a5426eb-50d2d5bd', '2a5426eb-5a3c575f', '2a5426eb-a79e0360', '2a5426eb-c02f5e68', '2a5426eb-e0e14e84', '2a5426eb-f3bb20d1', '2a54b3d9-4f3729c7', '2a554470-c314a903', '2a554470-ebe69860', '2a5faae7-4653836a', '2a656a7b-3f43627e', '2a656a7b-715d48fb', '2a656a7b-d576e409', '2a656a7b-e49e65a3', '2a664d12-0aa9b43f', '2a664d12-2e2ba3ff', '2a664d12-2e5a017a', '2a664d12-3d8979ba', '2a664d12-86aea2a2', '2a664d12-8e2a175b', '2a664d12-9c586777', '2a664d12-a6408358', '2a664d12-de1b1006', '2a668ad9-e350c39e', '2a67c3ce-467963a7', '2a67c3ce-5dfdcc64', '2a67c3ce-6609c857', '2a67c3ce-74175724', '2a6ad131-9564554e', '2a724505-8cb1783f', '2a724505-e2bc0f3c', '2a74b9ed-08246257', '2a74b9ed-98b5f91e', '2a762aa1-f7147908', '2a76dd2f-11a1ecce', '2a76dd2f-c873a00a', '2a7a4866-18b0208f', '2a7a4866-1e19484c', '2a7a4866-2b4c843f', '2a7a4866-312f5aa2', '2a7a4866-3e63abf3', '2a7a4866-5635051f', '2a7a4866-70517e18', '2a7a4866-8b0e443f', '2a7a4866-9200460f', '2a7a4866-9ec7230d', '2a7a4866-d589b536', '2a7a4866-e4fc4da7', '2a7a4866-eff039e4', '2a7a4866-f96c78e5', '2a7a4866-fec3ee73', '2a7d9875-55eeae72', '2a7d9875-89b0518d', '2a81f1f3-e53795a3', '2a81f1f3-f0325355', '2a82a0af-a9fc7950', '2a82a0af-ed40b58f', '2a83318f-527886df', '2a83318f-b9c8a4a8', '2a83a999-8848a4f9', '2a857225-cb7dac35', '2a8b147f-40a93a22', '2a9154da-9f3769b5', '2a9154da-f88a08d1', '2a9154da-fc04ed8a', '2a98dfd3-10e113ee', '2a98dfd3-7e1fb15f', '2a9af7d8-6373df6d', '2a9db941-4337f9c9', '2a9db941-ef5657d1', '2a9ec7b0-1ee51987', '2a9ec7b0-a744a0a9', '2aa96687-30998843', '2aab67b1-a6854208', '2aab67b1-ccaa7424', '2ab1684b-cee403ef', '2ab2f4ce-3fb43b06', '2ab2f4ce-5dc50f61', '2ab2f4ce-df73386a', '2ab2f4ce-f27276ed', '2aba285e-296355c8', '2acfcd8d-15cfe91a', '2acfcd8d-43648c51', '2acfcd8d-889ace3f', '2acfcd8d-8fc71939', '2acfcd8d-964fb4e9', '2acfcd8d-c7786f56', '2acfcd8d-e11839d0', '2ad035f4-2ca3d7d7', '2ad035f4-bce26a01', '2ad035f4-cd94277d', '2ad035f4-ce3be4f4', '2ad035f4-d0414827', '2ad07cba-3299404f', '2ad1aa4b-200ac24b', '2ad1aa4b-296d52e4', '2ad1aa4b-603aad12', '2ad1aa4b-6f70ba50', '2ad1aa4b-9852e784', '2ad1aa4b-a7d75564', '2ad1aa4b-c18b1632', '2ad1aa4b-c222cefe', '2ad44c7f-8ec73ca7', '2ad56ec4-69b4c207', '2ad8324d-15b001ea', '2ad8324d-3993e716', '2ad8324d-615a893e', '2ad8324d-7ca116b6', '2ad8324d-d16953f6', '2adb9454-d414c40b', '2ade998c-e4b648f6', '2ae2f166-b6694292', '2ae514af-612afd6f', '2ae514af-7814ddd5', '2ae514af-e768c28a', '2ae714ac-5e710c05', '2ae714ac-ba0e3e66', '2ae721d0-141b262d', '2ae721d0-635a81e8', '2ae721d0-e4cacc1a', '2aecc356-a34c9317', '2aecc356-eddcf69c', '2aee5704-8fdfa65e', '2aee5704-b26f1daf', '2aee5704-baf98720', '2aee5704-e92ecbb6', '2aee5704-f092c6fd', '2aee5704-ff5583ce', '2af0dba0-f21d87a5', '2af42569-eb0bceb8', '2af4dcc0-5d5d8b05', '2af4dcc0-79f3eb02', '2af548b0-71ed6ba6', '2af548b0-be17b5a4', '2af58da3-51971d9b', '2af58da3-c04e01b3', '2af97f87-8c57e16a', '2afb9593-ac89f408', '2afb9593-eba6bed6', '2afb9593-f66342dc', '2afddd2b-056416ef', '2afddd2b-62af2019', '2afddd2b-e46076b1', '2afddd2b-f109960b', '2afddd2b-f636e99f', '2b019754-a613b0b7', '2b03d428-0361a1ac', '2b03d428-c8d39138', '2b0ca964-08960725', '2b0cf575-05526b72', '2b12d84a-058e9c44', '2b2046a4-08bc284d', '2b217f9f-82d8dc9e', '2b217f9f-ec3a4a64', '2b2a2daa-cae7e730', '2b2dfc79-eb1be6d1', '2b337ace-f07eaa52', '2b39cdee-596e0888', '2b409d61-f908471a', '2b46c270-e962e1a1', '2b49f216-6e8b074c', '2b50e905-7d6f54db', '2b55632c-1912a258', '2b590735-a3bf6ea0', '2b5c6612-37569d17', '2b6767ac-0ba85ddc', '2b7d9ca3-e7c0e128', '2b7ed155-fd41a921', '2b88689a-beeed2ba', '2b88689a-e3cc05d9', '2b923350-24ae0792', '2b923350-31648fda', '2b923350-c22307af', '2b923350-d824c179', '2b9a743c-f8813b2d', '2ba01e9e-aea34645', '2ba02eed-a272ffd7', '2ba3a151-235bb983', '2ba792cc-e8561884', '2bb87210-1230f793', '2bba8054-8894be38', '2bbe0227-4d490a4d', '2bbe0227-63906001', '2bbe0227-6ecc9236', '2bbe0227-ea364de2', '2bcdafa3-0013d653', '2bcdc1d4-582563fc', '2bcdc1d4-60a79645', '2bce70c2-a034e870', '2bd0c559-1fdcccb9', '2bd0c559-a4d6a1ab', '2bdbba62-15245100', '2bdbba62-a1fd65a8', '2bdbba62-e044a485', '2bddb06c-24c4cf21', '2bddb06c-3ce049d3', '2bed5fb3-76467d2a', '2bedfdc9-1b3eb71e', '2bedfdc9-d7a3609a', '2bedfdc9-daac418b', '2bedfdc9-efe2f9e2', '2bef27f1-19e8c33e', '2bf04dac-cc27c0e8', '2bf04dac-ed80a53d', '2bf43ae4-574424a8', '2bf43ae4-abec45f5', '2bf43ae4-f9789c3c', '2bf57687-c877ae7a', '2c02054a-1a6c2d84', '2c02054a-1dc1e70f', '2c02054a-335e4de5', '2c02054a-465a0499', '2c02054a-48f91f63', '2c02054a-65126d9c', '2c02054a-e5b84dee', '2c0217be-31baadc9', '2c0217be-df1441bf', '2c0217be-e23b7951', '2c0e6c80-87404f1c', '2c164775-ad9c3011', '2c17beb6-9a45283e', '2c17ed70-18166a30', '2c17ed70-b79bc59d', '2c17ed70-e9470c6d', '2c17ed70-f31f472c', '2c17ed70-f6154899', '2c1c4f1d-b7916b3b', '2c2a7f3b-25f96f3a', '2c2b8827-fa372af1', '2c2d69f3-516ece11', '2c2d7d08-516eb709', '2c2e7faa-9b2bd727', '2c3171e6-4217ab81', '2c3ba530-6d18d631', '2c3ba530-ea270e63', '2c3ba530-eb00441f', '2c406122-12bc517c', '2c43c68a-6769571b', '2c453889-1be27fcd', '2c4fb28e-091459b9', '2c50f406-61e19dc8', '2c530ea7-4541f721', '2c6484bb-396e2db8', '2c6484bb-5396d8e2', '2c6484bb-8e0c070c', '2c66430a-0dfc3a40', '2c66430a-89ec2305']\n"
          ],
          "name": "stdout"
        }
      ]
    },
    {
      "cell_type": "code",
      "metadata": {
        "id": "pC_xo4OO6kr6",
        "colab": {
          "base_uri": "https://localhost:8080/",
          "height": 1000
        },
        "outputId": "7d091b3f-703d-49b1-8a24-c1d6c9e5f552"
      },
      "source": [
        "bddx"
      ],
      "execution_count": null,
      "outputs": [
        {
          "output_type": "execute_result",
          "data": {
            "text/html": [
              "<div>\n",
              "<style scoped>\n",
              "    .dataframe tbody tr th:only-of-type {\n",
              "        vertical-align: middle;\n",
              "    }\n",
              "\n",
              "    .dataframe tbody tr th {\n",
              "        vertical-align: top;\n",
              "    }\n",
              "\n",
              "    .dataframe thead th {\n",
              "        text-align: right;\n",
              "    }\n",
              "</style>\n",
              "<table border=\"1\" class=\"dataframe\">\n",
              "  <thead>\n",
              "    <tr style=\"text-align: right;\">\n",
              "      <th></th>\n",
              "      <th>InputVideo</th>\n",
              "      <th>1AJ</th>\n",
              "      <th>2AJ</th>\n",
              "      <th>3AJ</th>\n",
              "      <th>4AJ</th>\n",
              "      <th>5AJ</th>\n",
              "      <th>6AJ</th>\n",
              "      <th>7AJ</th>\n",
              "      <th>8AJ</th>\n",
              "      <th>9AJ</th>\n",
              "      <th>10AJ</th>\n",
              "      <th>11AJ</th>\n",
              "      <th>12AJ</th>\n",
              "      <th>13AJ</th>\n",
              "      <th>14AJ</th>\n",
              "      <th>15AJ</th>\n",
              "      <th>BDDX-ids</th>\n",
              "    </tr>\n",
              "  </thead>\n",
              "  <tbody>\n",
              "    <tr>\n",
              "      <th>1</th>\n",
              "      <td>https://s3-us-west-2.amazonaws.com/sq8geewpqu/...</td>\n",
              "      <td>The car accelerates because the light has turn...</td>\n",
              "      <td>NaN</td>\n",
              "      <td>NaN</td>\n",
              "      <td>NaN</td>\n",
              "      <td>NaN</td>\n",
              "      <td>NaN</td>\n",
              "      <td>NaN</td>\n",
              "      <td>NaN</td>\n",
              "      <td>NaN</td>\n",
              "      <td>NaN</td>\n",
              "      <td>NaN</td>\n",
              "      <td>NaN</td>\n",
              "      <td>NaN</td>\n",
              "      <td>NaN</td>\n",
              "      <td></td>\n",
              "      <td>06d501fd-a9ffc960</td>\n",
              "    </tr>\n",
              "    <tr>\n",
              "      <th>2</th>\n",
              "      <td>https://s3-us-west-2.amazonaws.com/sq8geewpqu/...</td>\n",
              "      <td>The car is stopped. The car is at an intersect...</td>\n",
              "      <td>NaN</td>\n",
              "      <td>NaN</td>\n",
              "      <td>NaN</td>\n",
              "      <td>NaN</td>\n",
              "      <td>NaN</td>\n",
              "      <td>NaN</td>\n",
              "      <td>NaN</td>\n",
              "      <td>NaN</td>\n",
              "      <td>NaN</td>\n",
              "      <td>NaN</td>\n",
              "      <td>NaN</td>\n",
              "      <td>NaN</td>\n",
              "      <td>NaN</td>\n",
              "      <td></td>\n",
              "      <td>01b0505f-5f564e84</td>\n",
              "    </tr>\n",
              "    <tr>\n",
              "      <th>3</th>\n",
              "      <td>https://s3-us-west-2.amazonaws.com/sq8geewpqu/...</td>\n",
              "      <td>The car accelerates slowly to a maintained spe...</td>\n",
              "      <td>NaN</td>\n",
              "      <td>NaN</td>\n",
              "      <td>NaN</td>\n",
              "      <td>NaN</td>\n",
              "      <td>NaN</td>\n",
              "      <td>NaN</td>\n",
              "      <td>NaN</td>\n",
              "      <td>NaN</td>\n",
              "      <td>NaN</td>\n",
              "      <td>NaN</td>\n",
              "      <td>NaN</td>\n",
              "      <td>NaN</td>\n",
              "      <td>NaN</td>\n",
              "      <td></td>\n",
              "      <td>06d501fd-fd237e38</td>\n",
              "    </tr>\n",
              "    <tr>\n",
              "      <th>4</th>\n",
              "      <td>https://s3-us-west-2.amazonaws.com/sq8geewpqu/...</td>\n",
              "      <td>NaN</td>\n",
              "      <td>NaN</td>\n",
              "      <td>NaN</td>\n",
              "      <td>NaN</td>\n",
              "      <td>NaN</td>\n",
              "      <td>NaN</td>\n",
              "      <td>NaN</td>\n",
              "      <td>NaN</td>\n",
              "      <td>NaN</td>\n",
              "      <td>NaN</td>\n",
              "      <td>NaN</td>\n",
              "      <td>NaN</td>\n",
              "      <td>NaN</td>\n",
              "      <td>NaN</td>\n",
              "      <td></td>\n",
              "      <td>06d54ae6-26a3446e</td>\n",
              "    </tr>\n",
              "    <tr>\n",
              "      <th>5</th>\n",
              "      <td>https://s3-us-west-2.amazonaws.com/sq8geewpqu/...</td>\n",
              "      <td>The car is stopped because the light is red.</td>\n",
              "      <td>NaN</td>\n",
              "      <td>NaN</td>\n",
              "      <td>NaN</td>\n",
              "      <td>NaN</td>\n",
              "      <td>NaN</td>\n",
              "      <td>NaN</td>\n",
              "      <td>NaN</td>\n",
              "      <td>NaN</td>\n",
              "      <td>NaN</td>\n",
              "      <td>NaN</td>\n",
              "      <td>NaN</td>\n",
              "      <td>NaN</td>\n",
              "      <td>NaN</td>\n",
              "      <td></td>\n",
              "      <td>01b4e4b9-e21fe0a3</td>\n",
              "    </tr>\n",
              "    <tr>\n",
              "      <th>...</th>\n",
              "      <td>...</td>\n",
              "      <td>...</td>\n",
              "      <td>...</td>\n",
              "      <td>...</td>\n",
              "      <td>...</td>\n",
              "      <td>...</td>\n",
              "      <td>...</td>\n",
              "      <td>...</td>\n",
              "      <td>...</td>\n",
              "      <td>...</td>\n",
              "      <td>...</td>\n",
              "      <td>...</td>\n",
              "      <td>...</td>\n",
              "      <td>...</td>\n",
              "      <td>...</td>\n",
              "      <td>...</td>\n",
              "      <td>...</td>\n",
              "    </tr>\n",
              "    <tr>\n",
              "      <th>6992</th>\n",
              "      <td>https://s3-us-west-2.amazonaws.com/sq8geewpqu/...</td>\n",
              "      <td>The car is driving slowly since it is getting ...</td>\n",
              "      <td>NaN</td>\n",
              "      <td>NaN</td>\n",
              "      <td>NaN</td>\n",
              "      <td>NaN</td>\n",
              "      <td>NaN</td>\n",
              "      <td>NaN</td>\n",
              "      <td>NaN</td>\n",
              "      <td>NaN</td>\n",
              "      <td>NaN</td>\n",
              "      <td>NaN</td>\n",
              "      <td>NaN</td>\n",
              "      <td>NaN</td>\n",
              "      <td>NaN</td>\n",
              "      <td></td>\n",
              "      <td>2c6484bb-396e2db8</td>\n",
              "    </tr>\n",
              "    <tr>\n",
              "      <th>6993</th>\n",
              "      <td>https://s3-us-west-2.amazonaws.com/sq8geewpqu/...</td>\n",
              "      <td>The car is driving forward The car is driving ...</td>\n",
              "      <td>NaN</td>\n",
              "      <td>NaN</td>\n",
              "      <td>NaN</td>\n",
              "      <td>NaN</td>\n",
              "      <td>NaN</td>\n",
              "      <td>NaN</td>\n",
              "      <td>NaN</td>\n",
              "      <td>NaN</td>\n",
              "      <td>NaN</td>\n",
              "      <td>NaN</td>\n",
              "      <td>NaN</td>\n",
              "      <td>NaN</td>\n",
              "      <td>NaN</td>\n",
              "      <td></td>\n",
              "      <td>2c6484bb-5396d8e2</td>\n",
              "    </tr>\n",
              "    <tr>\n",
              "      <th>6994</th>\n",
              "      <td>https://s3-us-west-2.amazonaws.com/sq8geewpqu/...</td>\n",
              "      <td>NaN</td>\n",
              "      <td>The car is driving down the road The car has c...</td>\n",
              "      <td>NaN</td>\n",
              "      <td>NaN</td>\n",
              "      <td>NaN</td>\n",
              "      <td>NaN</td>\n",
              "      <td>NaN</td>\n",
              "      <td>NaN</td>\n",
              "      <td>NaN</td>\n",
              "      <td>NaN</td>\n",
              "      <td>NaN</td>\n",
              "      <td>NaN</td>\n",
              "      <td>NaN</td>\n",
              "      <td>NaN</td>\n",
              "      <td></td>\n",
              "      <td>2c6484bb-8e0c070c</td>\n",
              "    </tr>\n",
              "    <tr>\n",
              "      <th>6995</th>\n",
              "      <td>https://s3-us-west-2.amazonaws.com/sq8geewpqu/...</td>\n",
              "      <td>The car is stopped. Traffic ahead of the car i...</td>\n",
              "      <td>NaN</td>\n",
              "      <td>NaN</td>\n",
              "      <td>NaN</td>\n",
              "      <td>NaN</td>\n",
              "      <td>NaN</td>\n",
              "      <td>NaN</td>\n",
              "      <td>NaN</td>\n",
              "      <td>NaN</td>\n",
              "      <td>NaN</td>\n",
              "      <td>NaN</td>\n",
              "      <td>NaN</td>\n",
              "      <td>NaN</td>\n",
              "      <td>NaN</td>\n",
              "      <td></td>\n",
              "      <td>2c66430a-0dfc3a40</td>\n",
              "    </tr>\n",
              "    <tr>\n",
              "      <th>6996</th>\n",
              "      <td>https://s3-us-west-2.amazonaws.com/sq8geewpqu/...</td>\n",
              "      <td>The car is driving forward The car is proceedi...</td>\n",
              "      <td>NaN</td>\n",
              "      <td>NaN</td>\n",
              "      <td>NaN</td>\n",
              "      <td>NaN</td>\n",
              "      <td>NaN</td>\n",
              "      <td>NaN</td>\n",
              "      <td>NaN</td>\n",
              "      <td>NaN</td>\n",
              "      <td>NaN</td>\n",
              "      <td>NaN</td>\n",
              "      <td>NaN</td>\n",
              "      <td>NaN</td>\n",
              "      <td>NaN</td>\n",
              "      <td></td>\n",
              "      <td>2c66430a-89ec2305</td>\n",
              "    </tr>\n",
              "  </tbody>\n",
              "</table>\n",
              "<p>6996 rows × 17 columns</p>\n",
              "</div>"
            ],
            "text/plain": [
              "                                             InputVideo  ...           BDDX-ids\n",
              "1     https://s3-us-west-2.amazonaws.com/sq8geewpqu/...  ...  06d501fd-a9ffc960\n",
              "2     https://s3-us-west-2.amazonaws.com/sq8geewpqu/...  ...  01b0505f-5f564e84\n",
              "3     https://s3-us-west-2.amazonaws.com/sq8geewpqu/...  ...  06d501fd-fd237e38\n",
              "4     https://s3-us-west-2.amazonaws.com/sq8geewpqu/...  ...  06d54ae6-26a3446e\n",
              "5     https://s3-us-west-2.amazonaws.com/sq8geewpqu/...  ...  01b4e4b9-e21fe0a3\n",
              "...                                                 ...  ...                ...\n",
              "6992  https://s3-us-west-2.amazonaws.com/sq8geewpqu/...  ...  2c6484bb-396e2db8\n",
              "6993  https://s3-us-west-2.amazonaws.com/sq8geewpqu/...  ...  2c6484bb-5396d8e2\n",
              "6994  https://s3-us-west-2.amazonaws.com/sq8geewpqu/...  ...  2c6484bb-8e0c070c\n",
              "6995  https://s3-us-west-2.amazonaws.com/sq8geewpqu/...  ...  2c66430a-0dfc3a40\n",
              "6996  https://s3-us-west-2.amazonaws.com/sq8geewpqu/...  ...  2c66430a-89ec2305\n",
              "\n",
              "[6996 rows x 17 columns]"
            ]
          },
          "metadata": {
            "tags": []
          },
          "execution_count": 7
        }
      ]
    },
    {
      "cell_type": "markdown",
      "metadata": {
        "id": "l7GCX7cn_H2h"
      },
      "source": [
        "# SDL Class"
      ]
    },
    {
      "cell_type": "code",
      "metadata": {
        "id": "TzdQb5tazHLa"
      },
      "source": [
        "class Actor:\n",
        "    def __init__(self, description):\n",
        "        \"\"\"\n",
        "        self.description should be one of the following:\n",
        "          ego\n",
        "          light vehicle\n",
        "          heavy vehicle\n",
        "          cyclist\n",
        "          pedestrian\n",
        "        \"\"\"\n",
        "        self.description = description\n",
        "        self.action = \"\""
      ],
      "execution_count": null,
      "outputs": []
    },
    {
      "cell_type": "code",
      "metadata": {
        "id": "Hzde2fYDzHLe",
        "colab": {
          "base_uri": "https://localhost:8080/"
        },
        "outputId": "c2e6d13f-c005-49ca-be80-daf1dd990c05"
      },
      "source": [
        "import nltk\n",
        "benepar.download('benepar_en2')\n",
        "class SDL_Util:\n",
        "    def __init__(self):\n",
        "        self.stemmer = nltk.stem.PorterStemmer()\n",
        "        # stemmer allows us to match words with the same roots: e.g., it identifies \"turns\", \"turning\", and \"turn\" as the same word\n",
        "        # But it recognizes \"slow\" and \"slowly\" as different, and it thinks \"go\" and \"goes\" are different\n",
        "        self.parser = benepar.Parser(\"benepar_en2\")\n",
        "        # allows us to turn sentences into parse trees\n",
        "\n",
        "        self.actor_list = {'car':'light vehicle',\n",
        "                           'bus':'heavy vehicle',\n",
        "                           'truck':'heavy vehicle',\n",
        "                           'cyclist':'cyclist',\n",
        "                           'pedestrian':'pedestrian',\n",
        "                           'ambulance':'heavy vehicle',\n",
        "                           'minivan':'light vehicle',\n",
        "                           'traffic':'traffic',\n",
        "                           }\n",
        "        self.scene_list = ['intersect', # intersection stem\n",
        "                           'crosswalk',\n",
        "                           'bridge',\n",
        "                           'light',\n",
        "                           'sign',\n",
        "                           'stop sign',\n",
        "                           'yield sign',\n",
        "                           'traffic light',\n",
        "                           'traffic signal',\n",
        "                           'turn lane',\n",
        "                           ]\n",
        "\n",
        "        init_action_list = {'turn':'turn',\n",
        "                            'merge':'merge',\n",
        "                            'swerve':'merge',\n",
        "                            'veer':'merge',\n",
        "                            'switch':'merge',\n",
        "                            'accelerate':'accelerate',\n",
        "                            'pick':'accelerate',\n",
        "                            'brake':'brake',\n",
        "                            'slow':'brake',\n",
        "                            'reduce':'brake',\n",
        "                            'decelerate':'brake',\n",
        "                            'stop':'stop',\n",
        "                            'wait':'stop',\n",
        "                            'sit':'stop',\n",
        "                            'forward':'forward',\n",
        "                            'move':'forward',\n",
        "                            'stay':'forward',\n",
        "                            'maintain':'forward',\n",
        "                            'proceeds':'forward',\n",
        "                            'proceed':'forward',\n",
        "                            'inch':'forward',\n",
        "                            'pass':'forward',\n",
        "                            'roll':'forward',\n",
        "                            'advance':'forward',\n",
        "                            'drive':'drive',\n",
        "                            'steer':'drive',\n",
        "                            'go':'drive',\n",
        "                            'goes':'drive',\n",
        "                            'head':'drive',\n",
        "                            'pull':'drive',\n",
        "                            'travel':'drive',\n",
        "                            'flow':'drive',\n",
        "                            'reverse':'reverse',\n",
        "                            'walk':'walk',\n",
        "                            'cross':'walk',\n",
        "                            'park':'park',\n",
        "                            'drift':'forward', # Not sure about this one, but it's not changing lanes so I'm calling it \"forward\"\n",
        "                            'block':'stop', # Vehicles that are blocking generally are stopped in the path of the ego\n",
        "                            'enter':'merge',\n",
        "                            'straighten':'forward',\n",
        "                            'follow':'forward',\n",
        "                            'shift':'merge',\n",
        "                            'change':'merge',\n",
        "                            'stand':'stop', # Standing still\n",
        "                            'curve':'forward',\n",
        "                           }\n",
        "        self.adjective_action = {'clear':'_negative', # traffic is clear\n",
        "                                 'stationary':'stop', # car is stationary\n",
        "                                 'complete':'stop', # is at a complete stop\n",
        "                                 'heavy':'forward', # traffic is heavy\n",
        "                                 'accelerating':'accelerate', # car is accelerating\n",
        "                                 'light':'_negative', # traffic is light\n",
        "                                 'slow':'forward', # traffic is slow\n",
        "                                 'parallel':'reverse', # car is parallel parking\n",
        "                                 'rolling':'forward', # car is rolling forward\n",
        "                                 'driving':'drive', # car is driving\n",
        "                                 'full':'stop', # car is at a full stop\n",
        "                                 'stopped':'stop', # car is stopped\n",
        "                                 'busy':'forward', # traffic is busy\n",
        "                                 'double':'stop', # car is double parked\n",
        "                                 'double-parked':'stop', # car is double-parked\n",
        "                                 'idle':'stop', # car is idle\n",
        "                                 'stopping':'brake', # car is stopping\n",
        "                                 'minimal':'_negative', # traffic is minimal\n",
        "                                 'empty':'_negative', # traffic is empty\n",
        "                                 'moderate':'forward', # traffic is moderate\n",
        "                                }\n",
        "        self.action_list = {}\n",
        "        for a in init_action_list:\n",
        "            self.action_list[self.stemmer.stem(a)] = init_action_list[a]\n",
        "\n",
        "        self.light_status = [\"green\",\"yellow\",\"red\"]\n",
        "        self.directions = [\"left\",\"right\",\"u-turn\",\"uturn\",\"through\",\"backward\",\"down\",\"straight\"]\n",
        "\n",
        "        self.debug = {\"_None\":[]}\n",
        "        \n",
        "        self.count = 0\n",
        "    def update_debug(self,word,phrase):\n",
        "        if not word in self.debug:\n",
        "            self.debug[word] = []\n",
        "        self.debug[word].append(phrase)\n",
        "\n",
        "util = SDL_Util()\n"
      ],
      "execution_count": null,
      "outputs": [
        {
          "output_type": "stream",
          "text": [
            "[nltk_data] Downloading package benepar_en2 to /root/nltk_data...\n"
          ],
          "name": "stdout"
        }
      ]
    },
    {
      "cell_type": "code",
      "metadata": {
        "id": "2Z19VAek6YaP"
      },
      "source": [
        "class SDL:\n",
        "    def __init__(self, index, statements, link):\n",
        "        self.statements = statements\n",
        "        self.index = index\n",
        "        l = link.split(\"/\")\n",
        "        l = l[-1].split(\".\")[0]\n",
        "        self.videoLink = l\n",
        "\n",
        "        self.actors = {'1':[], '2':[], '3':[], '4':[], '5':[], '6':[], '7':[], \n",
        "                       '8':[], '9':[], '10':[], '11':[], '12':[], '13':[], '14':[], '15':[]}\n",
        "        self.scene = {'1':[], '2':[], '3':[], '4':[], '5':[], '6':[], '7':[], \n",
        "                       '8':[], '9':[], '10':[], '11':[], '12':[], '13':[], '14':[], '15':[]}\n",
        "                \n",
        "    def getDescriptors(self, statement, timeSegment):\n",
        "\n",
        "        if(statement == \"No Data Recorded\"):\n",
        "            # No caption => no SDL\n",
        "            self.actors[timeSegment].append(Actor(\"NaN\"))\n",
        "            self.actors[timeSegment][-1].action = \"NaN\"\n",
        "            self.scene[timeSegment].append(\"NaN\")\n",
        "            return\n",
        "\n",
        "        parse_tree = util.parser.parse(statement.lower()) # Create a parse tree        \n",
        "        self.sbar2sdl(parse_tree,timeSegment) # Search for actors and actions\n",
        "        \n",
        "    def sbar2sdl(self, tree, timeSegment):\n",
        "        if type(tree) == str or len(tree) == 0 or type(tree[0]) == str:\n",
        "            return # tree is a leaf and not a tree\n",
        "        vp = -1 # Keep track of where the verb phrase is\n",
        "        np = -1 # Keep track of where the noun phrase is\n",
        "        todo = [] # Keep track of sub clauses to recursively check for more SDL elements\n",
        "        sentence_break = []\n",
        "        for i,node in enumerate(tree):\n",
        "            if node.label()[0] == \"S\":\n",
        "                self.sbar2sdl(node, timeSegment)\n",
        "            elif node.label() == \"NP\":\n",
        "                if len(self.actors[timeSegment]) > 0 and node.leaves() == ['the','car'] and \\\n",
        "                i < len(tree)-1 and tree[i+1].label() != \"PP\":\n",
        "                    continue # Ego has been referenced a second time. Ignore it.\n",
        "                self.np2sdl(node, timeSegment)\n",
        "            elif node.label() == \"VP\":\n",
        "                self.vp2sdl(node, timeSegment)\n",
        "            elif node.label() == \"PP\":\n",
        "                self.sbar2sdl(node, timeSegment)\n",
        "                            \n",
        "    def np2sdl(self, tree, timeSegment, neg=False):\n",
        "        noun = \"\"\n",
        "        verb = \"\"\n",
        "        adj = \"\"\n",
        "        todo = []\n",
        "        for i,node in enumerate(tree):\n",
        "            if type(node) == str: # tree is a leaf and not a tree\n",
        "                break\n",
        "            if node.label()[0] == \"N\" and len(node.leaves()) == 1:\n",
        "                # Found the noun in the noun phrase\n",
        "                if neg: # Actor is NOT present (e.g., \"no traffic\")\n",
        "                    neg = False\n",
        "                    continue\n",
        "                elif noun == \"\":\n",
        "                    noun = node.leaves()[0]\n",
        "                else: #elif noun != \"\":\n",
        "                    noun = noun+\" \"+node.leaves()[0]\n",
        "                if i > 0 and tree[i-1].label()[0] == \"V\" and len(tree[i-1].leaves()) == 1:\n",
        "                    # Verb before the noun is an action\n",
        "                    verb = tree[i-1].leaves()[0]\n",
        "                elif i > 0 and tree[i-1].label()[0] == \"J\" and len(tree[i-1].leaves()) == 1:\n",
        "                    adj = tree[i-1].leaves()[0]\n",
        "            elif node.label()[0] == \"S\":\n",
        "                todo.append((node,\"S\",None))\n",
        "                neg = False\n",
        "            elif node.label() == \"NP\":\n",
        "                todo.append((node,\"N\",neg))\n",
        "                neg = False\n",
        "            elif node.label() == \"VP\":\n",
        "                todo.append((node,\"V\",neg))\n",
        "                neg = False\n",
        "            elif node.label() == \"PP\":\n",
        "                todo.append((node,\"S\",None))\n",
        "                neg = False\n",
        "        noun = util.stemmer.stem(noun)\n",
        "        verb = util.stemmer.stem(verb)\n",
        "        if noun in util.scene_list:\n",
        "            # Noun was a scene, add it to the scene list\n",
        "            if noun == \"light\" and adj in util.light_status:\n",
        "                # Check if the modifier describes the color of the traffic light\n",
        "                noun = adj+\" \"+noun\n",
        "            self.scene[timeSegment].append(noun)\n",
        "        elif noun in util.actor_list:\n",
        "            if len(self.actors[timeSegment]) == 0:\n",
        "                noun = \"ego\"\n",
        "            else:\n",
        "                noun = util.actor_list[noun]\n",
        "            self.actors[timeSegment].append(Actor(noun))\n",
        "            if verb != \"\" and verb in util.action_list:\n",
        "                verb = util.action_list[verb]\n",
        "                # Add action to the associated actor\n",
        "                self.actors[timeSegment][-1].action = verb\n",
        "        elif noun in util.directions and len(self.actors[timeSegment]) > 0 and \\\n",
        "        self.actors[timeSegment][-1].action == \"\":\n",
        "            self.actors[timeSegment][-1].action = noun+\" turn\"\n",
        "        elif noun in util.action_list and len(self.actors[timeSegment]) > 0 and \\\n",
        "        self.actors[timeSegment][-1].action == \"\":\n",
        "            noun = util.action_list[noun]\n",
        "            self.actors[timeSegment][-1].action = noun\n",
        "        for node,label,pass_neg in todo:\n",
        "            if label == \"S\":\n",
        "                self.sbar2sdl(node, timeSegment)\n",
        "            elif label == \"N\":\n",
        "                self.np2sdl(node, timeSegment, pass_neg)\n",
        "            elif label == \"V\":\n",
        "                self.vp2sdl(node, timeSegment, pass_neg)\n",
        "    \n",
        "    def vp2sdl(self, tree, timeSegment, neg=False):\n",
        "        verb = \"\"\n",
        "        adj = \"\"\n",
        "        adv = \"\"\n",
        "        todo = []\n",
        "        flip = False\n",
        "        for i,node in enumerate(tree):\n",
        "            if type(node) == str: # tree is a leaf and not a tree\n",
        "                break\n",
        "            if node.label()[0] == \"V\" and len(node.leaves()) == 1:\n",
        "                verb = node.leaves()[0]\n",
        "                if neg:\n",
        "                    flip = True\n",
        "                neg = False\n",
        "            elif node.label() == \"ADJP\" and len(node.leaves()) == 1:\n",
        "                adj = node.leaves()[0]\n",
        "                neg = False\n",
        "            elif node.label() == \"ADVP\" and len(node.leaves()) == 1:\n",
        "                adv = node.leaves()[0]\n",
        "                neg = False\n",
        "            elif node.label() == \"RB\" and len(node.leaves()) == 1 and \\\n",
        "            node.leaves()[0] == \"not\" or node.leaves()[0] == \"n't\":\n",
        "                neg = True\n",
        "            elif node.label()[0] == \"S\":\n",
        "                todo.append((node,\"S\",None))\n",
        "                neg = False\n",
        "            elif node.label() == \"NP\":\n",
        "                todo.append((node,\"N\",neg))\n",
        "                neg = False\n",
        "            elif node.label() == \"VP\":\n",
        "                todo.append((node,\"V\",neg))\n",
        "                neg = False\n",
        "            elif node.label() == \"PP\":\n",
        "                pp_verb = False\n",
        "                if len(node.leaves()) < 5 and len(node.leaves()) > 0:\n",
        "                    pot_verb = node.leaves()[-1]\n",
        "                    pot_verb = util.stemmer.stem(pot_verb)\n",
        "                    if pot_verb in util.action_list:\n",
        "                        verb = pot_verb\n",
        "                        pp_verb = True\n",
        "                if not pp_verb:\n",
        "                    todo.append((node,\"S\",None))\n",
        "                neg = False\n",
        "        verb = util.stemmer.stem(verb)\n",
        "        if adj in util.light_status and len(self.scene[timeSegment]) > 0 and \\\n",
        "        self.scene[timeSegment][-1] == \"light\":\n",
        "            self.scene[timeSegment][-1] = adj+\" light\"\n",
        "        if verb in util.action_list and len(self.actors[timeSegment]) > 0 and \\\n",
        "        self.actors[timeSegment][-1].action == \"\":\n",
        "            verb = util.action_list[verb]\n",
        "            if flip and (verb == \"forward\" or verb == \"drive\"):\n",
        "                verb = util.action_list[\"stop\"]\n",
        "            elif flip and (verb == \"stop\"):\n",
        "                verb = util.action_list[\"forward\"]\n",
        "            elif adv in util.directions:\n",
        "                verb = adv+\" \"+verb\n",
        "            self.actors[timeSegment][-1].action = verb\n",
        "        for node,label,pass_neg in todo:\n",
        "            if label == \"S\":\n",
        "                self.sbar2sdl(node, timeSegment)\n",
        "            elif label == \"N\":\n",
        "                self.np2sdl(node, timeSegment, pass_neg)\n",
        "            elif label == \"V\":\n",
        "                self.vp2sdl(node, timeSegment, pass_neg)\n"
      ],
      "execution_count": null,
      "outputs": []
    },
    {
      "cell_type": "code",
      "metadata": {
        "id": "-c32LWvHmC3x"
      },
      "source": [
        "sdlList = []\n",
        "for index, row in bddx.iterrows():\n",
        "    sdlList.append(row.astype(str))\n",
        "assert len(sdlList) == 6996, \"length of sdl list should be 6996\""
      ],
      "execution_count": null,
      "outputs": []
    },
    {
      "cell_type": "code",
      "metadata": {
        "id": "AquJdlyFuF0N"
      },
      "source": [
        "sdlStatements = []\n",
        "for i in range(len(sdlList)):\n",
        "    sdlStatements.append({'1': sdlList[i]['1AJ'], '2': sdlList[i]['2AJ'], '3': sdlList[i]['3AJ'], '4': sdlList[i]['4AJ'], \n",
        "                          '5': sdlList[i]['5AJ'], '6': sdlList[i]['6AJ'], '7': sdlList[i]['7AJ'], '8': sdlList[i]['8AJ'], \n",
        "                          '9': sdlList[i]['9AJ'], '10': sdlList[i]['10AJ'], '11': sdlList[i]['11AJ'], '12': sdlList[i]['12AJ'], \n",
        "                          '13': sdlList[i]['13AJ'], '14': sdlList[i]['14AJ'], '15': sdlList[i]['15AJ']})\n",
        "\n",
        "for i in range(len(sdlStatements)):\n",
        "    keysTemp = list(sdlStatements[i].keys())\n",
        "    for j in keysTemp:\n",
        "        if (sdlStatements[i][j]==\" \"):\n",
        "            sdlStatements[i][j] = \"No Data Recorded\"\n",
        "\n",
        "sdlObjectList = []\n",
        "for i in range(len(sdlList)):\n",
        "    sdlObjectList.append(SDL(i, sdlStatements[i], sdlList[i]['InputVideo']))"
      ],
      "execution_count": null,
      "outputs": []
    },
    {
      "cell_type": "code",
      "metadata": {
        "colab": {
          "base_uri": "https://localhost:8080/"
        },
        "id": "kSIrzqV5zHMD",
        "outputId": "3d062a6a-1724-4a1e-f420-47fb187a66c2"
      },
      "source": [
        "import nltk\n",
        "nltk.download('punkt')\n",
        "for i in range(len(sdlObjectList)):\n",
        "    if i%100 == 0:\n",
        "        print(i)\n",
        "    keysTemp = list(sdlObjectList[i].statements.keys())\n",
        "    for j in (keysTemp):\n",
        "        sdlObjectList[i].getDescriptors(sdlObjectList[i].statements[j], j)\n"
      ],
      "execution_count": null,
      "outputs": [
        {
          "output_type": "stream",
          "text": [
            "[nltk_data] Downloading package punkt to /root/nltk_data...\n",
            "[nltk_data]   Unzipping tokenizers/punkt.zip.\n",
            "0\n",
            "100\n",
            "200\n",
            "300\n",
            "400\n",
            "500\n",
            "600\n",
            "700\n",
            "800\n",
            "900\n",
            "1000\n",
            "1100\n",
            "1200\n",
            "1300\n",
            "1400\n",
            "1500\n",
            "1600\n",
            "1700\n",
            "1800\n",
            "1900\n",
            "2000\n",
            "2100\n",
            "2200\n",
            "2300\n",
            "2400\n",
            "2500\n",
            "2600\n",
            "2700\n",
            "2800\n",
            "2900\n",
            "3000\n",
            "3100\n",
            "3200\n",
            "3300\n",
            "3400\n",
            "3500\n",
            "3600\n",
            "3700\n",
            "3800\n",
            "3900\n",
            "4000\n",
            "4100\n",
            "4200\n",
            "4300\n",
            "4400\n",
            "4500\n",
            "4600\n",
            "4700\n",
            "4800\n",
            "4900\n",
            "5000\n",
            "5100\n",
            "5200\n",
            "5300\n",
            "5400\n",
            "5500\n",
            "5600\n",
            "5700\n",
            "5800\n",
            "5900\n",
            "6000\n",
            "6100\n",
            "6200\n",
            "6300\n",
            "6400\n",
            "6500\n",
            "6600\n",
            "6700\n",
            "6800\n",
            "6900\n"
          ],
          "name": "stdout"
        }
      ]
    },
    {
      "cell_type": "code",
      "metadata": {
        "colab": {
          "base_uri": "https://localhost:8080/"
        },
        "id": "N_Jmbn68zHML",
        "outputId": "48d28bbb-8051-4876-a0b1-5908e34968f3"
      },
      "source": [
        "examples = [1,5730,1999] \n",
        "\n",
        "for example in examples:\n",
        "    print('Object %i: '%(example))\n",
        "    print(\"Actors: \")\n",
        "    print(sdlObjectList[example].statements)\n",
        "\n",
        "    for a in range(len(sdlObjectList[example].actors)):\n",
        "      actorsIndex = str(a+1)\n",
        "      for j in range(len(sdlObjectList[example].actors[actorsIndex])):\n",
        "        print('Time segment:', actorsIndex, \",  %s: %s\"%(sdlObjectList[example].actors[actorsIndex][j].description,sdlObjectList[example].actors[actorsIndex][j].action))\n",
        "    print('Scene: ', sdlObjectList[example].scene)"
      ],
      "execution_count": null,
      "outputs": [
        {
          "output_type": "stream",
          "text": [
            "Object 1: \n",
            "Actors: \n",
            "{'1': 'The car is stopped. The car is at an intersection with a red light.', '2': 'NaN ', '3': 'NaN ', '4': 'NaN ', '5': 'NaN ', '6': 'NaN ', '7': 'NaN ', '8': 'NaN ', '9': 'NaN ', '10': 'NaN ', '11': 'NaN ', '12': 'NaN ', '13': 'NaN ', '14': 'NaN ', '15': 'No Data Recorded'}\n",
            "Time segment: 1 ,  ego: stop\n",
            "Time segment: 15 ,  NaN: NaN\n",
            "Scene:  {'1': ['intersect', 'red light'], '2': [], '3': [], '4': [], '5': [], '6': [], '7': [], '8': [], '9': [], '10': [], '11': [], '12': [], '13': [], '14': [], '15': ['NaN']}\n",
            "Object 5730: \n",
            "Actors: \n",
            "{'1': 'The car is stopped because there are cars moving along.', '2': 'NaN ', '3': 'NaN ', '4': 'NaN ', '5': 'NaN ', '6': 'NaN ', '7': 'NaN ', '8': 'NaN ', '9': 'NaN ', '10': 'NaN ', '11': 'NaN ', '12': 'NaN ', '13': 'NaN ', '14': 'NaN ', '15': 'No Data Recorded'}\n",
            "Time segment: 1 ,  ego: stop\n",
            "Time segment: 1 ,  light vehicle: forward\n",
            "Time segment: 15 ,  NaN: NaN\n",
            "Scene:  {'1': [], '2': [], '3': [], '4': [], '5': [], '6': [], '7': [], '8': [], '9': [], '10': [], '11': [], '12': [], '13': [], '14': [], '15': ['NaN']}\n",
            "Object 1999: \n",
            "Actors: \n",
            "{'1': 'The car is accelerating Because there are no cars ahead of it and the traffic lights are green.', '2': 'NaN ', '3': 'NaN ', '4': 'NaN ', '5': 'NaN ', '6': 'NaN ', '7': 'NaN ', '8': 'NaN ', '9': 'NaN ', '10': 'NaN ', '11': 'NaN ', '12': 'NaN ', '13': 'NaN ', '14': 'NaN ', '15': 'No Data Recorded'}\n",
            "Time segment: 1 ,  ego: accelerate\n",
            "Time segment: 1 ,  light vehicle: \n",
            "Time segment: 15 ,  NaN: NaN\n",
            "Scene:  {'1': ['traffic light'], '2': [], '3': [], '4': [], '5': [], '6': [], '7': [], '8': [], '9': [], '10': [], '11': [], '12': [], '13': [], '14': [], '15': ['NaN']}\n"
          ],
          "name": "stdout"
        }
      ]
    },
    {
      "cell_type": "code",
      "metadata": {
        "id": "wWZnvAX7wz0B"
      },
      "source": [
        "# Save off sdl objects\n",
        "import numpy as np\n",
        "sdl_np = np.array(sdlObjectList)\n",
        "np.save('sdl_objects', sdl_np)"
      ],
      "execution_count": null,
      "outputs": []
    },
    {
      "cell_type": "code",
      "metadata": {
        "id": "AQzJKcxGxQXN"
      },
      "source": [
        "# Load sdl objects into array\n",
        "sdlObjectList = np.load('sdl_objects.npy', allow_pickle=True)"
      ],
      "execution_count": null,
      "outputs": []
    },
    {
      "cell_type": "code",
      "metadata": {
        "colab": {
          "base_uri": "https://localhost:8080/"
        },
        "id": "88oo6t36_AMN",
        "outputId": "e802370c-8aa4-4571-faba-b53176881114"
      },
      "source": [
        "print(len(sdlObjectList))"
      ],
      "execution_count": null,
      "outputs": [
        {
          "output_type": "stream",
          "text": [
            "6996\n"
          ],
          "name": "stdout"
        }
      ]
    },
    {
      "cell_type": "code",
      "metadata": {
        "colab": {
          "base_uri": "https://localhost:8080/"
        },
        "id": "3Mw95G68EjfS",
        "outputId": "63695a77-9498-4af6-ad46-b0a7419f6fd3"
      },
      "source": [
        "examples = [0] \n",
        "print(bddx.index[6995])\n",
        "for example in examples:\n",
        "    print('Object %i: '%(example))\n",
        "    print(\"Actors: \")\n",
        "    print(sdlObjectList[example].statements)\n",
        "\n",
        "    for a in range(len(sdlObjectList[example].actors)):\n",
        "      actorsIndex = str(a+1)\n",
        "      for j in range(len(sdlObjectList[example].actors[actorsIndex])):\n",
        "        print('Time segment:', actorsIndex, \",  %s: %s\"%(sdlObjectList[example].actors[actorsIndex][j].description,sdlObjectList[example].actors[actorsIndex][j].action))\n",
        "    print('Scene: ', sdlObjectList[example].scene)\n",
        "    scene_list = []\n",
        "    for i in sdlObjectList[example].scene.values():\n",
        "        if len(i) !=0:\n",
        "            for x in i:\n",
        "                scene_list.append(x)\n",
        "    print(scene_list)\n"
      ],
      "execution_count": null,
      "outputs": [
        {
          "output_type": "stream",
          "text": [
            "6996\n",
            "Object 0: \n",
            "Actors: \n",
            "{'1': 'The car accelerates because the light has turned green.', '2': 'NaN ', '3': 'NaN ', '4': 'NaN ', '5': 'NaN ', '6': 'NaN ', '7': 'NaN ', '8': 'NaN ', '9': 'NaN ', '10': 'NaN ', '11': 'NaN ', '12': 'NaN ', '13': 'NaN ', '14': 'NaN ', '15': 'No Data Recorded'}\n",
            "Time segment: 1 ,  ego: accelerate\n",
            "Time segment: 15 ,  NaN: NaN\n",
            "Scene:  {'1': ['green light'], '2': [], '3': [], '4': [], '5': [], '6': [], '7': [], '8': [], '9': [], '10': [], '11': [], '12': [], '13': [], '14': [], '15': ['NaN']}\n",
            "['green light', 'NaN']\n"
          ],
          "name": "stdout"
        }
      ]
    },
    {
      "cell_type": "code",
      "metadata": {
        "colab": {
          "base_uri": "https://localhost:8080/"
        },
        "id": "p7JZmnlC4RBN",
        "outputId": "cfd0adbf-8685-47f4-a233-de8f0d22b45e"
      },
      "source": [
        "# Count how many actors have associated actions\n",
        "actor_count = 0\n",
        "action_count = 0\n",
        "for idx in range(len(sdlObjectList)):\n",
        "    so = sdlObjectList[idx]\n",
        "    for timestep in so.actors:\n",
        "        for actor in so.actors[timestep]:\n",
        "            if actor.description == \"NaN\":\n",
        "                break\n",
        "            actor_count+=1\n",
        "            if actor.action != \"\":\n",
        "                action_count+=1\n",
        "\n",
        "print(\"There are %i actors and %i actions. Completeness: %f\"%(actor_count,action_count,action_count/actor_count))\n",
        "\n",
        "# Display the top 10 unclassified verbs\n",
        "print(\"Top 10 unclassified verbs:\")\n",
        "dd = sorted(util.debug.items(), key = lambda kv:(-len(kv[1]),kv[0]))\n",
        "cutoff = 10\n",
        "for (key,value) in dd:\n",
        "    print(\"  %s: %i\"%(key,len(value)))\n",
        "    cutoff-=1\n",
        "    if cutoff <= 0:\n",
        "        break"
      ],
      "execution_count": null,
      "outputs": [
        {
          "output_type": "stream",
          "text": [
            "There are 8441 actors and 7373 actions. Completeness: 0.873475\n",
            "Top 10 unclassified verbs:\n",
            "  _None: 0\n"
          ],
          "name": "stdout"
        }
      ]
    },
    {
      "cell_type": "markdown",
      "metadata": {
        "id": "rFt1ZnRaSnqq"
      },
      "source": [
        "# SDL Representation with Matrices"
      ]
    },
    {
      "cell_type": "code",
      "metadata": {
        "id": "mYV8V_pbSlR8"
      },
      "source": [
        "import numpy as np \n",
        "'''\n",
        "\n",
        "For each SDL object in sdlObjectList, (2 x n) matrix represents the action-actor pair with n being the number of actor action pairs, (1 x m) matrix \n",
        "where m represents the number of scene elements\n",
        "\n",
        "'''\n",
        "actor_encoding = {'light vehicle': 0, 'heavy vehicle': 1, 'cyclist': 2, 'pedestrian': 3, 'traffic': 4, 'ego': 5, 'NaN': 6}\n",
        "\n",
        "action_encoding = {'turn': 0, 'turn left': 1, 'turn right': 3, 'merge': 4, 'accelerate': 5, 'brake': 6, 'stop': 7, \n",
        "                   'forward': 8, 'walk': 9, 'park': 10, 'drive': 11, 'reverse': 12, 'merge center': 13, 'merge left': 14, \n",
        "                   'merge right': 15, 'turn through': 16, 'merge u turn': 17, 'u-turn': 18, 'NaN': 19, '':20}\n",
        "\n",
        "scene_encoding = {'intersection': 0, 'crosswalk': 1, 'bridge': 2, 'green light': 3, 'stop sign': 4, 'yield sign': 5, 'sign': 6, \n",
        "                  'u-turn': 7, 'traffic light': 8, 'traffic signal': 9, 'turn lane': 10, 'crosswalks': 11, 'green traffic light': 12, \n",
        "                  'light': 13, 'lights': 14, 'red light': 15, 'red traffic light': 16, 'signs': 17, 'traffic lights': 18, \n",
        "                  'yellow light': 19, 'yellow traffic light': 20, 'NaN': 21}\n",
        "\n",
        "sdl_embeddings = []\n",
        "\n",
        "for example in range(len(sdlObjectList)): #loops through 6996 sdl objects in sdlObjectList\n",
        "    # Each sdl object has a 7x21x22 one hot encoding representing its action, actor and scene element\n",
        "    for a in range(len(sdlObjectList[example].actors)): #loops through 15 time segments\n",
        "      actorsIndex = str(a+1)\n",
        "      actor_list = []\n",
        "      action_list = []\n",
        "      scene_list = []\n",
        "      for j in range(len(sdlObjectList[example].actors[actorsIndex])):\n",
        "        actor_list.append(sdlObjectList[example].actors[actorsIndex][j].description)\n",
        "        action_list.append(sdlObjectList[example].actors[actorsIndex][j].action)\n",
        "\n",
        "      scene_list = sdlObjectList[example].scene[actorsIndex]\n",
        "      \n",
        "      # print(\"actor list: \", actor_list)\n",
        "      # print(\"action list: \", action_list)\n",
        "      # print(\"scene list: \", scene_list)\n",
        "\n",
        "      actor_indices = []\n",
        "      action_indices = []\n",
        "      scene_indices = []\n",
        "\n",
        "      if (len(actor_list) != len(action_list)):\n",
        "        print(\"Actor and action list don't match up, this may cause 1 to 1 actor to action correspondence errors\")\n",
        "        break\n",
        "      \n",
        "      sdl_matrices = []\n",
        "      actor_action_matrix = np.zeros((len(actor_list), 2))\n",
        "\n",
        "\n",
        "      scene_length = 0\n",
        "      if (len(scene_list) == 0):\n",
        "          scene_length = 1\n",
        "      else:\n",
        "          scene_length = len(scene_list)    \n",
        "      scene_matrix = np.zeros((scene_length,))\n",
        "\n",
        "\n",
        "      for a_index in actor_list:\n",
        "        actor_indices.append(actor_encoding[a_index])\n",
        "\n",
        "      for act_index in action_list:\n",
        "        action_indices.append(action_encoding[act_index])\n",
        "\n",
        "      if ( ((len(scene_list)) > 0) and scene_list[0] != 'NaN'):\n",
        "        for i in scene_list:\n",
        "            scene_indices.append(scene_encoding[i])\n",
        "      else:\n",
        "        scene_indices.clear()\n",
        "        scene_indices.append(21)\n",
        "\n",
        "      if (len(actor_indices) != len(action_indices)):\n",
        "        print(\"make sure each actor is matched up with an action\")\n",
        "        break\n",
        "\n",
        "      for i, actor_index in enumerate(actor_indices):\n",
        "          actor_action_matrix[i][0] = actor_index\n",
        "\n",
        "      for j, action_index in enumerate(action_indices):\n",
        "          actor_action_matrix[j][1] = action_index\n",
        "\n",
        "      for k, scene_index in enumerate(scene_indices):\n",
        "          scene_matrix[k] = scene_index\n",
        "\n",
        "      sdl_matrices.append(actor_action_matrix)\n",
        "      sdl_matrices.append(scene_matrix)\n",
        "      sdl_embeddings.append(sdl_matrices)\n",
        "\n",
        "assert len(sdl_embeddings) == 104940, \"length of sdlEmbeddings should be 104940\""
      ],
      "execution_count": null,
      "outputs": []
    },
    {
      "cell_type": "code",
      "metadata": {
        "colab": {
          "base_uri": "https://localhost:8080/",
          "height": 34
        },
        "id": "pnMlYyLdgsBp",
        "outputId": "d99fc7f7-44d6-4fcf-ea60-af25b4b0f9fe"
      },
      "source": [
        "sdl_embeddings[45][1]"
      ],
      "execution_count": null,
      "outputs": [
        {
          "output_type": "execute_result",
          "data": {
            "text/plain": [
              "array([21.])"
            ]
          },
          "metadata": {
            "tags": []
          },
          "execution_count": 19
        }
      ]
    },
    {
      "cell_type": "markdown",
      "metadata": {
        "id": "TCAsmIYvvRXV"
      },
      "source": [
        "# BDD100K Setup"
      ]
    },
    {
      "cell_type": "markdown",
      "metadata": {
        "id": "cWY__A2-nx2O"
      },
      "source": [
        "## Bdd100k Data Cleaning/Intersection with Bddx"
      ]
    },
    {
      "cell_type": "code",
      "metadata": {
        "id": "KuGODu_2xIDs"
      },
      "source": [
        "bddx_ids = li"
      ],
      "execution_count": null,
      "outputs": []
    },
    {
      "cell_type": "code",
      "metadata": {
        "id": "NgZClB24vWao"
      },
      "source": [
        "import json\n",
        "# path = \"drive/My Drive/bdd100k/bdd100k_labels_images_train.json\"\n",
        "file_name = \"det_v2_train_release.json\"\n",
        "with open(file_name) as f:\n",
        "    data = json.load(f)"
      ],
      "execution_count": null,
      "outputs": []
    },
    {
      "cell_type": "code",
      "metadata": {
        "colab": {
          "base_uri": "https://localhost:8080/"
        },
        "id": "UKDLk_TPvYmW",
        "outputId": "e15abf67-f6f4-47c4-803a-f702f8a00d9d"
      },
      "source": [
        "print(len(data))\n",
        "bdd100k_ids = []\n",
        "for i in data:\n",
        "    bdd100k_ids.append(i['videoName'])\n",
        "bdd100k_no_repeat = list(dict.fromkeys(bdd100k_ids))"
      ],
      "execution_count": null,
      "outputs": [
        {
          "output_type": "stream",
          "text": [
            "69863\n"
          ],
          "name": "stdout"
        }
      ]
    },
    {
      "cell_type": "code",
      "metadata": {
        "id": "VVSMDs7rvbri"
      },
      "source": [
        "def intersection(lst1, lst2): \n",
        "    return list(set(lst1) & set(lst2)) \n",
        "intersection_list = intersection(bddx_ids, bdd100k_no_repeat)"
      ],
      "execution_count": null,
      "outputs": []
    },
    {
      "cell_type": "code",
      "metadata": {
        "colab": {
          "base_uri": "https://localhost:8080/"
        },
        "id": "Q4Fsj34Vvc8s",
        "outputId": "696caaea-2199-43e1-c271-fbcf824338c8"
      },
      "source": [
        "data_sub = []\n",
        "for i, x in enumerate(data):\n",
        "    if (x['videoName'] in intersection_list):\n",
        "        data_sub.append(x)\n",
        "print(len(data_sub) == len(intersection_list))"
      ],
      "execution_count": null,
      "outputs": [
        {
          "output_type": "stream",
          "text": [
            "True\n"
          ],
          "name": "stdout"
        }
      ]
    },
    {
      "cell_type": "code",
      "metadata": {
        "colab": {
          "base_uri": "https://localhost:8080/"
        },
        "id": "ygdW2OE5vg2q",
        "outputId": "d7e79a2d-5128-4910-cea3-3d34609000d0"
      },
      "source": [
        "print(data_sub[1]) #for that video name, find the corresponding timestamps, which interval 10,000 falls into, 10 seconds, see if 10000(ms) - see which interval this falls into in the BDDX dataset adn pick that up"
      ],
      "execution_count": null,
      "outputs": [
        {
          "output_type": "stream",
          "text": [
            "{'videoName': '00091078-7cff8ea6', 'name': '00091078-7cff8ea6.jpg', 'index': 0, 'timestamp': 10000, 'labels': [{'category': 'car', 'poly2d': None, 'box3d': None, 'box2d': {'x2': 738.140616, 'y1': 288.4628777129832, 'x1': 276.517073, 'y2': 679.8129514206904}, 'manualShape': True, 'attributes': {'occluded': True, 'truncated': False, 'trafficLightColor': [0, 'NA']}, 'id': 204}, {'category': 'traffic sign', 'poly2d': None, 'box3d': None, 'box2d': {'x2': 289.153732, 'y1': 91.674132, 'x1': 127.702913, 'y2': 195.299926}, 'manualShape': True, 'attributes': {'occluded': False, 'truncated': False, 'trafficLightColor': [0, 'NA']}, 'id': 205}, {'category': 'car', 'poly2d': None, 'box3d': None, 'box2d': {'x2': 195.935553, 'y1': 359.099874, 'x1': 0, 'y2': 521.099819}, 'manualShape': True, 'attributes': {'occluded': True, 'truncated': True, 'trafficLightColor': [0, 'NA']}, 'id': 206}, {'category': 'car', 'poly2d': None, 'box3d': None, 'box2d': {'x2': 296.999895, 'y1': 389.699861, 'x1': 264.599906, 'y2': 412.649852}, 'manualShape': True, 'attributes': {'occluded': False, 'truncated': False, 'trafficLightColor': [0, 'NA']}, 'id': 207}, {'category': 'traffic sign', 'poly2d': None, 'box3d': None, 'box2d': {'x2': 325.349885, 'y1': 334.799883, 'x1': 301.049895, 'y2': 369.899871}, 'manualShape': True, 'attributes': {'occluded': True, 'truncated': False, 'trafficLightColor': [0, 'NA']}, 'id': 208}, {'category': 'traffic sign', 'poly2d': None, 'box3d': None, 'box2d': {'x2': 360.449873, 'y1': 226.799922, 'x1': 301.049895, 'y2': 299.699896}, 'manualShape': True, 'attributes': {'occluded': False, 'truncated': False, 'trafficLightColor': [0, 'NA']}, 'id': 209}, {'category': 'traffic light', 'poly2d': None, 'box3d': None, 'box2d': {'x2': 321.29989, 'y1': 165.149934, 'x1': 299.699896, 'y2': 209.699918}, 'manualShape': True, 'attributes': {'occluded': False, 'truncated': False, 'trafficLightColor': [0, 'NA']}, 'id': 210}, {'category': 'traffic light', 'poly2d': None, 'box3d': None, 'box2d': {'x2': 356.399874, 'y1': 171.899933, 'x1': 333.449882, 'y2': 213.749917}, 'manualShape': True, 'attributes': {'occluded': False, 'truncated': False, 'trafficLightColor': [0, 'NA']}, 'id': 211}, {'category': 'traffic light', 'poly2d': None, 'box3d': None, 'box2d': {'x2': 375.29987, 'y1': 221.849916, 'x1': 363.149873, 'y2': 258.299904}, 'manualShape': True, 'attributes': {'occluded': False, 'truncated': False, 'trafficLightColor': [0, 'NA']}, 'id': 212}, {'category': 'traffic light', 'poly2d': None, 'box3d': None, 'box2d': {'x2': 396.899862, 'y1': 228.599912, 'x1': 375.29987, 'y2': 262.3499}, 'manualShape': True, 'attributes': {'occluded': False, 'truncated': False, 'trafficLightColor': [0, 'NA']}, 'id': 213}, {'category': 'traffic light', 'poly2d': None, 'box3d': None, 'box2d': {'x2': 526.499816, 'y1': 195.299919, 'x1': 512.999818, 'y2': 231.749908}, 'manualShape': True, 'attributes': {'occluded': False, 'truncated': False, 'trafficLightColor': [0, 'NA']}, 'id': 214}, {'category': 'traffic light', 'poly2d': None, 'box3d': None, 'box2d': {'x2': 552.149807, 'y1': 193.949918, 'x1': 537.299813, 'y2': 234.449904}, 'manualShape': True, 'attributes': {'occluded': False, 'truncated': False, 'trafficLightColor': [0, 'NA']}, 'id': 215}, {'category': 'traffic light', 'poly2d': None, 'box3d': None, 'box2d': {'x2': 539.999811, 'y1': 186.299936, 'x1': 526.499816, 'y2': 237.599917}, 'manualShape': True, 'attributes': {'occluded': False, 'truncated': False, 'trafficLightColor': [3, 'R']}, 'id': 216}, {'category': 'traffic sign', 'poly2d': None, 'box3d': None, 'box2d': {'x2': 647.999773, 'y1': 253.799911, 'x1': 634.499777, 'y2': 275.399905}, 'manualShape': True, 'attributes': {'occluded': False, 'truncated': False, 'trafficLightColor': [0, 'NA']}, 'id': 217}, {'category': 'traffic sign', 'poly2d': None, 'box3d': None, 'box2d': {'x2': 677.699762, 'y1': 272.699905, 'x1': 616.949784, 'y2': 313.199889}, 'manualShape': True, 'attributes': {'occluded': True, 'truncated': False, 'trafficLightColor': [0, 'NA']}, 'id': 218}, {'category': 'traffic light', 'poly2d': None, 'box3d': None, 'box2d': {'x2': 672.299767, 'y1': 230.399916, 'x1': 658.79977, 'y2': 281.699897}, 'manualShape': True, 'attributes': {'occluded': False, 'truncated': False, 'trafficLightColor': [0, 'NA']}, 'id': 219}, {'category': 'traffic light', 'poly2d': None, 'box3d': None, 'box2d': {'x2': 715.49975, 'y1': 207.899926, 'x1': 701.999754, 'y2': 245.699914}, 'manualShape': True, 'attributes': {'occluded': False, 'truncated': False, 'trafficLightColor': [3, 'R']}, 'id': 220}, {'category': 'car', 'poly2d': None, 'box3d': None, 'box2d': {'x2': 793.799722, 'y1': 394.71652675728006, 'x1': 702.7469065503991, 'y2': 443.1092778071578}, 'manualShape': True, 'attributes': {'occluded': True, 'truncated': False, 'trafficLightColor': [0, 'NA']}, 'id': 221}, {'category': 'traffic sign', 'poly2d': None, 'box3d': None, 'box2d': {'x2': 271.349906, 'y1': 1.799993, 'x1': 140.399951, 'y2': 77.399967}, 'manualShape': True, 'attributes': {'occluded': False, 'truncated': True, 'trafficLightColor': [0, 'NA']}, 'id': 222}, {'category': 'traffic light', 'poly2d': None, 'box3d': None, 'box2d': {'x2': 90.449967, 'y1': 285.749897, 'x1': 75.599974, 'y2': 307.349889}, 'manualShape': True, 'attributes': {'occluded': False, 'truncated': False, 'trafficLightColor': [3, 'R']}, 'id': 223}, {'category': 'traffic light', 'poly2d': None, 'box3d': None, 'box2d': {'x2': 105.299961, 'y1': 287.099896, 'x1': 90.449967, 'y2': 314.099885}, 'manualShape': True, 'attributes': {'occluded': False, 'truncated': False, 'trafficLightColor': [0, 'NA']}, 'id': 224}, {'category': 'car', 'poly2d': None, 'box3d': None, 'box2d': {'x2': 1278.449552, 'y1': 191.6773756132276, 'x1': 807.9485392675247, 'y2': 716.399745}, 'manualShape': True, 'attributes': {'occluded': True, 'truncated': True, 'trafficLightColor': [0, 'NA']}, 'id': 225}, {'category': 'traffic light', 'poly2d': None, 'box3d': None, 'box2d': {'x2': 140.399951, 'y1': 199.349928, 'x1': 120.149958, 'y2': 239.849912}, 'manualShape': True, 'attributes': {'occluded': False, 'truncated': False, 'trafficLightColor': [0, 'NA']}, 'id': 226}], 'attributes': {'weather': 'snowy', 'timeofday': 'daytime', 'scene': 'city street'}}\n"
          ],
          "name": "stdout"
        }
      ]
    },
    {
      "cell_type": "code",
      "metadata": {
        "id": "sOeNkevSvgtP"
      },
      "source": [
        "for i in data_sub:\n",
        "    if ('index' in i):\n",
        "        i.pop('index')\n",
        "    if ('name' in i):\n",
        "        i.pop('name')\n",
        "for i in data_sub:\n",
        "    if ('weather' in i['attributes']):\n",
        "        i['attributes'].pop('weather')\n",
        "    if ('timeofday' in i['attributes']):\n",
        "        i['attributes'].pop('timeofday')\n",
        "for i in data_sub:\n",
        "    labels_list = i['labels']\n",
        "    if labels_list:\n",
        "        for x in labels_list:\n",
        "            if ('poly2d' in x):\n",
        "                x.pop('poly2d')\n",
        "            if ('box3d' in x):\n",
        "                x.pop('box3d')\n",
        "            if ('box2d' in x):\n",
        "                x.pop('box2d')\n",
        "            if ('manualShape' in x):\n",
        "                x.pop('manualShape')\n",
        "            if ('score' in x):\n",
        "                x.pop('score')\n",
        "            if ('manualAttributes' in x):\n",
        "                x.pop('manualAttributes')\n",
        "            if ('id' in x):\n",
        "                x.pop('id')\n",
        "            if ('occluded' in x['attributes']):\n",
        "                x['attributes'].pop('occluded')\n",
        "            if ('truncated' in x['attributes']):\n",
        "                x['attributes'].pop('truncated')\n",
        "            if ('areaType' in x['attributes']):\n",
        "                x['attributes'].pop('areaType')\n",
        "            if ('laneDirection' in x['attributes']):\n",
        "                x['attributes'].pop('laneDirection')\n",
        "            if ('laneStyle' in x['attributes']):\n",
        "                x['attributes'].pop('laneStyle')\n"
      ],
      "execution_count": null,
      "outputs": []
    },
    {
      "cell_type": "code",
      "metadata": {
        "colab": {
          "base_uri": "https://localhost:8080/"
        },
        "id": "QataDzYvvoej",
        "outputId": "852ca2d4-8cc6-4f78-e9ea-5df81976942e"
      },
      "source": [
        "print(\"Video Name: \", data_sub[0]['videoName'])\n",
        "print(\"Time stamp: \", data_sub[0]['timestamp'])\n",
        "labels_list = (data_sub[5]['labels'])\n",
        "for i, x in enumerate(labels_list):\n",
        "    print(\"object: \", i, \" category: \", x['category'], \" attributes: \", x['attributes'])\n",
        "print(\"Scene: \", data_sub[0]['attributes']['scene'])"
      ],
      "execution_count": null,
      "outputs": [
        {
          "output_type": "stream",
          "text": [
            "Video Name:  00091078-59817bb0\n",
            "Time stamp:  10000\n",
            "object:  0  category:  traffic light  attributes:  {'trafficLightColor': [0, 'NA']}\n",
            "object:  1  category:  pedestrian  attributes:  {'trafficLightColor': [0, 'NA']}\n",
            "object:  2  category:  traffic light  attributes:  {'trafficLightColor': [0, 'NA']}\n",
            "object:  3  category:  traffic light  attributes:  {'trafficLightColor': [0, 'NA']}\n",
            "object:  4  category:  traffic light  attributes:  {'trafficLightColor': [1, 'G']}\n",
            "object:  5  category:  traffic sign  attributes:  {'trafficLightColor': [0, 'NA']}\n",
            "object:  6  category:  traffic sign  attributes:  {'trafficLightColor': [0, 'NA']}\n",
            "object:  7  category:  traffic sign  attributes:  {'trafficLightColor': [0, 'NA']}\n",
            "object:  8  category:  traffic sign  attributes:  {'trafficLightColor': [0, 'NA']}\n",
            "object:  9  category:  traffic sign  attributes:  {'trafficLightColor': [0, 'NA']}\n",
            "object:  10  category:  traffic sign  attributes:  {'trafficLightColor': [0, 'NA']}\n",
            "object:  11  category:  car  attributes:  {'trafficLightColor': [0, 'NA']}\n",
            "object:  12  category:  car  attributes:  {'trafficLightColor': [0, 'NA']}\n",
            "object:  13  category:  car  attributes:  {'trafficLightColor': [0, 'NA']}\n",
            "object:  14  category:  car  attributes:  {'trafficLightColor': [0, 'NA']}\n",
            "object:  15  category:  bus  attributes:  {'trafficLightColor': [0, 'NA']}\n",
            "object:  16  category:  car  attributes:  {'trafficLightColor': [0, 'NA']}\n",
            "Scene:  city street\n"
          ],
          "name": "stdout"
        }
      ]
    },
    {
      "cell_type": "code",
      "metadata": {
        "colab": {
          "base_uri": "https://localhost:8080/"
        },
        "id": "gMPyUYRgigf2",
        "outputId": "ed815428-0c44-4620-d7d4-aee1ed515368"
      },
      "source": [
        "len(data_sub)"
      ],
      "execution_count": null,
      "outputs": [
        {
          "output_type": "execute_result",
          "data": {
            "text/plain": [
              "4641"
            ]
          },
          "metadata": {
            "tags": []
          },
          "execution_count": 64
        }
      ]
    },
    {
      "cell_type": "markdown",
      "metadata": {
        "id": "lKnVi08xoGa0"
      },
      "source": [
        "## Computation of Set Difference"
      ]
    },
    {
      "cell_type": "code",
      "metadata": {
        "id": "-LdaUzQmvoxr"
      },
      "source": [
        "actor_scores = []\n",
        "scene_scores = []\n",
        "for i in range(len(data_sub)):\n",
        "    # get the id for the bdd100k data instance\n",
        "    vid = data_sub[i]['videoName']\n",
        "    # get the actors, attributes and scene from bdd100k\n",
        "\n",
        "    bdd100kActors = []\n",
        "    bdd100kScene = []\n",
        "    labels_list = (data_sub[i]['labels'])\n",
        "    bdd100kScene.append(data_sub[i]['attributes']['scene'])\n",
        "    if labels_list:\n",
        "        for i, x in enumerate(labels_list):\n",
        "            if (x['category'] == 'traffic sign'):\n",
        "                bdd100kScene.append('signs')\n",
        "            if (x['category'] == 'traffic light'):\n",
        "                bdd100kScene.append('light')\n",
        "                bdd100kScene.append('lights')\n",
        "                bdd100kScene.append('red light')\n",
        "                bdd100kScene.append('red traffic light')\n",
        "                bdd100kScene.append('traffic lights')\n",
        "                bdd100kScene.append('yellow light')\n",
        "                bdd100kScene.append('yellow traffic light')\n",
        "                bdd100kScene.append('green light')\n",
        "                bdd100kScene.append('green traffic light')\n",
        "                bdd100kScene.append('traffic signal')\n",
        "            if (x['category'] == 'bike'):\n",
        "                bdd100kActors.append('cyclist')\n",
        "            if (x['category'] == 'bus' or x['category'] == 'truck'):\n",
        "                bdd100kActors.append('heavy vehicle')\n",
        "            if (x['category'] == 'car' or x['category'] == 'motor'):\n",
        "                bdd100kActors.append('light vehicle')\n",
        "            if (x['category'] == 'person' or x['category'] == 'rider'):\n",
        "                bdd100kActors.append('pedestrian')\n",
        "\n",
        "    bdd100kActors_set = set(bdd100kActors)\n",
        "    bdd100kScene_set = set(bdd100kScene)\n",
        "    # get the corresponding bddx instance\n",
        "    bddx_instances = bddx.loc[bddx['BDDX-ids'] == vid]\n",
        "    if (len(bddx_instances) > 1):\n",
        "        continue\n",
        "    else:\n",
        "        # get the SDL object corresponding to the bddx instance that matches the bdd100k instance we're looking at\n",
        "        index = bddx_instances.index[0]\n",
        "        bddxScene = []\n",
        "        for i in sdlObjectList[index-1].scene.values():\n",
        "            if len(i) !=0:\n",
        "                for x in i:\n",
        "                    bddxScene.append(x)\n",
        "        bddx_actors = []\n",
        "        for a in range(len(sdlObjectList[index-1].actors)):\n",
        "            actorsIndex = str(a+1)\n",
        "            for j in range(len(sdlObjectList[index-1].actors[actorsIndex])):\n",
        "                bddx_actors.append(sdlObjectList[index-1].actors[actorsIndex][j].description)\n",
        "        set_actors = set(bddx_actors)\n",
        "        set_scene = set(bddxScene)\n",
        "        if ('ego' in set_actors):\n",
        "            set_actors.remove('ego')\n",
        "        if ('NaN' in set_actors):\n",
        "            set_actors.remove('NaN')\n",
        "        if ('NaN' in set_scene):\n",
        "            set_scene.remove('NaN')\n",
        "        actor_intersection = intersection(list(bdd100kActors_set), list(set_actors))\n",
        "        scene_intersection = intersection(list(bdd100kScene_set), list(set_scene))\n",
        "        actor_scores.append(len(set_actors) - len(actor_intersection))\n",
        "        scene_scores.append(len(scene_intersection))\n",
        "\n"
      ],
      "execution_count": null,
      "outputs": []
    },
    {
      "cell_type": "code",
      "metadata": {
        "colab": {
          "base_uri": "https://localhost:8080/"
        },
        "id": "DB0gRZi5bxDu",
        "outputId": "00432230-41dc-45b6-b457-a0591ffe4489"
      },
      "source": [
        "sum(actor_scores)/len(actor_scores)"
      ],
      "execution_count": null,
      "outputs": [
        {
          "output_type": "execute_result",
          "data": {
            "text/plain": [
              "0.27390515677636695"
            ]
          },
          "metadata": {
            "tags": []
          },
          "execution_count": 60
        }
      ]
    },
    {
      "cell_type": "code",
      "metadata": {
        "colab": {
          "base_uri": "https://localhost:8080/"
        },
        "id": "nrSKZn1Pv3PZ",
        "outputId": "a26ce732-a3cf-4c3e-f8fa-3dc6574bee9e"
      },
      "source": [
        "sum(scene_scores)/len(scene_scores)"
      ],
      "execution_count": null,
      "outputs": [
        {
          "output_type": "execute_result",
          "data": {
            "text/plain": [
              "0.15133454262762375"
            ]
          },
          "metadata": {
            "tags": []
          },
          "execution_count": 62
        }
      ]
    }
  ]
}